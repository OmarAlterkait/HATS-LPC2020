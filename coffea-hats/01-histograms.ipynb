{
 "cells": [
  {
   "cell_type": "markdown",
   "metadata": {},
   "source": [
    "Coffea Histograms\n",
    "===============\n",
    "\n",
    "In scientific python, histograms seem to be considered as a plot style, on equal footing with, e.g. scatter plots.\n",
    "It may well be that HEP is the only place where users need to plot *pre-binned* data, and thus must use histograms as persistent objects representing reduced data.  In Coffea, the [hist](https://coffeateam.github.io/coffea/modules/coffea.hist.html) subpackage provides a persistable mergable histogram object. This notebook will discuss a few ways that such objects can be manipulated.\n",
    "\n",
    "A histogram object roughly goes through three stages in its life:\n",
    "   - Filling\n",
    "   - Transformation (projection, rebinning, integrating)\n",
    "   - Plotting\n",
    "\n",
    "We'll go over examples of each stage in this notebook, and conclude with some styling examples."
   ]
  },
  {
   "cell_type": "markdown",
   "metadata": {},
   "source": [
    "## Filling\n",
    "Let's start with filling.  We'll use a random distribution [near and dear](https://en.wikipedia.org/wiki/ARGUS_distribution) to of b and c factory physicists, and have the numpy builtin [histogram function](https://numpy.org/doc/stable/reference/generated/numpy.histogram.html) do the work for us:"
   ]
  },
  {
   "cell_type": "code",
   "execution_count": 2,
   "metadata": {},
   "outputs": [
    {
     "name": "stdout",
     "output_type": "stream",
     "text": [
      "(array([ 23,  38,  84,  81, 109, 141, 145, 147, 137,  95]), array([0.03062168, 0.12687425, 0.22312683, 0.3193794 , 0.41563198,\n",
      "       0.51188455, 0.60813713, 0.7043897 , 0.80064228, 0.89689485,\n",
      "       0.99314743]))\n"
     ]
    }
   ],
   "source": [
    "import numpy as np\n",
    "from scipy.stats import argus\n",
    "\n",
    "vals = argus(chi=.5).rvs(size=1000)\n",
    "\n",
    "hist = np.histogram(vals)\n",
    "print(hist)"
   ]
  },
  {
   "cell_type": "markdown",
   "metadata": {},
   "source": [
    "So we're done, right?\n",
    "Probably not: we have more than 1000 events, and probably need to use some map-reduce paradigm to fill the histogram because we can't keep all 1 billion `vals` in memory.  So we need two things: a binning, so that all histograms that were independently created can be added, and the ability to add two histograms."
   ]
  },
  {
   "cell_type": "code",
   "execution_count": 3,
   "metadata": {},
   "outputs": [],
   "source": [
    "binning = np.linspace(0, 1, 50)\n",
    "\n",
    "def add_histos(h1, h2):\n",
    "    h1sumw, h1binning = h1\n",
    "    h2sumw, h2binning = h2\n",
    "    if h1binning.shape == h2binning.shape and np.all(h1binning==h2binning):\n",
    "        return h1sumw+h2sumw, h1binning\n",
    "    else:\n",
    "        raise ValueError(\"The histograms have inconsistent binning\")\n"
   ]
  },
  {
   "cell_type": "code",
   "execution_count": 4,
   "metadata": {},
   "outputs": [
    {
     "name": "stdout",
     "output_type": "stream",
     "text": [
      "(array([ 1,  3,  9,  8,  7, 17, 14, 17, 29, 12, 26, 34, 28, 31, 31, 33, 35,\n",
      "       35, 44, 42, 45, 47, 37, 46, 46, 54, 65, 58, 61, 58, 58, 50, 56, 59,\n",
      "       73, 68, 51, 69, 64, 66, 69, 56, 55, 51, 45, 46, 44, 30, 17]), array([0.        , 0.02040816, 0.04081633, 0.06122449, 0.08163265,\n",
      "       0.10204082, 0.12244898, 0.14285714, 0.16326531, 0.18367347,\n",
      "       0.20408163, 0.2244898 , 0.24489796, 0.26530612, 0.28571429,\n",
      "       0.30612245, 0.32653061, 0.34693878, 0.36734694, 0.3877551 ,\n",
      "       0.40816327, 0.42857143, 0.44897959, 0.46938776, 0.48979592,\n",
      "       0.51020408, 0.53061224, 0.55102041, 0.57142857, 0.59183673,\n",
      "       0.6122449 , 0.63265306, 0.65306122, 0.67346939, 0.69387755,\n",
      "       0.71428571, 0.73469388, 0.75510204, 0.7755102 , 0.79591837,\n",
      "       0.81632653, 0.83673469, 0.85714286, 0.87755102, 0.89795918,\n",
      "       0.91836735, 0.93877551, 0.95918367, 0.97959184, 1.        ]))\n"
     ]
    }
   ],
   "source": [
    "vals2 = argus(chi=.5).rvs(size=1000)\n",
    "\n",
    "hist1 = np.histogram(vals, bins=binning)\n",
    "hist2 = np.histogram(vals2, bins=binning)\n",
    "\n",
    "hist = add_histos(hist1, hist2)\n",
    "print(hist)"
   ]
  },
  {
   "cell_type": "markdown",
   "metadata": {},
   "source": [
    "So now we have everything we need to make our own equivalent to ROOT TH1, from a filling perspective:"
   ]
  },
  {
   "cell_type": "code",
   "execution_count": 5,
   "metadata": {},
   "outputs": [],
   "source": [
    "class myTH1:\n",
    "    def __init__(self, binning):\n",
    "        self._binning = binning\n",
    "        self._sumw = np.zeros(binning.size - 1)\n",
    "    \n",
    "    def fill(self, values, weights=None):\n",
    "        sumw, _ = np.histogram(values, bins=self._binning, weights=weights)\n",
    "        self._sumw += sumw\n",
    "    \n",
    "    def __add__(self, other):\n",
    "        if not isinstance(other, myTH1):\n",
    "            raise ValueError\n",
    "        if not np.array_equal(other._binning, self._binning):\n",
    "            raise ValueError(\"The histograms have inconsistent binning\")\n",
    "        out = myTH1(self._binning)\n",
    "        out._sumw = self._sumw + other._sumw\n",
    "        return out"
   ]
  },
  {
   "cell_type": "code",
   "execution_count": 6,
   "metadata": {},
   "outputs": [
    {
     "name": "stdout",
     "output_type": "stream",
     "text": [
      "[ 1.  3.  9.  8.  7. 17. 14. 17. 29. 12. 26. 34. 28. 31. 31. 33. 35. 35.\n",
      " 44. 42. 45. 47. 37. 46. 46. 54. 65. 58. 61. 58. 58. 50. 56. 59. 73. 68.\n",
      " 51. 69. 64. 66. 69. 56. 55. 51. 45. 46. 44. 30. 17.]\n"
     ]
    }
   ],
   "source": [
    "binning = np.linspace(0, 1, 50)\n",
    "\n",
    "h1 = myTH1(binning)\n",
    "h1.fill(vals)\n",
    "\n",
    "h2 = myTH1(binning)\n",
    "h2.fill(vals2)\n",
    "\n",
    "h = h1 + h2\n",
    "print(h._sumw)"
   ]
  },
  {
   "cell_type": "markdown",
   "metadata": {},
   "source": [
    "Homework: add `sumw2` support.\n",
    "\n",
    "Of course, we might want multidimensional histograms.  There is `np.histogramdd`:"
   ]
  },
  {
   "cell_type": "code",
   "execution_count": 7,
   "metadata": {},
   "outputs": [],
   "source": [
    "xyz = np.random.multivariate_normal(mean=[1, 3, 7], cov=np.eye(3), size=10000)\n",
    "\n",
    "xbins = np.linspace(-10, 10, 20)\n",
    "ybins = np.linspace(-10, 10, 20)\n",
    "zbins = np.linspace(-10, 10, 20)\n",
    "hnumpy = np.histogramdd(xyz, bins=(xbins, ybins, zbins))"
   ]
  },
  {
   "cell_type": "markdown",
   "metadata": {},
   "source": [
    "but we are becoming challenged by book-keeping of the variables.\n",
    "The [histogram class](https://coffeateam.github.io/coffea/api/coffea.hist.Hist.html#coffea.hist.Hist) in Coffea is designed to simplify this operation, and the eventual successor (for filling purposes) [boost-histogram](https://github.com/scikit-hep/boost-histogram#usage) has similar syntax.\n",
    "\n",
    "In the constructor you specify each axis, either as a numeric `Bin` axis or a categorical `Cat` axis. Each axis constructor takes arguments similar to ROOT TH1 constructors. One can pass an array to the `Bin` axis for non-uniform binning. Then the fill call is as simple as passing the respective arrays to `histo.fill`."
   ]
  },
  {
   "cell_type": "code",
   "execution_count": 8,
   "metadata": {},
   "outputs": [
    {
     "name": "stdout",
     "output_type": "stream",
     "text": [
      "<Hist (sample,x,y,z) instance at 0x7fd061d56ef0>\n"
     ]
    }
   ],
   "source": [
    "import coffea.hist as hist\n",
    "\n",
    "histo = hist.Hist(\"Counts\",\n",
    "                  hist.Cat(\"sample\", \"sample name\"),\n",
    "                  hist.Bin(\"x\", \"x value\", 20, -10, 10),\n",
    "                  hist.Bin(\"y\", \"y value\", 20, -10, 10),\n",
    "                  hist.Bin(\"z\", \"z value\", 20, -10, 10),\n",
    "                 )\n",
    "\n",
    "histo.fill(sample=\"sample 1\", x=xyz[:,0], y=xyz[:,1], z=xyz[:,2])\n",
    "\n",
    "# suppose we have another sample of xyz values\n",
    "xyz_sample2 = np.random.multivariate_normal(mean=[1, 3, 7], cov=np.eye(3), size=10000)\n",
    "\n",
    "# additionally, lets assume entries in sample 2 have some non-uniform weight equal to atan(distance from origin)\n",
    "weight = np.arctan(np.sqrt(np.power(xyz_sample2, 2).sum(axis=1)))\n",
    "\n",
    "# weight is a reserved keyword in Hist, and can be added to any fill() call\n",
    "histo.fill(sample=\"sample 2\", x=xyz_sample2[:,0], y=xyz_sample2[:,1], z=xyz_sample2[:,2], weight=weight)\n",
    "\n",
    "print(histo)"
   ]
  },
  {
   "cell_type": "code",
   "execution_count": 10,
   "metadata": {},
   "outputs": [
    {
     "name": "stdout",
     "output_type": "stream",
     "text": [
      "Help on class Hist in module coffea.hist.hist_tools:\n",
      "\n",
      "class Hist(coffea.processor.accumulator.AccumulatorABC)\n",
      " |  Specify a multidimensional histogram.\n",
      " |  \n",
      " |  Parameters\n",
      " |  ----------\n",
      " |      label : str\n",
      " |          A description of the meaning of the sum of weights\n",
      " |      ``*axes``\n",
      " |          positional list of `Cat` or `Bin` objects, denoting the axes of the histogram\n",
      " |      axes : collections.abc.Sequence\n",
      " |          list of `Cat` or `Bin` objects, denoting the axes of the histogram (overridden by ``*axes``)\n",
      " |      dtype : str\n",
      " |          Underlying numpy dtype to use for storing sum of weights\n",
      " |  \n",
      " |  Examples\n",
      " |  --------\n",
      " |  \n",
      " |  Creating a histogram with a sparse axis, and two dense axes::\n",
      " |  \n",
      " |      h = coffea.hist.Hist(\"Observed bird count\",\n",
      " |                           coffea.hist.Cat(\"species\", \"Bird species\"),\n",
      " |                           coffea.hist.Bin(\"x\", \"x coordinate [m]\", 20, -5, 5),\n",
      " |                           coffea.hist.Bin(\"y\", \"y coordinate [m]\", 20, -5, 5),\n",
      " |                           )\n",
      " |  \n",
      " |      # or\n",
      " |  \n",
      " |      h = coffea.hist.Hist(label=\"Observed bird count\",\n",
      " |                           axes=(coffea.hist.Cat(\"species\", \"Bird species\"),\n",
      " |                                 coffea.hist.Bin(\"x\", \"x coordinate [m]\", 20, -5, 5),\n",
      " |                                 coffea.hist.Bin(\"y\", \"y coordinate [m]\", 20, -5, 5),\n",
      " |                                )\n",
      " |                           )\n",
      " |  \n",
      " |      # or\n",
      " |  \n",
      " |      h = coffea.hist.Hist(axes=[coffea.hist.Cat(\"species\", \"Bird species\"),\n",
      " |                                 coffea.hist.Bin(\"x\", \"x coordinate [m]\", 20, -5, 5),\n",
      " |                                 coffea.hist.Bin(\"y\", \"y coordinate [m]\", 20, -5, 5),\n",
      " |                                ],\n",
      " |                           label=\"Observed bird count\",\n",
      " |                           )\n",
      " |  \n",
      " |  which produces:\n",
      " |  \n",
      " |  >>> h\n",
      " |  <Hist (species,x,y) instance at 0x10d84b550>\n",
      " |  \n",
      " |  Method resolution order:\n",
      " |      Hist\n",
      " |      coffea.processor.accumulator.AccumulatorABC\n",
      " |      builtins.object\n",
      " |  \n",
      " |  Methods defined here:\n",
      " |  \n",
      " |  __getitem__(self, keys)\n",
      " |  \n",
      " |  __init__(self, label, *axes, **kwargs)\n",
      " |      Initialize self.  See help(type(self)) for accurate signature.\n",
      " |  \n",
      " |  __repr__(self)\n",
      " |      Return repr(self).\n",
      " |  \n",
      " |  add(self, other)\n",
      " |      Add another histogram into this one, in-place\n",
      " |  \n",
      " |  axes(self)\n",
      " |      Get all axes in this histogram\n",
      " |  \n",
      " |  axis(self, axis_name)\n",
      " |      Get an ``Axis`` object\n",
      " |  \n",
      " |  clear(self)\n",
      " |      Clear all content in this histogram\n",
      " |  \n",
      " |  compatible(self, other)\n",
      " |      Checks if this histogram is compatible with another, i.e. they have identical binning\n",
      " |  \n",
      " |  copy(self, content=True)\n",
      " |      Create a deep copy\n",
      " |      \n",
      " |      Parameters\n",
      " |      ----------\n",
      " |          content : bool\n",
      " |              If set false, only the histogram definition is copied, resetting\n",
      " |              the sum of weights to zero\n",
      " |  \n",
      " |  dense_axes(self)\n",
      " |      All dense axes\n",
      " |  \n",
      " |  dense_dim(self)\n",
      " |      Dense dimension of this histogram (number of non-sparse axes)\n",
      " |  \n",
      " |  dim(self)\n",
      " |      Dimension of this histogram (number of axes)\n",
      " |  \n",
      " |  fill(self, **values)\n",
      " |      Fill sum of weights from columns\n",
      " |      \n",
      " |      Parameters\n",
      " |      ----------\n",
      " |          ``**values``\n",
      " |              Keyword arguments, one for each axis name, of either flat numpy arrays\n",
      " |              (for dense dimensions) or literals (for sparse dimensions) which will\n",
      " |              be used to fill bins at the corresponding indices.\n",
      " |      \n",
      " |      Note\n",
      " |      ----\n",
      " |          The reserved keyword ``weight``, if specified, will increment sum of weights\n",
      " |          by the given column values, which must be broadcastable to the same dimension as all other\n",
      " |          columns.  Upon first use, this will trigger the storage of the sum of squared weights.\n",
      " |      \n",
      " |      \n",
      " |      Examples\n",
      " |      --------\n",
      " |      \n",
      " |      Filling the histogram from the `Hist` example:\n",
      " |      \n",
      " |      >>> h.fill(species='ducks', x=np.random.normal(size=10), y=np.random.normal(size=10), weight=np.ones(size=10) * 3)\n",
      " |  \n",
      " |  group(self, old_axes, new_axis, mapping, overflow='none')\n",
      " |      Group a set of slices on old axes into a single new axis\n",
      " |      \n",
      " |      Parameters\n",
      " |      ----------\n",
      " |          old_axes\n",
      " |              Axis or tuple of axes which are being grouped\n",
      " |          new_axis\n",
      " |              A new sparse dimension definition, e.g. a `Cat` instance\n",
      " |          mapping : dict\n",
      " |              A mapping ``{'new_bin': (slice, ...), ...}`` where each\n",
      " |              slice is on the axes being re-binned.  In the case of\n",
      " |              a single axis for ``old_axes``, ``{'new_bin': slice, ...}``\n",
      " |              is admissible.\n",
      " |          overflow : str\n",
      " |              See `sum` description for meaning of allowed values\n",
      " |              Default is to *not include* overflow bins\n",
      " |      \n",
      " |      Returns a new histogram object\n",
      " |  \n",
      " |  identifiers(self, axis, overflow='none')\n",
      " |      Return a list of identifiers for an axis\n",
      " |      \n",
      " |      Parameters\n",
      " |      ----------\n",
      " |          axis\n",
      " |              Axis name or Axis object\n",
      " |          overflow\n",
      " |              See `sum` description for meaning of allowed values\n",
      " |  \n",
      " |  identity(self)\n",
      " |      The identity (zero value) of this accumulator\n",
      " |  \n",
      " |  integrate(self, axis_name, int_range=slice(None, None, None), overflow='none')\n",
      " |      Integrates current histogram along one dimension\n",
      " |      \n",
      " |      Parameters\n",
      " |      ----------\n",
      " |          axis_name : str or Axis\n",
      " |              Which dimension to reduce on\n",
      " |          int_range : slice\n",
      " |              Any slice, list, string, or other object that the axis will understand\n",
      " |              Default is to integrate over the whole range\n",
      " |          overflow : str\n",
      " |              See `sum` description for meaning of allowed values\n",
      " |              Default is to *not include* overflow bins\n",
      " |  \n",
      " |  project(self, *axes, **kwargs)\n",
      " |      Project histogram onto a subset of its axes\n",
      " |      \n",
      " |      Parameters\n",
      " |      ----------\n",
      " |          ``*axes`` : str or Axis\n",
      " |              Positional list of axes to project on to\n",
      " |          overflow : str\n",
      " |              Controls behavior of integration over remaining axes.\n",
      " |              See `sum` description for meaning of allowed values\n",
      " |              Default is to *not include* overflow bins\n",
      " |  \n",
      " |  rebin(self, old_axis, new_axis)\n",
      " |      Rebin a dense axis\n",
      " |      \n",
      " |      This function will construct the mapping from old to new axis, and\n",
      " |      constructs a new histogram, rebinning the sum of weights along that dimension.\n",
      " |      \n",
      " |      Note\n",
      " |      ----\n",
      " |      No interpolation is performed, so the user must be sure the old\n",
      " |      and new axes have compatible bin boundaries, e.g. that they evenly\n",
      " |      divide each other.\n",
      " |      \n",
      " |      Parameters\n",
      " |      ----------\n",
      " |          old_axis : str or Axis\n",
      " |              Axis to rebin\n",
      " |          new_axis : str or Axis or int\n",
      " |              A DenseAxis object defining the new axis (e.g. a `Bin` instance).\n",
      " |              If a number N is supplied, the old axis edges are downsampled by N,\n",
      " |              resulting in a histogram with ``old_nbins // N`` bins.\n",
      " |      \n",
      " |      Returns a new `Hist` object.\n",
      " |  \n",
      " |  remove(self, bins, axis)\n",
      " |      Remove bins from a sparse axis\n",
      " |      \n",
      " |      Parameters\n",
      " |      ----------\n",
      " |          bins : iterable\n",
      " |              A list of bin identifiers to remove\n",
      " |          axis : str or Axis\n",
      " |              Axis name or SparseAxis instance\n",
      " |      \n",
      " |      Returns a *copy* of the histogram with specified bins removed, not an in-place operation\n",
      " |  \n",
      " |  scale(self, factor, axis=None)\n",
      " |      Scale histogram in-place by factor\n",
      " |      \n",
      " |      Parameters\n",
      " |      ----------\n",
      " |          factor : float or dict\n",
      " |              A number or mapping of identifier to number\n",
      " |          axis : optional\n",
      " |              Which (sparse) axis the dict applies to\n",
      " |      \n",
      " |      Examples\n",
      " |      --------\n",
      " |      This function is useful to quickly reweight according to some\n",
      " |      weight mapping along a sparse axis, such as the ``species`` axis\n",
      " |      in the `Hist` example:\n",
      " |      \n",
      " |      >>> h.scale({'ducks': 0.3, 'geese': 1.2}, axis='species')\n",
      " |  \n",
      " |  sparse_axes(self)\n",
      " |      All sparse axes\n",
      " |  \n",
      " |  sparse_dim(self)\n",
      " |      Sparse dimension of this histogram (number of sparse axes)\n",
      " |  \n",
      " |  sparse_nbins(self)\n",
      " |      Total number of sparse bins\n",
      " |  \n",
      " |  sum(self, *axes, **kwargs)\n",
      " |      Integrates out a set of axes, producing a new histogram\n",
      " |      \n",
      " |      Parameters\n",
      " |      ----------\n",
      " |          ``*axes``\n",
      " |              Positional list of axes to integrate out (either a string or an Axis object)\n",
      " |      \n",
      " |          overflow : {'none', 'under', 'over', 'all', 'allnan'}, optional\n",
      " |              How to treat the overflow bins in the sum.  Only applies to dense axes.\n",
      " |              'all' includes both under- and over-flow but not nan-flow bins.\n",
      " |              Default is 'none'.\n",
      " |  \n",
      " |  values(self, sumw2=False, overflow='none')\n",
      " |      Extract the sum of weights arrays from this histogram\n",
      " |      \n",
      " |      Parameters\n",
      " |      ----------\n",
      " |          sumw2 : bool\n",
      " |              If True, frequencies is a tuple of arrays (sum weights, sum squared weights)\n",
      " |          overflow\n",
      " |              See `sum` description for meaning of allowed values\n",
      " |      \n",
      " |      Returns a mapping ``{(sparse identifier, ...): np.array(...), ...}``\n",
      " |      where each array has dimension `dense_dim` and shape matching\n",
      " |      the number of bins per axis, plus 0-3 overflow bins depending\n",
      " |      on the ``overflow`` argument.\n",
      " |  \n",
      " |  ----------------------------------------------------------------------\n",
      " |  Data descriptors defined here:\n",
      " |  \n",
      " |  fields\n",
      " |      This is a stub for histbook compatibility\n",
      " |  \n",
      " |  label\n",
      " |      A label describing the meaning of the sum of weights\n",
      " |  \n",
      " |  ----------------------------------------------------------------------\n",
      " |  Data and other attributes defined here:\n",
      " |  \n",
      " |  DEFAULT_DTYPE = 'd'\n",
      " |  \n",
      " |  __abstractmethods__ = frozenset()\n",
      " |  \n",
      " |  ----------------------------------------------------------------------\n",
      " |  Methods inherited from coffea.processor.accumulator.AccumulatorABC:\n",
      " |  \n",
      " |  __add__(self, other)\n",
      " |  \n",
      " |  __iadd__(self, other)\n",
      " |  \n",
      " |  __radd__(self, other)\n",
      " |  \n",
      " |  ----------------------------------------------------------------------\n",
      " |  Data descriptors inherited from coffea.processor.accumulator.AccumulatorABC:\n",
      " |  \n",
      " |  __dict__\n",
      " |      dictionary for instance variables (if defined)\n",
      " |  \n",
      " |  __weakref__\n",
      " |      list of weak references to the object (if defined)\n",
      "\n"
     ]
    }
   ],
   "source": [
    "# For more details, look at:\n",
    "help(hist.Hist)\n",
    "# help(hist.Bin)\n",
    "# help(hist.Cat)"
   ]
  },
  {
   "cell_type": "markdown",
   "metadata": {},
   "source": [
    "## Transformation"
   ]
  },
  {
   "cell_type": "markdown",
   "metadata": {},
   "source": [
    "Here are a few examples of transformations on multidimensional histograms in Coffea.  For each, the docstring (`help(function)` or shift+tab in Jupyter) provides useful info."
   ]
  },
  {
   "cell_type": "code",
   "execution_count": 14,
   "metadata": {},
   "outputs": [
    {
     "data": {
      "text/plain": [
       "<Hist (sample,y,z) instance at 0x7fd05ac2c898>"
      ]
     },
     "execution_count": 14,
     "metadata": {},
     "output_type": "execute_result"
    }
   ],
   "source": [
    "# sum all x bins within nominal range (-10, 10)\n",
    "histo.sum(\"x\", overflow='none')"
   ]
  },
  {
   "cell_type": "markdown",
   "metadata": {},
   "source": [
    "There is some analog to fancy array slicing for histogram objects, which is supported (with reasonable consistency) in Coffea, where the slice boundaries are physical axis values, rather than bin indices.  All values outside the slice range are merged into overflow bins.\n",
    "\n",
    "For a lengthy discussion on possible slicing syntax for the future, see [boost-histogram#35](https://github.com/scikit-hep/boost-histogram/issues/35)."
   ]
  },
  {
   "cell_type": "code",
   "execution_count": 21,
   "metadata": {},
   "outputs": [
    {
     "data": {
      "text/plain": [
       "<Hist (sample,x,y,z) instance at 0x7fd05abf6358>"
      ]
     },
     "metadata": {},
     "output_type": "display_data"
    },
    {
     "data": {
      "text/plain": [
       "[<Interval ((-inf, 4)) instance at 0x7fd061d4b978>,\n",
       " <Interval ([4, 5)) instance at 0x7fd061d4b7b8>,\n",
       " <Interval ([5, 6)) instance at 0x7fd061d4bc88>,\n",
       " <Interval ([6, 7)) instance at 0x7fd061d4be48>,\n",
       " <Interval ([7, 8)) instance at 0x7fd061d4b438>,\n",
       " <Interval ([8, 9)) instance at 0x7fd05abf4b00>,\n",
       " <Interval ([9, 10)) instance at 0x7fd05abf4828>,\n",
       " <Interval ([10, inf)) instance at 0x7fd05abf4710>]"
      ]
     },
     "metadata": {},
     "output_type": "display_data"
    }
   ],
   "source": [
    "sliced = histo[:,0:,4:,0:]\n",
    "display(sliced)\n",
    "display(sliced.identifiers(\"y\", overflow='all'))"
   ]
  },
  {
   "cell_type": "code",
   "execution_count": 29,
   "metadata": {},
   "outputs": [
    {
     "data": {
      "text/plain": [
       "<Hist (sample,x,z) instance at 0x7fd05abf6fd0>"
      ]
     },
     "execution_count": 29,
     "metadata": {},
     "output_type": "execute_result"
    }
   ],
   "source": [
    "# integrate y bins from 0 to +10\n",
    "histo.integrate(\"y\", slice(0, 10))"
   ]
  },
  {
   "cell_type": "code",
   "execution_count": 30,
   "metadata": {},
   "outputs": [
    {
     "data": {
      "text/plain": [
       "<Hist (sample,x,y,znew) instance at 0x7fd05abf6d68>"
      ]
     },
     "execution_count": 30,
     "metadata": {},
     "output_type": "execute_result"
    }
   ],
   "source": [
    "# rebin z axis by providing a new axis definition\n",
    "histo.rebin(\"z\", hist.Bin(\"znew\", \"rebinned z value\", [-10, -6, 6, 10]))"
   ]
  },
  {
   "cell_type": "code",
   "execution_count": 31,
   "metadata": {},
   "outputs": [
    {
     "data": {
      "text/plain": [
       "<Hist (cat,x,y,z) instance at 0x7fd05abf9240>"
      ]
     },
     "execution_count": 31,
     "metadata": {},
     "output_type": "execute_result"
    }
   ],
   "source": [
    "# merge categorical axes\n",
    "mapping = {\n",
    "    'all samples': ['sample 1', 'sample 2'],\n",
    "    'just sample 1': ['sample 1'],\n",
    "}\n",
    "histo.group(\"sample\", hist.Cat(\"cat\", \"new category\"), mapping)"
   ]
  },
  {
   "cell_type": "code",
   "execution_count": 32,
   "metadata": {},
   "outputs": [],
   "source": [
    "# scale entire histogram by 3 (in-place)\n",
    "histo.scale(3.)"
   ]
  },
  {
   "cell_type": "code",
   "execution_count": 33,
   "metadata": {},
   "outputs": [],
   "source": [
    "# scale samples by different values (also in-place)\n",
    "scales = {\n",
    "    'sample 1': 1.2,\n",
    "    'sample 2': 0.2,\n",
    "}\n",
    "histo.scale(scales, axis='sample')"
   ]
  },
  {
   "cell_type": "code",
   "execution_count": 34,
   "metadata": {},
   "outputs": [
    {
     "data": {
      "text/plain": [
       "[<StringBin (sample 1) instance at 0x7fd061d56fd0>,\n",
       " <StringBin (sample 2) instance at 0x7fd061d56f98>]"
      ]
     },
     "metadata": {},
     "output_type": "display_data"
    },
    {
     "data": {
      "text/plain": [
       "[<Interval ([-10, -9)) instance at 0x7fd05abfb208>,\n",
       " <Interval ([-9, -8)) instance at 0x7fd05abfb470>,\n",
       " <Interval ([-8, -7)) instance at 0x7fd05abfb550>,\n",
       " <Interval ([-7, -6)) instance at 0x7fd05abfb588>,\n",
       " <Interval ([-6, -5)) instance at 0x7fd05abfb5f8>,\n",
       " <Interval ([-5, -4)) instance at 0x7fd05abfb5c0>,\n",
       " <Interval ([-4, -3)) instance at 0x7fd05abfb4e0>,\n",
       " <Interval ([-3, -2)) instance at 0x7fd05abfb6d8>,\n",
       " <Interval ([-2, -1)) instance at 0x7fd05abfb390>,\n",
       " <Interval ([-1, 0)) instance at 0x7fd05abfb780>,\n",
       " <Interval ([0, 1)) instance at 0x7fd05abfb630>,\n",
       " <Interval ([1, 2)) instance at 0x7fd05abfb748>,\n",
       " <Interval ([2, 3)) instance at 0x7fd05abfb6a0>,\n",
       " <Interval ([3, 4)) instance at 0x7fd05abfb7b8>,\n",
       " <Interval ([4, 5)) instance at 0x7fd05abfb7f0>,\n",
       " <Interval ([5, 6)) instance at 0x7fd05abfb828>,\n",
       " <Interval ([6, 7)) instance at 0x7fd05abfb860>,\n",
       " <Interval ([7, 8)) instance at 0x7fd05abfb898>,\n",
       " <Interval ([8, 9)) instance at 0x7fd05abfb8d0>,\n",
       " <Interval ([9, 10)) instance at 0x7fd05abfb908>]"
      ]
     },
     "metadata": {},
     "output_type": "display_data"
    }
   ],
   "source": [
    "# useful debugging tool: print bins, aka 'identifiers'\n",
    "display(histo.identifiers('sample'))\n",
    "display(histo.identifiers('x'))"
   ]
  },
  {
   "cell_type": "code",
   "execution_count": 35,
   "metadata": {},
   "outputs": [
    {
     "data": {
      "text/plain": [
       "{('sample 1',): array([    0.  ,     0.  ,     0.  ,     0.  ,     0.  ,     0.  ,\n",
       "            0.  ,     0.  ,     0.  ,     0.  ,     0.  ,     0.  ,\n",
       "            0.  ,   103.68,  2643.84, 17794.08, 45152.64, 43636.32,\n",
       "        17366.4 ,  2760.48]),\n",
       " ('sample 2',): array([   0.        ,    0.        ,    0.        ,    0.        ,\n",
       "           0.        ,    0.        ,    0.        ,    0.        ,\n",
       "           0.        ,    0.        ,    0.        ,    0.        ,\n",
       "           0.        ,    3.95824161,   95.59148147,  673.94694611,\n",
       "        1798.26833479, 1820.15631757,  682.08860668,  112.75632459])}"
      ]
     },
     "execution_count": 35,
     "metadata": {},
     "output_type": "execute_result"
    }
   ],
   "source": [
    "# bin contents are accessed using values\n",
    "histo.sum('x', 'y').values(sumw2=False)"
   ]
  },
  {
   "cell_type": "code",
   "execution_count": 28,
   "metadata": {},
   "outputs": [],
   "source": [
    "# data can be exported to ROOT via uproot, but only 1D\n",
    "import uproot\n",
    "import os\n",
    "\n",
    "if os.path.exists(\"output.root\"):\n",
    "    os.remove(\"output.root\")\n",
    "\n",
    "outputfile = uproot.create(\"output.root\")\n",
    "h = histo.sum('x', 'y')\n",
    "for sample in h.identifiers('sample'):\n",
    "    outputfile[sample.name] = hist.export1d(h.integrate('sample', sample))\n",
    "outputfile.close()"
   ]
  },
  {
   "cell_type": "markdown",
   "metadata": {},
   "source": [
    "## Plotting\n",
    "The most integrated plotting utility in the scientific python ecosystem, by far, is [matplotlib](https://matplotlib.org/).  However, as we will see, it is not tailored to HEP needs.\n",
    "\n",
    "Let's start by looking at basic mpl histogramming."
   ]
  },
  {
   "cell_type": "code",
   "execution_count": 36,
   "metadata": {},
   "outputs": [],
   "source": [
    "%matplotlib inline\n",
    "import matplotlib.pyplot as plt"
   ]
  },
  {
   "cell_type": "code",
   "execution_count": 37,
   "metadata": {},
   "outputs": [
    {
     "data": {
      "image/png": "[encoded data removed]",
      "text/plain": [
       "<Figure size 432x288 with 1 Axes>"
      ]
     },
     "metadata": {
      "needs_background": "light"
     },
     "output_type": "display_data"
    }
   ],
   "source": [
    "vals = argus(chi=.5).rvs(size=1000)\n",
    "\n",
    "# notice the semicolon, which prevents display of the return values\n",
    "plt.hist(vals);"
   ]
  },
  {
   "cell_type": "markdown",
   "metadata": {},
   "source": [
    "Suppose we want to plot pre-binned data, for example from our earlier `np.histogram` usage.  Here we start running into the edge of typical mpl usage.  As mentioned before, apparently HEP is the only regular user of pre-binned histograms."
   ]
  },
  {
   "cell_type": "code",
   "execution_count": 38,
   "metadata": {},
   "outputs": [
    {
     "data": {
      "image/png": "[encoded data removed]",
      "text/plain": [
       "<Figure size 432x288 with 1 Axes>"
      ]
     },
     "metadata": {
      "needs_background": "light"
     },
     "output_type": "display_data"
    }
   ],
   "source": [
    "binning = np.linspace(0, 1, 50)\n",
    "\n",
    "h1vals, h1bins = np.histogram(vals, bins=binning)\n",
    "plt.step(x=h1bins[:-1], y=h1vals, where='post');"
   ]
  },
  {
   "cell_type": "markdown",
   "metadata": {},
   "source": [
    "To facilitate these operations, there is a package called [mplhep](https://github.com/scikit-hep/mplhep). This package is available standlaone, but it is also used internally by the `coffea.hist` subpackage to provide several convenience functions to aid in plotting `Hist` objects:\n",
    "\n",
    " * [plot1d](https://coffeateam.github.io/coffea/api/coffea.hist.plot1d.html#coffea.hist.plot1d): Create a 1D plot from a 1D or 2D Hist object\n",
    "\n",
    " * [plotratio](https://coffeateam.github.io/coffea/api/coffea.hist.plotratio.html#coffea.hist.plotratio): Create a ratio plot, dividing two compatible histograms\n",
    "\n",
    " * [plot2d](https://coffeateam.github.io/coffea/api/coffea.hist.plot2d.html#coffea.hist.plot2d): Create a 2D plot from a 2D Hist object\n",
    "\n",
    " * [plotgrid](https://coffeateam.github.io/coffea/api/coffea.hist.plotgrid.html#coffea.hist.plotgrid): Create a grid of plots, enumerating identifiers on up to 3 axes\n",
    " \n",
    "Below are some simple examples of using each function on our `histo` object."
   ]
  },
  {
   "cell_type": "code",
   "execution_count": 39,
   "metadata": {},
   "outputs": [
    {
     "name": "stderr",
     "output_type": "stream",
     "text": [
      "/home/cms.oalterka/HATS-LPC2020/coffea-hats/coffea-hats/lib64/python3.6/site-packages/mplhep/_deprecate.py:56: DeprecationWarning: kwarg \"densitymode\" in function \"histplot\" is deprecated and may be removed in future versions: \"unit\"mode is not useful\n",
      "  return func(*args, **kwargs)\n"
     ]
    },
    {
     "data": {
      "image/png": "[encoded data removed]",
      "text/plain": [
       "<Figure size 432x288 with 1 Axes>"
      ]
     },
     "metadata": {
      "needs_background": "light"
     },
     "output_type": "display_data"
    }
   ],
   "source": [
    "hist.plot1d(histo.sum(\"x\", \"y\"), overlay='sample');"
   ]
  },
  {
   "cell_type": "code",
   "execution_count": 40,
   "metadata": {},
   "outputs": [
    {
     "name": "stderr",
     "output_type": "stream",
     "text": [
      "/home/cms.oalterka/HATS-LPC2020/coffea-hats/coffea-hats/lib64/python3.6/site-packages/mplhep/_deprecate.py:56: DeprecationWarning: kwarg \"densitymode\" in function \"histplot\" is deprecated and may be removed in future versions: \"unit\"mode is not useful\n",
      "  return func(*args, **kwargs)\n"
     ]
    },
    {
     "data": {
      "image/png": "[encoded data removed]",
      "text/plain": [
       "<Figure size 432x288 with 1 Axes>"
      ]
     },
     "metadata": {
      "needs_background": "light"
     },
     "output_type": "display_data"
    }
   ],
   "source": [
    "hist.plot1d(histo.sum(\"x\", \"y\"), overlay='sample', stack=True);"
   ]
  },
  {
   "cell_type": "code",
   "execution_count": 41,
   "metadata": {},
   "outputs": [
    {
     "data": {
      "image/png": "[encoded data removed]",
      "text/plain": [
       "<Figure size 432x288 with 2 Axes>"
      ]
     },
     "metadata": {
      "needs_background": "light"
     },
     "output_type": "display_data"
    }
   ],
   "source": [
    "hist.plot2d(histo.sum('x', 'sample'), xaxis='y');"
   ]
  },
  {
   "cell_type": "code",
   "execution_count": 42,
   "metadata": {},
   "outputs": [
    {
     "name": "stderr",
     "output_type": "stream",
     "text": [
      "/home/cms.oalterka/HATS-LPC2020/coffea-hats/coffea-hats/lib64/python3.6/site-packages/mplhep/_deprecate.py:56: DeprecationWarning: kwarg \"densitymode\" in function \"histplot\" is deprecated and may be removed in future versions: \"unit\"mode is not useful\n",
      "  return func(*args, **kwargs)\n",
      "/home/cms.oalterka/HATS-LPC2020/coffea-hats/coffea-hats/lib64/python3.6/site-packages/mplhep/_deprecate.py:56: DeprecationWarning: kwarg \"densitymode\" in function \"histplot\" is deprecated and may be removed in future versions: \"unit\"mode is not useful\n",
      "  return func(*args, **kwargs)\n",
      "/home/cms.oalterka/HATS-LPC2020/coffea-hats/coffea-hats/lib64/python3.6/site-packages/mplhep/_deprecate.py:56: DeprecationWarning: kwarg \"densitymode\" in function \"histplot\" is deprecated and may be removed in future versions: \"unit\"mode is not useful\n",
      "  return func(*args, **kwargs)\n",
      "/home/cms.oalterka/HATS-LPC2020/coffea-hats/coffea-hats/lib64/python3.6/site-packages/mplhep/_deprecate.py:56: DeprecationWarning: kwarg \"densitymode\" in function \"histplot\" is deprecated and may be removed in future versions: \"unit\"mode is not useful\n",
      "  return func(*args, **kwargs)\n"
     ]
    },
    {
     "data": {
      "image/png": "[encoded data removed]",
      "text/plain": [
       "<Figure size 864x576 with 4 Axes>"
      ]
     },
     "metadata": {
      "needs_background": "light"
     },
     "output_type": "display_data"
    }
   ],
   "source": [
    "# make coarse binned hist and look at several distributions\n",
    "hnew = (\n",
    "    histo\n",
    "    .rebin(\"y\", hist.Bin(\"ynew\", \"rebinned y value\", [0, 3, 5]))\n",
    "    .rebin(\"z\", hist.Bin(\"znew\", \"rebinned z value\", [5, 8, 10]))\n",
    ")\n",
    "\n",
    "hist.plotgrid(hnew, row='ynew', col='znew', overlay='sample');"
   ]
  },
  {
   "cell_type": "code",
   "execution_count": 43,
   "metadata": {
    "scrolled": false
   },
   "outputs": [
    {
     "name": "stderr",
     "output_type": "stream",
     "text": [
      "/home/cms.oalterka/HATS-LPC2020/coffea-hats/coffea-hats/lib64/python3.6/site-packages/coffea/hist/plot.py:359: RuntimeWarning: invalid value encountered in true_divide\n",
      "  rsumw = sumw_num / sumw_denom\n"
     ]
    },
    {
     "data": {
      "text/plain": [
       "(-10.0, 10.0)"
      ]
     },
     "execution_count": 43,
     "metadata": {},
     "output_type": "execute_result"
    },
    {
     "data": {
      "image/png": "[encoded data removed]",
      "text/plain": [
       "<Figure size 432x288 with 1 Axes>"
      ]
     },
     "metadata": {
      "needs_background": "light"
     },
     "output_type": "display_data"
    }
   ],
   "source": [
    "numerator = histo.integrate('sample', 'sample 1').sum('y', 'z')\n",
    "denominator = histo.sum('sample', 'y', 'z')\n",
    "\n",
    "numerator.label = r'$\\epsilon$'\n",
    "ax = hist.plotratio(\n",
    "    num=numerator,\n",
    "    denom=denominator,\n",
    "    error_opts={'color': 'k', 'marker': '.'},\n",
    "    unc='clopper-pearson'\n",
    ")\n",
    "ax.set_ylim(0.6, 1.)\n",
    "ax.set_xlim(-10, 10)"
   ]
  },
  {
   "cell_type": "markdown",
   "metadata": {},
   "source": [
    "## Styling\n",
    "\n",
    "We've covered the basics of plotting, now let's go over some styling options. To make things more interesting, we'll load some electron and muon Lorentz vectors from simulated $H\\rightarrow ZZ^{*}$ events into awkward arrays and then plot some kinematic quantities for them, making liberal use of the matplotlib styling options which are exposed through the coffea plotting utilities."
   ]
  },
  {
   "cell_type": "code",
   "execution_count": 44,
   "metadata": {},
   "outputs": [
    {
     "name": "stdout",
     "output_type": "stream",
     "text": [
      "  % Total    % Received % Xferd  Average Speed   Time    Time     Time  Current\n",
      "                                 Dload  Upload   Total   Spent    Left  Speed\n",
      "100  212k  100  212k    0     0  2522k      0 --:--:-- --:--:-- --:--:-- 2533k\n"
     ]
    }
   ],
   "source": [
    "!curl -O http://scikit-hep.org/uproot/examples/HZZ.root"
   ]
  },
  {
   "cell_type": "code",
   "execution_count": 45,
   "metadata": {},
   "outputs": [
    {
     "name": "stdout",
     "output_type": "stream",
     "text": [
      "Avg. electrons/event: 0.07063197026022305\n",
      "Avg. muons/event: 1.579925650557621\n"
     ]
    }
   ],
   "source": [
    "import uproot\n",
    "import awkward\n",
    "from uproot_methods import TLorentzVectorArray\n",
    "\n",
    "fin = uproot.open(\"HZZ.root\")\n",
    "tree = fin[\"events\"]\n",
    "\n",
    "# let's build the lepton arrays back into objects\n",
    "# in the future, some of this verbosity can be reduced\n",
    "arrays = {k.replace('Electron_', ''): v for k,v in tree.arrays(\"Electron_*\", namedecode='ascii').items()}\n",
    "p4 = TLorentzVectorArray.from_cartesian(\n",
    "    arrays.pop('Px'),\n",
    "    arrays.pop('Py'),\n",
    "    arrays.pop('Pz'),\n",
    "    arrays.pop('E'),\n",
    ")\n",
    "electrons = awkward.JaggedArray.zip(p4=p4, **arrays)\n",
    "\n",
    "arrays = {k.replace('Muon_', ''): v for k,v in tree.arrays(\"Muon_*\", namedecode='ascii').items()}\n",
    "p4 = TLorentzVectorArray.from_cartesian(\n",
    "    arrays.pop('Px'),\n",
    "    arrays.pop('Py'),\n",
    "    arrays.pop('Pz'),\n",
    "    arrays.pop('E'),\n",
    ")\n",
    "muons = awkward.JaggedArray.zip(p4=p4, **arrays)\n",
    "\n",
    "print(\"Avg. electrons/event:\", electrons.counts.sum()/tree.numentries)\n",
    "print(\"Avg. muons/event:\", muons.counts.sum()/tree.numentries)"
   ]
  },
  {
   "cell_type": "code",
   "execution_count": 46,
   "metadata": {},
   "outputs": [
    {
     "name": "stderr",
     "output_type": "stream",
     "text": [
      "<>:5: DeprecationWarning: invalid escape sequence \\e\n",
      "<>:5: DeprecationWarning: invalid escape sequence \\e\n",
      "<>:5: DeprecationWarning: invalid escape sequence \\e\n",
      "<ipython-input-46-4468057f342e>:5: DeprecationWarning: invalid escape sequence \\e\n",
      "  hist.Bin(\"eta\", \"$\\eta$\", [-2.5, -1.4, 0, 1.4, 2.5]),\n"
     ]
    }
   ],
   "source": [
    "lepton_kinematics = hist.Hist(\n",
    "    \"Events\",\n",
    "    hist.Cat(\"flavor\", \"Lepton flavor\"),\n",
    "    hist.Bin(\"pt\", \"$p_{T}$\", 19, 10, 100),\n",
    "    hist.Bin(\"eta\", \"$\\eta$\", [-2.5, -1.4, 0, 1.4, 2.5]),\n",
    ")\n",
    "\n",
    "# Pass keyword arguments to fill, all arrays must be flat numpy arrays\n",
    "# User is responsible for ensuring all arrays have same jagged structure!\n",
    "lepton_kinematics.fill(\n",
    "    flavor=\"electron\",\n",
    "    pt=electrons['p4'].pt.flatten(),\n",
    "    eta=electrons['p4'].eta.flatten()\n",
    ")\n",
    "lepton_kinematics.fill(\n",
    "    flavor=\"muon\",\n",
    "    pt=muons['p4'].pt.flatten(),\n",
    "    eta=muons['p4'].eta.flatten()\n",
    ")"
   ]
  },
  {
   "cell_type": "code",
   "execution_count": 48,
   "metadata": {},
   "outputs": [
    {
     "name": "stderr",
     "output_type": "stream",
     "text": [
      "/home/cms.oalterka/HATS-LPC2020/coffea-hats/coffea-hats/lib64/python3.6/site-packages/mplhep/_deprecate.py:56: DeprecationWarning: kwarg \"densitymode\" in function \"histplot\" is deprecated and may be removed in future versions: \"unit\"mode is not useful\n",
      "  return func(*args, **kwargs)\n"
     ]
    },
    {
     "data": {
      "image/png": "[encoded data removed]",
      "text/plain": [
       "<Figure size 432x288 with 1 Axes>"
      ]
     },
     "metadata": {
      "needs_background": "light"
     },
     "output_type": "display_data"
    }
   ],
   "source": [
    "# Now we can start to manipulate this single histogram to plot different views of the data\n",
    "# here we look at lepton pt for all eta\n",
    "lepton_pt = lepton_kinematics.integrate(\"eta\")\n",
    "\n",
    "ax = hist.plot1d(\n",
    "    lepton_pt,\n",
    "    overlay=\"flavor\",\n",
    "    stack=True,\n",
    "    fill_opts={'alpha': .5, 'edgecolor': (0,0,0,0.3)}\n",
    ")\n",
    "# all plot calls return the matplotlib axes object, from which\n",
    "# you can edit features afterwards using matplotlib object-oriented syntax\n",
    "# e.g. maybe you really miss '90s graphics...\n",
    "ax.get_legend().shadow = True"
   ]
  },
  {
   "cell_type": "code",
   "execution_count": 49,
   "metadata": {},
   "outputs": [
    {
     "name": "stderr",
     "output_type": "stream",
     "text": [
      "/home/cms.oalterka/HATS-LPC2020/coffea-hats/coffea-hats/lib64/python3.6/site-packages/mplhep/_deprecate.py:56: DeprecationWarning: kwarg \"densitymode\" in function \"histplot\" is deprecated and may be removed in future versions: \"unit\"mode is not useful\n",
      "  return func(*args, **kwargs)\n"
     ]
    },
    {
     "data": {
      "image/png": "[encoded data removed]",
      "text/plain": [
       "<Figure size 432x288 with 1 Axes>"
      ]
     },
     "metadata": {
      "needs_background": "light"
     },
     "output_type": "display_data"
    }
   ],
   "source": [
    "# Clearly the yields are much different, are the shapes similar? We can check by setting `density=True`\n",
    "lepton_pt.label = \"Density\"\n",
    "ax = hist.plot1d(lepton_pt, overlay=\"flavor\", density=True)"
   ]
  },
  {
   "cell_type": "code",
   "execution_count": 50,
   "metadata": {},
   "outputs": [
    {
     "name": "stderr",
     "output_type": "stream",
     "text": [
      "/home/cms.oalterka/HATS-LPC2020/coffea-hats/coffea-hats/lib64/python3.6/site-packages/mplhep/_deprecate.py:56: DeprecationWarning: kwarg \"densitymode\" in function \"histplot\" is deprecated and may be removed in future versions: \"unit\"mode is not useful\n",
      "  return func(*args, **kwargs)\n",
      "/home/cms.oalterka/HATS-LPC2020/coffea-hats/coffea-hats/lib64/python3.6/site-packages/mplhep/_deprecate.py:56: DeprecationWarning: kwarg \"densitymode\" in function \"histplot\" is deprecated and may be removed in future versions: \"unit\"mode is not useful\n",
      "  return func(*args, **kwargs)\n",
      "/home/cms.oalterka/HATS-LPC2020/coffea-hats/coffea-hats/lib64/python3.6/site-packages/mplhep/_deprecate.py:56: DeprecationWarning: kwarg \"densitymode\" in function \"histplot\" is deprecated and may be removed in future versions: \"unit\"mode is not useful\n",
      "  return func(*args, **kwargs)\n",
      "/home/cms.oalterka/HATS-LPC2020/coffea-hats/coffea-hats/lib64/python3.6/site-packages/mplhep/_deprecate.py:56: DeprecationWarning: kwarg \"densitymode\" in function \"histplot\" is deprecated and may be removed in future versions: \"unit\"mode is not useful\n",
      "  return func(*args, **kwargs)\n"
     ]
    },
    {
     "data": {
      "image/png": "[encoded data removed]",
      "text/plain": [
       "<Figure size 432x1152 with 4 Axes>"
      ]
     },
     "metadata": {
      "needs_background": "light"
     },
     "output_type": "display_data"
    }
   ],
   "source": [
    "# Let's stack them, after defining some nice styling\n",
    "stack_fill_opts = {\n",
    "    'alpha': 0.8,\n",
    "    'edgecolor':(0,0,0,.5)\n",
    "}\n",
    "stack_error_opts = {\n",
    "    'label':'Stat. Unc.',\n",
    "    'hatch':'///',\n",
    "    'facecolor':'none',\n",
    "    'edgecolor':(0,0,0,.5),\n",
    "    'linewidth': 0\n",
    "}\n",
    "# maybe we want to compare different eta regions\n",
    "# plotgrid accepts row and column axes, and creates a grid of 1d plots as appropriate\n",
    "ax = hist.plotgrid(\n",
    "    lepton_kinematics,\n",
    "    row=\"eta\",\n",
    "    overlay=\"flavor\",\n",
    "    stack=True,\n",
    "    fill_opts=stack_fill_opts,\n",
    "    error_opts=stack_error_opts,\n",
    ")"
   ]
  },
  {
   "cell_type": "code",
   "execution_count": 52,
   "metadata": {},
   "outputs": [],
   "source": [
    "# Here we create some pseudodata for the pt histogram so we can make a nice data/mc plot\n",
    "pthist = lepton_kinematics.sum('eta')\n",
    "bin_values = pthist.axis('pt').centers()\n",
    "poisson_means = pthist.sum('flavor').values()[()]\n",
    "values = np.repeat(bin_values, np.random.poisson(poisson_means))\n",
    "pthist.fill(flavor='pseudodata', pt=values)\n",
    "\n",
    "# Set nicer labels, by accessing the string bins' label property\n",
    "pthist.axis('flavor').index('electron').label = 'e Flavor'\n",
    "pthist.axis('flavor').index('muon').label = r'$\\mu$ Flavor'\n",
    "pthist.axis('flavor').index('pseudodata').label = r'Pseudodata from e/$\\mu$'\n",
    "\n",
    "# using regular expressions on flavor name to select just the data\n",
    "# another method would be to fill a separate data histogram\n",
    "import re\n",
    "notdata = re.compile('(?!pseudodata)')"
   ]
  },
  {
   "cell_type": "code",
   "execution_count": 53,
   "metadata": {},
   "outputs": [
    {
     "name": "stderr",
     "output_type": "stream",
     "text": [
      "/home/cms.oalterka/HATS-LPC2020/coffea-hats/coffea-hats/lib64/python3.6/site-packages/mplhep/_deprecate.py:56: DeprecationWarning: kwarg \"densitymode\" in function \"histplot\" is deprecated and may be removed in future versions: \"unit\"mode is not useful\n",
      "  return func(*args, **kwargs)\n",
      "/home/cms.oalterka/HATS-LPC2020/coffea-hats/coffea-hats/lib64/python3.6/site-packages/mplhep/_deprecate.py:56: DeprecationWarning: kwarg \"densitymode\" in function \"histplot\" is deprecated and may be removed in future versions: \"unit\"mode is not useful\n",
      "  return func(*args, **kwargs)\n"
     ]
    },
    {
     "data": {
      "image/png": "[encoded data removed]",
      "text/plain": [
       "<Figure size 504x504 with 2 Axes>"
      ]
     },
     "metadata": {
      "needs_background": "light"
     },
     "output_type": "display_data"
    }
   ],
   "source": [
    "# make a nice ratio plot, adjusting some font sizes\n",
    "plt.rcParams.update({\n",
    "    'font.size': 14,\n",
    "    'axes.titlesize': 18,\n",
    "    'axes.labelsize': 18,\n",
    "    'xtick.labelsize': 12,\n",
    "    'ytick.labelsize': 12\n",
    "})\n",
    "fig, (ax, rax) = plt.subplots(\n",
    "    nrows=2,\n",
    "    ncols=1,\n",
    "    figsize=(7,7),\n",
    "    gridspec_kw={\"height_ratios\": (3, 1)},\n",
    "    sharex=True\n",
    ")\n",
    "fig.subplots_adjust(hspace=.07)\n",
    "\n",
    "# Here is an example of setting up a color cycler to color the various fill patches\n",
    "# We get the colors from this useful utility: http://colorbrewer2.org/#type=qualitative&scheme=Paired&n=6\n",
    "from cycler import cycler\n",
    "colors = ['#a6cee3','#1f78b4','#b2df8a','#33a02c','#fb9a99','#e31a1c']\n",
    "ax.set_prop_cycle(cycler(color=colors))\n",
    "\n",
    "fill_opts = {\n",
    "    'edgecolor': (0,0,0,0.3),\n",
    "    'alpha': 0.8\n",
    "}\n",
    "error_opts = {\n",
    "    'label': 'Stat. Unc.',\n",
    "    'hatch': '///',\n",
    "    'facecolor': 'none',\n",
    "    'edgecolor': (0,0,0,.5),\n",
    "    'linewidth': 0\n",
    "}\n",
    "data_err_opts = {\n",
    "    'linestyle': 'none',\n",
    "    'marker': '.',\n",
    "    'markersize': 10.,\n",
    "    'color': 'k',\n",
    "    'elinewidth': 1,\n",
    "}\n",
    "\n",
    "# plot the MC first\n",
    "hist.plot1d(\n",
    "    pthist[notdata], \n",
    "    overlay=\"flavor\", \n",
    "    ax=ax,\n",
    "    clear=False,\n",
    "    stack=True, \n",
    "    line_opts=None,\n",
    "    fill_opts=fill_opts,\n",
    "    error_opts=error_opts\n",
    ")\n",
    "# now the pseudodata, setting clear=False to avoid overwriting the previous plot\n",
    "hist.plot1d(\n",
    "    pthist['pseudodata'],\n",
    "    overlay=\"flavor\",\n",
    "    ax=ax,\n",
    "    clear=False,\n",
    "    error_opts=data_err_opts\n",
    ")\n",
    "\n",
    "ax.autoscale(axis='x', tight=True)\n",
    "ax.set_ylim(0, None)\n",
    "ax.set_xlabel(None)\n",
    "leg = ax.legend()\n",
    "\n",
    "# now we build the ratio plot\n",
    "hist.plotratio(\n",
    "    num=pthist['pseudodata'].sum(\"flavor\"),\n",
    "    denom=pthist[notdata].sum(\"flavor\"), \n",
    "    ax=rax,\n",
    "    error_opts=data_err_opts, \n",
    "    denom_fill_opts={},\n",
    "    guide_opts={},\n",
    "    unc='num'\n",
    ")\n",
    "rax.set_ylabel('Ratio')\n",
    "rax.set_ylim(0,2)\n",
    "\n",
    "# add some labels\n",
    "coffee = plt.text(0., 1., u\"☕\",\n",
    "                  fontsize=28, \n",
    "                  horizontalalignment='left', \n",
    "                  verticalalignment='bottom', \n",
    "                  transform=ax.transAxes\n",
    "                 )\n",
    "lumi = plt.text(1., 1., r\"1 fb$^{-1}$ (?? TeV)\",\n",
    "                fontsize=16, \n",
    "                horizontalalignment='right', \n",
    "                verticalalignment='bottom', \n",
    "                transform=ax.transAxes\n",
    "               )"
   ]
  },
  {
   "cell_type": "markdown",
   "metadata": {},
   "source": [
    "Some further styling tools are available through the `mplhep` package. In particular, there are several stylesheets that update `plt.rcParams` to conform with experiment style recommendations regarding font face, font sizes, tick mark styles, and other such things. Below is an example application."
   ]
  },
  {
   "cell_type": "code",
   "execution_count": 54,
   "metadata": {},
   "outputs": [
    {
     "name": "stderr",
     "output_type": "stream",
     "text": [
      "/home/cms.oalterka/HATS-LPC2020/coffea-hats/coffea-hats/lib64/python3.6/site-packages/mplhep/_deprecate.py:56: DeprecationWarning: kwarg \"densitymode\" in function \"histplot\" is deprecated and may be removed in future versions: \"unit\"mode is not useful\n",
      "  return func(*args, **kwargs)\n",
      "findfont: Font family ['cursive'] not found. Falling back to DejaVu Sans.\n"
     ]
    },
    {
     "data": {
      "image/png": "[encoded data removed]",
      "text/plain": [
       "<Figure size 720x720 with 1 Axes>"
      ]
     },
     "metadata": {
      "needs_background": "light"
     },
     "output_type": "display_data"
    }
   ],
   "source": [
    "import mplhep\n",
    "plt.style.use(mplhep.style.ROOT)\n",
    "\n",
    "# Compare this to the style of the plot drawn previously\n",
    "ax = hist.plot1d(lepton_pt, overlay=\"flavor\", density=True)"
   ]
  },
  {
   "cell_type": "code",
   "execution_count": null,
   "metadata": {},
   "outputs": [],
   "source": []
  }
 ],
 "metadata": {
  "kernelspec": {
   "display_name": "coffea-hats",
   "language": "python",
   "name": "coffea-hats"
  },
  "language_info": {
   "codemirror_mode": {
    "name": "ipython",
    "version": 3
   },
   "file_extension": ".py",
   "mimetype": "text/x-python",
   "name": "python",
   "nbconvert_exporter": "python",
   "pygments_lexer": "ipython3",
   "version": "3.6.7"
  }
 },
 "nbformat": 4,
 "nbformat_minor": 2
}
