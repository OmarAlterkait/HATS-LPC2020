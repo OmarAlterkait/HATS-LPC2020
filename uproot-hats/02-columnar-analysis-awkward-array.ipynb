{
 "cells": [
  {
   "cell_type": "markdown",
   "metadata": {},
   "source": [
    "# Columnar analysis with Awkward Array"
   ]
  },
  {
   "cell_type": "markdown",
   "metadata": {},
   "source": [
    "## How this works as a hands-on tutorial\n",
    "\n",
    "Even though I don't have formal exercises scattered throughout these notebooks, this session can still be interactive.\n",
    "\n",
    "   * **You** should open each notebook in Binder (see [GitHub README](https://github.com/jpivarski/2020-06-08-uproot-awkward-columnar-hats)) and evaluate cells, following along with me.\n",
    "   * **I** should pause frequently and stay open to questions. I'll be monitoring the videoconference chat.\n",
    "   * **We** should feel free to step off the path and try to answer \"What if?\" questions in real time.\n",
    "\n",
    "Not all digressions will lead to an answer—I often realize, \"That's why it didn't work!\" long after the tutorial is over—but tinkering is how we learn.\n",
    "\n",
    "Consider this a tour and I'm your guide. The planned route is a suggestion to get things started, but your questions and wayfaring are more important.\n",
    "\n",
    "<br><br><br>"
   ]
  },
  {
   "cell_type": "markdown",
   "metadata": {},
   "source": [
    "## Array-based programming\n",
    "\n",
    "One of the first programming languages, named **APL** (\"A Programming Language\") was array-based. It started as a notation for _describing_ hand-written machine code and was later made interactive.\n",
    "\n",
    "**Nial** was also theoretically motivated, and the two of these inspired a generation of direct descendants (green).\n",
    "\n",
    "Meanwhile, the **S** language for statistics borrowed many of these ideas while being focused on a particular domain. Its descendent, **R**, is still widely used.\n",
    "\n",
    "**IDL** was invented for the sciences and gained a lot of traction as an alternative to writing custom Fortran, again using vectorization as a first-class concept.\n",
    "\n",
    "**MATLAB** was similarly gained traction in the sciences as a commercial product.\n",
    "\n",
    "**PDL** (Perl Data Language) and **NumPy** introduced the same concepts as libraries within an established language (Perl and Python). **Julia** has some vector-like interfaces, though its focus is on just-in-time compiling imperative code."
   ]
  },
  {
   "cell_type": "markdown",
   "metadata": {},
   "source": [
    "![](img/apl-timeline.png)\n",
    "\n",
    "<br><br><br>"
   ]
  },
  {
   "cell_type": "markdown",
   "metadata": {},
   "source": [
    "Common features of array-based languages:\n",
    "\n",
    "   * Arrays are the central data type with most operations applying to arrays. (By contrast, C requires explicit iteration over the arrays: it's imperative.)\n",
    "   * They are _all_ interactive languages. The array-at-a-time logic makes it possible to define precompiled routines that run in response to user commands.\n",
    "   * They are primarily data analysis languages, highly targeted to the sciences and statistics.\n",
    "\n",
    "In retrospect, it sounds like a perfect fit to what we want to do.\n",
    "\n",
    "<br><br><br>"
   ]
  },
  {
   "cell_type": "markdown",
   "metadata": {},
   "source": [
    "In this plot of the \"astronomical\" rise of Python, note that 2 of the 3 languages it's displacing are array languages.\n",
    "\n",
    "![](img/mentions-of-programming-languages.png)\n",
    "\n",
    "<br><br><br>"
   ]
  },
  {
   "cell_type": "markdown",
   "metadata": {},
   "source": [
    "## Why not for particle physics?\n",
    "\n",
    "Because **data structures**. Particle physicists have _always_ needed to deal with complex data structures, so much so that we invented packages to add them to Fortran.\n",
    "\n",
    "The following is from [_Initiation to HYDRA_ by R.K. Böck (1976)](https://cds.cern.ch/record/864527?ln=en) as part of an explanation of what a \"data structure\" is, at a time before Fortran had `FOR` loops. (HYDRA was merged into ZEBRA, which became the basis for ROOT I/O.)\n",
    "\n",
    "We would draw similar diagrams today.\n",
    "\n",
    "![](img/hydra-2.png)\n",
    "\n",
    "<br><br><br>"
   ]
  },
  {
   "cell_type": "markdown",
   "metadata": {},
   "source": [
    "But the modify-compile-rerun cycle of C++ is too long for interactive data analysis. That's why ROOT invented CINT and then Cling.\n",
    "\n",
    "But C++ is too complex of a language for data-focused tasks. That's why I was thinking a lot about [extending query languages (like SQL) to data structures](https://stackoverflow.com/questions/38831961/what-declarative-language-is-good-at-analysis-of-tree-like-data).\n",
    "\n",
    "But I was surprised by how useful the simple JaggedArray class in Uproot turned out to be. My conclusion was that you don't need a new language, just some data types and operations.\n",
    "\n",
    "![](img/uproot-awkward-timeline.png)\n",
    "\n",
    "<br><br><br>"
   ]
  },
  {
   "cell_type": "markdown",
   "metadata": {},
   "source": [
    "<font size=\"15\">That's what </font><img src=\"img/awkward-logo-300px.png\" style=\"vertical-align:middle\"><font size=\"15\"> is.</font>\n",
    "\n",
    "\n",
    "Just arrays and functions on arrays, but with awkward shapes.\n",
    "\n",
    "![](img/cartoon-schematic.png)\n",
    "\n",
    "<br><br><br>"
   ]
  },
  {
   "cell_type": "markdown",
   "metadata": {},
   "source": [
    "## Let's start with a non-physics example\n",
    "\n",
    "To get a feel for what this means, let's look at _something completely different_ from a Z peak: [Chicago bike paths](https://github.com/Chicago/osd-bike-routes/blob/master/data/Bikeroutes.geojson)."
   ]
  },
  {
   "cell_type": "code",
   "execution_count": 4,
   "metadata": {},
   "outputs": [],
   "source": [
    "import json\n",
    "\n",
    "bikeroutes_json = open(\"data/Bikeroutes.geojson\").read()\n",
    "bikeroutes_pyobj = json.loads(bikeroutes_json)"
   ]
  },
  {
   "cell_type": "code",
   "execution_count": 5,
   "metadata": {},
   "outputs": [
    {
     "name": "stdout",
     "output_type": "stream",
     "text": [
      "{\n",
      "\"type\": \"FeatureCollection\",\n",
      "\"crs\": { \"type\": \"name\", \"properties\": { \"name\": \"urn:ogc:def:crs:OGC:1.3:CRS84\" } },\n",
      "                                                                                \n",
      "\"features\": [\n",
      "{ \"type\": \"Feature\", \"properties\": { \"STREET\": \"W FULLERTON AVE\", \"TYPE\": \"4\", \"BIKEROUTE\": \"RECOMMENDED BIKE ROUTE\", \"F_STREET\": \"W GRAND AVE\", \"T_STREET\": \"W GRAND AVE\" }, \"geometry\": { \"type\": \"MultiLineString\", \"coordinates\": [ [ [ -87.788572682391163, 41.923652047961923 ], [ -87.788645591836797, 41.923651405921802 ], [ -87.788844988373143, 41.923649881816345 ], [ -87.788950897155686, 41.923649066751238 ], [ -87.789091716222416, 41.923648060311677 ], [ -87.789279058225759, 41.923646752738705 ], [ -87.789396101278086, 41.923645907691565 ], [ -87.789781787237345, 41.923641532135363 ], [ -87.789851574317836, 41.923640764779442 ], [ -87.78989703352525, 41.923640238994977 ], [ -87.790052557345319, 41.923638477701097 ], [ -87.790253898265888, 41.92363731709856 ], [ -87.7903925124\n"
     ]
    }
   ],
   "source": [
    "# First thousand bytes...\n",
    "print(bikeroutes_json[:1000])"
   ]
  },
  {
   "cell_type": "markdown",
   "metadata": {},
   "source": [
    "It has a lot of structure—metadata and street names mixed in with the longitude, latitude points. But we can read it in as arrays."
   ]
  },
  {
   "cell_type": "code",
   "execution_count": 6,
   "metadata": {},
   "outputs": [
    {
     "data": {
      "text/plain": [
       "<Record ... [-87.7, 42], [-87.7, 42]]]}}]} type='{\"type\": string, \"crs\": {\"type\"...'>"
      ]
     },
     "execution_count": 6,
     "metadata": {},
     "output_type": "execute_result"
    }
   ],
   "source": [
    "import awkward1 as ak\n",
    "\n",
    "bikeroutes = ak.Record(bikeroutes_pyobj)\n",
    "bikeroutes"
   ]
  },
  {
   "cell_type": "markdown",
   "metadata": {},
   "source": [
    "The analysis-relevant information about the data's structure is contained in its `type`. (Note: this is [Datashape](https://datashape.readthedocs.io/en/latest/) notation, which was invented for this sort of thing.)"
   ]
  },
  {
   "cell_type": "code",
   "execution_count": 4,
   "metadata": {},
   "outputs": [
    {
     "data": {
      "text/plain": [
       "{\"type\": string, \"crs\": {\"type\": string, \"properties\": {\"name\": string}}, \"features\": var * {\"type\": string, \"properties\": {\"STREET\": string, \"TYPE\": string, \"BIKEROUTE\": string, \"F_STREET\": string, \"T_STREET\": option[string]}, \"geometry\": {\"type\": string, \"coordinates\": var * var * var * float64}}}"
      ]
     },
     "execution_count": 4,
     "metadata": {},
     "output_type": "execute_result"
    }
   ],
   "source": [
    "ak.type(bikeroutes)"
   ]
  },
  {
   "cell_type": "markdown",
   "metadata": {},
   "source": [
    "Everything is a `string` or an `option[string]` (i.e. can be `null`) except the coordinates, which are `var * var * var * float64` (triply jagged array).\n",
    "\n",
    "Let's go straight for the coordinates."
   ]
  },
  {
   "cell_type": "code",
   "execution_count": 5,
   "metadata": {},
   "outputs": [
    {
     "data": {
      "text/plain": [
       "<Array [[[[-87.8, 41.9], ... [-87.7, 42]]]] type='1061 * var * var * var * float64'>"
      ]
     },
     "execution_count": 5,
     "metadata": {},
     "output_type": "execute_result"
    }
   ],
   "source": [
    "bikeroutes[\"features\", \"geometry\", \"coordinates\"]"
   ]
  },
  {
   "cell_type": "markdown",
   "metadata": {},
   "source": [
    "or"
   ]
  },
  {
   "cell_type": "code",
   "execution_count": 6,
   "metadata": {},
   "outputs": [
    {
     "data": {
      "text/plain": [
       "<Array [[[[-87.8, 41.9], ... [-87.7, 42]]]] type='1061 * var * var * var * float64'>"
      ]
     },
     "execution_count": 6,
     "metadata": {},
     "output_type": "execute_result"
    }
   ],
   "source": [
    "bikeroutes.features.geometry.coordinates"
   ]
  },
  {
   "cell_type": "code",
   "execution_count": 7,
   "metadata": {},
   "outputs": [
    {
     "data": {
      "text/plain": [
       "[[[[-87.78857268239116, 41.92365204796192],\n",
       "   [-87.7886455918368, 41.9236514059218],\n",
       "   [-87.78884498837314, 41.923649881816345],\n",
       "   [-87.78895089715569, 41.92364906675124],\n",
       "   [-87.78909171622242, 41.92364806031168],\n",
       "   [-87.78927905822576, 41.923646752738705],\n",
       "   [-87.78939610127809, 41.923645907691565],\n",
       "   [-87.78978178723735, 41.92364153213536],\n",
       "   [-87.78985157431784, 41.92364076477944],\n",
       "   [-87.78989703352525, 41.92364023899498],\n",
       "   [-87.79005255734532, 41.9236384777011],\n",
       "   [-87.79025389826589, 41.92363731709856],\n",
       "   [-87.79039251240177, 41.923636326077215],\n",
       "   [-87.79131231855902, 41.92362983196139],\n",
       "   [-87.79145920250602, 41.923628604266135],\n",
       "   [-87.79148375037359, 41.92362841824402]]],\n",
       " [[[-87.74815752805499, 41.914431860310785],\n",
       "   [-87.74816482757203, 41.91443315985752],\n",
       "   [-87.74819817563908, 41.914438543841555],\n",
       "   [-87.74823564553337, 41.914451221037915],\n",
       "   [-87.74829849193455, 41.91448927446621],\n",
       "   [-87.74836277977153, 41.914546517396424],\n",
       "   [-87.74841516152057, 41.91460400150793],\n",
       "   [-87.74844048225219, 41.914635497077086],\n",
       "   [-87.74850950533758, 41.91472141384247],\n",
       "   [-87.74857362468143, 41.91480118595212],\n",
       "   [-87.74864751632394, 41.91489313729711],\n",
       "   [-87.74868862640433, 41.914937748315985],\n",
       "   [-87.74872277966871, 41.91496363567131],\n",
       "   [-87.7487818459727, 41.915001312836864],\n",
       "   [-87.74890785915055, 41.915066663291434],\n",
       "   [-87.74891756051767, 41.91507049970957]]],\n",
       " [[[-87.61671282963914, 41.80391856700042],\n",
       "   [-87.61670796416882, 41.8037002018836],\n",
       "   [-87.6166999837239, 41.80339603118747],\n",
       "   [-87.616690428012, 41.803015998791665],\n",
       "   [-87.6166898890235, 41.80299524868399],\n",
       "   [-87.6166454826831, 41.802520485877494],\n",
       "   [-87.61663458293636, 41.80209653657321]]]]"
      ]
     },
     "execution_count": 7,
     "metadata": {},
     "output_type": "execute_result"
    }
   ],
   "source": [
    "ak.to_list(bikeroutes.features.geometry.coordinates[:3])"
   ]
  },
  {
   "cell_type": "markdown",
   "metadata": {},
   "source": [
    "The third axis happens to have length 2 in all cases, but it came from JSON, which can't guarantee that lists have a certain length, so Awkward identifies it as `var` (variable-width, i.e. \"jagged\").\n",
    "\n",
    "We _could_ enforce this by applying a slice that has a fixed length."
   ]
  },
  {
   "cell_type": "code",
   "execution_count": 8,
   "metadata": {},
   "outputs": [
    {
     "data": {
      "text/plain": [
       "1061 * var * var * var * float64"
      ]
     },
     "execution_count": 8,
     "metadata": {},
     "output_type": "execute_result"
    }
   ],
   "source": [
    "ak.type(bikeroutes.features.geometry.coordinates)"
   ]
  },
  {
   "cell_type": "code",
   "execution_count": 9,
   "metadata": {},
   "outputs": [
    {
     "data": {
      "text/plain": [
       "1061 * var * var * 2 * float64"
      ]
     },
     "execution_count": 9,
     "metadata": {},
     "output_type": "execute_result"
    }
   ],
   "source": [
    "ak.type(bikeroutes.features.geometry.coordinates[:, :, :, [0, 1]])"
   ]
  },
  {
   "cell_type": "markdown",
   "metadata": {},
   "source": [
    "This distinction between fixed-size and in-principle-variable size is important in general, though not very important for this example.\n",
    "\n",
    "A more important question is, what do these levels of jaggedness represent?\n",
    "\n",
    "Let's pick one item and print it out in full detail."
   ]
  },
  {
   "cell_type": "code",
   "execution_count": 10,
   "metadata": {},
   "outputs": [
    {
     "data": {
      "text/plain": [
       "{'type': 'Feature',\n",
       " 'properties': {'STREET': 'E 26TH ST',\n",
       "  'TYPE': '1',\n",
       "  'BIKEROUTE': 'EXISTING BIKE LANE',\n",
       "  'F_STREET': 'S STATE ST',\n",
       "  'T_STREET': 'S DR MARTIN LUTHER KING JR DR'},\n",
       " 'geometry': {'type': 'MultiLineString',\n",
       "  'coordinates': [[[-87.62685625163756, 41.84558714841179],\n",
       "    [-87.62675996392576, 41.84558902593194],\n",
       "    [-87.62637708895348, 41.845596494328554],\n",
       "    [-87.62626461651281, 41.845598326696425],\n",
       "    [-87.62618268489398, 41.84559966093136],\n",
       "    [-87.6261438116618, 41.84560027230502],\n",
       "    [-87.62613206507362, 41.845600474403334],\n",
       "    [-87.6261027723024, 41.8456009526551],\n",
       "    [-87.62579736038116, 41.84560626159298],\n",
       "    [-87.62553890383363, 41.845610239979905],\n",
       "    [-87.62532611036139, 41.845613593674],\n",
       "    [-87.6247932635836, 41.84562202574476]],\n",
       "   [[-87.62532611036139, 41.845613593674],\n",
       "    [-87.6247932635836, 41.84562202574476]],\n",
       "   [[-87.6247932635836, 41.84562202574476],\n",
       "    [-87.62446484629727, 41.84562675013391],\n",
       "    [-87.62444032614908, 41.845627092762086]],\n",
       "   [[-87.6247932635836, 41.84562202574476],\n",
       "    [-87.62446484629727, 41.84562675013391],\n",
       "    [-87.62444032614908, 41.845627092762086]],\n",
       "   [[-87.62444032614908, 41.845627092762086],\n",
       "    [-87.62417259047609, 41.84563048939241]],\n",
       "   [[-87.62417259047609, 41.84563048939241],\n",
       "    [-87.62407957610536, 41.845631726253856],\n",
       "    [-87.62363619038385, 41.845638290417284],\n",
       "    [-87.62339190417225, 41.845641912449615],\n",
       "    [-87.62213773032211, 41.84566047069409],\n",
       "    [-87.620481318361, 41.845684971736716],\n",
       "    [-87.62033059867875, 41.84568719208078],\n",
       "    [-87.61886420422526, 41.84571018731772],\n",
       "    [-87.61783987848477, 41.845726258794926],\n",
       "    [-87.61768559736353, 41.84572529758383],\n",
       "    [-87.61767695024436, 41.84572400878766]],\n",
       "   [[-87.62417259047609, 41.84563048939241],\n",
       "    [-87.62407957610536, 41.845631726253856],\n",
       "    [-87.62363619038385, 41.845638290417284]]]}}"
      ]
     },
     "execution_count": 10,
     "metadata": {},
     "output_type": "execute_result"
    }
   ],
   "source": [
    "ak.to_list(bikeroutes.features[751])"
   ]
  },
  {
   "cell_type": "markdown",
   "metadata": {},
   "source": [
    "The hint is \"MultiLineString\": a bike route consists of disconnected lines. (I guess you have to pick up your bike and walk it.)\n",
    "\n",
    "Most routes are a single connected line; I found this extreme using [ak.num](https://awkward-array.readthedocs.io/en/latest/_auto/ak.num.html), a function for jagged multiplicity."
   ]
  },
  {
   "cell_type": "code",
   "execution_count": 11,
   "metadata": {},
   "outputs": [
    {
     "data": {
      "text/plain": [
       "<Array [1, 1, 1, 1, 1, 1, ... 1, 1, 1, 1, 1, 1] type='1061 * int64'>"
      ]
     },
     "execution_count": 11,
     "metadata": {},
     "output_type": "execute_result"
    }
   ],
   "source": [
    "ak.num(bikeroutes.features.geometry.coordinates)"
   ]
  },
  {
   "cell_type": "code",
   "execution_count": 12,
   "metadata": {},
   "outputs": [
    {
     "data": {
      "text/plain": [
       "751"
      ]
     },
     "execution_count": 12,
     "metadata": {},
     "output_type": "execute_result"
    }
   ],
   "source": [
    "ak.argmax(ak.num(bikeroutes.features.geometry.coordinates))"
   ]
  },
  {
   "cell_type": "markdown",
   "metadata": {},
   "source": [
    "[ak.max](https://awkward-array.readthedocs.io/en/latest/_auto/ak.max.html) is just like [np.max](https://numpy.org/doc/1.18/reference/generated/numpy.amax.html) from NumPy except that it recognizes Awkward Arrays.\n",
    "\n",
    "By contrast, [ak.num](https://awkward-array.readthedocs.io/en/latest/_auto/ak.num.html) could not have a NumPy equivalent because it provides information that would always be trivial with NumPy's rectangular arrays.\n",
    "\n",
    "Functions that overlap NumPy functions, like [ak.max](https://awkward-array.readthedocs.io/en/latest/_auto/ak.max.html) does for [np.max](https://numpy.org/doc/1.18/reference/generated/numpy.amax.html), have exactly the same interface and defaults. If you have NumPy 1.17 or above, they're actually interchangeable (NumPy recognizes that it's looking at a non-NumPy arrays and defers to our implementation)."
   ]
  },
  {
   "cell_type": "code",
   "execution_count": 13,
   "metadata": {},
   "outputs": [
    {
     "data": {
      "text/plain": [
       "751"
      ]
     },
     "execution_count": 13,
     "metadata": {},
     "output_type": "execute_result"
    }
   ],
   "source": [
    "import numpy as np\n",
    "\n",
    "np.argmax(ak.num(bikeroutes.features.geometry.coordinates))"
   ]
  },
  {
   "cell_type": "markdown",
   "metadata": {},
   "source": [
    "To fill out the pattern set by NumPy, most of the functions have an `axis` parameter indicating the depth of nestedness where you want the function to apply.\n",
    "\n",
    "This can be particularly useful for [ak.num](https://awkward-array.readthedocs.io/en/latest/_auto/ak.num.html)."
   ]
  },
  {
   "cell_type": "code",
   "execution_count": 14,
   "metadata": {},
   "outputs": [
    {
     "data": {
      "text/plain": [
       "<Array [1, 1, 1, 1, 1, 1, ... 1, 1, 1, 1, 1, 1] type='1061 * int64'>"
      ]
     },
     "execution_count": 14,
     "metadata": {},
     "output_type": "execute_result"
    }
   ],
   "source": [
    "# most routes have a single contiguous path\n",
    "ak.num(bikeroutes.features.geometry.coordinates, axis=1)"
   ]
  },
  {
   "cell_type": "code",
   "execution_count": 15,
   "metadata": {},
   "outputs": [
    {
     "data": {
      "text/plain": [
       "<Array [[16], [16], [7], ... [80], [20], [11]] type='1061 * var * int64'>"
      ]
     },
     "execution_count": 15,
     "metadata": {},
     "output_type": "execute_result"
    }
   ],
   "source": [
    "# paths can have many or few longitude, latitude points\n",
    "ak.num(bikeroutes.features.geometry.coordinates, axis=2)"
   ]
  },
  {
   "cell_type": "code",
   "execution_count": 16,
   "metadata": {},
   "outputs": [
    {
     "data": {
      "text/plain": [
       "<Array [[[2, 2, 2, 2, 2, ... 2, 2, 2, 2, 2]]] type='1061 * var * var * int64'>"
      ]
     },
     "execution_count": 16,
     "metadata": {},
     "output_type": "execute_result"
    }
   ],
   "source": [
    "# all of the longitude, latitude points have exactly two numbers\n",
    "ak.num(bikeroutes.features.geometry.coordinates, axis=3)"
   ]
  },
  {
   "cell_type": "markdown",
   "metadata": {},
   "source": [
    "Notice the data type: the number of entries in deeply nested data is itself a nested structure.\n",
    "\n",
    "We can verify that the longitude, latitude points really do have two values like this:"
   ]
  },
  {
   "cell_type": "code",
   "execution_count": 17,
   "metadata": {},
   "outputs": [
    {
     "data": {
      "text/plain": [
       "<Array [[[True, True, True, ... True, True]]] type='1061 * var * var * bool'>"
      ]
     },
     "execution_count": 17,
     "metadata": {},
     "output_type": "execute_result"
    }
   ],
   "source": [
    "num = ak.num(bikeroutes.features.geometry.coordinates, axis=3)\n",
    "num == 2"
   ]
  },
  {
   "cell_type": "code",
   "execution_count": 18,
   "metadata": {},
   "outputs": [
    {
     "data": {
      "text/plain": [
       "True"
      ]
     },
     "execution_count": 18,
     "metadata": {},
     "output_type": "execute_result"
    }
   ],
   "source": [
    "ak.all(num == 2)"
   ]
  },
  {
   "cell_type": "markdown",
   "metadata": {},
   "source": [
    "[ak.all](https://awkward-array.readthedocs.io/en/latest/_auto/ak.all.html) is a reducer (like [np.all](https://numpy.org/doc/1.18/reference/generated/numpy.all.html)), which turns arrays into scalars.\n",
    "\n",
    "Its default `axis` is `None`, meaning \"reduce everything.\" We can also partially reduce.\n",
    "\n",
    "`axis=-1` means \"deepest axis,\" which is the most-often useful axis, apart from `None`."
   ]
  },
  {
   "cell_type": "code",
   "execution_count": 19,
   "metadata": {},
   "outputs": [
    {
     "data": {
      "text/plain": [
       "<Array [[True], [True], ... [True], [True]] type='1061 * var * bool'>"
      ]
     },
     "execution_count": 19,
     "metadata": {},
     "output_type": "execute_result"
    }
   ],
   "source": [
    "ak.all(num == 2, axis=-1)"
   ]
  },
  {
   "cell_type": "markdown",
   "metadata": {},
   "source": [
    "So now let's do something useful: how about computing the length of each bike route?\n",
    "\n",
    "First, get the longitude and latitude separately."
   ]
  },
  {
   "cell_type": "code",
   "execution_count": 20,
   "metadata": {},
   "outputs": [
    {
     "data": {
      "text/plain": [
       "(<Array [[[-87.8, -87.8, ... -87.7, -87.7]]] type='1061 * var * var * float64'>,\n",
       " <Array [[[41.9, 41.9, 41.9, ... 42, 42, 42]]] type='1061 * var * var * float64'>)"
      ]
     },
     "execution_count": 20,
     "metadata": {},
     "output_type": "execute_result"
    }
   ],
   "source": [
    "longitude = bikeroutes.features.geometry.coordinates[..., 0]\n",
    "latitude = bikeroutes.features.geometry.coordinates[..., 1]\n",
    "longitude, latitude"
   ]
  },
  {
   "cell_type": "markdown",
   "metadata": {},
   "source": [
    "The ellipsis (`...`) saved me from having to type `coordinates[:, :, :, 0]`, having to know the exact depth when I wanted the deepest. That's also a NumPy thing."
   ]
  },
  {
   "cell_type": "markdown",
   "metadata": {},
   "source": [
    "At our longtidue and latitude, one degree of longitude corresponds to 82.7 km and one degree of latitude corresponds to 111.1 km (I looked that up elsewhere).\n",
    "\n",
    "Functions like [ak.mean](https://awkward-array.readthedocs.io/en/latest/_auto/ak.mean.html)/[np.mean](https://numpy.org/doc/1.18/reference/generated/numpy.mean.html) have the same interface as reducers."
   ]
  },
  {
   "cell_type": "code",
   "execution_count": 21,
   "metadata": {},
   "outputs": [
    {
     "data": {
      "text/plain": [
       "(<Array [[[-9.68, -9.69, ... -3.58, -3.62]]] type='1061 * var * var * float64'>,\n",
       " <Array [[[6.68, 6.68, 6.67, ... 9.68, 9.72]]] type='1061 * var * var * float64'>)"
      ]
     },
     "execution_count": 21,
     "metadata": {},
     "output_type": "execute_result"
    }
   ],
   "source": [
    "km_east = (longitude - np.mean(longitude)) * 82.7\n",
    "km_north = (latitude - np.mean(latitude)) * 111.1\n",
    "km_east, km_north"
   ]
  },
  {
   "cell_type": "markdown",
   "metadata": {},
   "source": [
    "So now all of the paths are in distance units (km), relative to the center of Chicago (the center of all the points at least; we only needed a convenient origin).\n",
    "\n",
    "Think, for a moment, about what that transformation would have required to do it in \"for\" loops. Even if speed were not an issue, it would be a lot of typing."
   ]
  },
  {
   "cell_type": "markdown",
   "metadata": {},
   "source": [
    "To compute lengths, we need distances _between_ points. So we want to match pairs of points along each path.\n",
    "\n",
    "The way you'd do this with a NumPy array is with slices:"
   ]
  },
  {
   "cell_type": "code",
   "execution_count": 22,
   "metadata": {},
   "outputs": [
    {
     "data": {
      "text/plain": [
       "array([1.1, 1.1, 1.1, 1.1, 1.1, 1.1, 1.1, 1.1])"
      ]
     },
     "execution_count": 22,
     "metadata": {},
     "output_type": "execute_result"
    }
   ],
   "source": [
    "path = np.array([1.1, 2.2, 3.3, 4.4, 5.5, 6.6, 7.7, 8.8, 9.9])\n",
    "path[1:] - path[:-1]"
   ]
  },
  {
   "cell_type": "markdown",
   "metadata": {},
   "source": [
    "where `path[1:]` drops the first element and `path[:-1]` drops the last element, which is exactly what you want to subtract to get all the distances in between.\n",
    "\n",
    "We can do the same thing with our Awkward Arrays, even though they have different lengths at the deepest level of jaggedness."
   ]
  },
  {
   "cell_type": "code",
   "execution_count": 23,
   "metadata": {},
   "outputs": [
    {
     "data": {
      "text/plain": [
       "(<Array [-9.68, -9.69, -9.7, ... -9.91, -9.92] type='15 * float64'>,\n",
       " <Array [-9.69, -9.7, -9.71, ... -9.92, -9.92] type='15 * float64'>)"
      ]
     },
     "execution_count": 23,
     "metadata": {},
     "output_type": "execute_result"
    }
   ],
   "source": [
    "km_east[0, 0, :-1], km_east[0, 0, 1:]"
   ]
  },
  {
   "cell_type": "code",
   "execution_count": 24,
   "metadata": {},
   "outputs": [
    {
     "data": {
      "text/plain": [
       "<Array [0.00603, 0.0165, ... 0.0121, 0.00203] type='15 * float64'>"
      ]
     },
     "execution_count": 24,
     "metadata": {},
     "output_type": "execute_result"
    }
   ],
   "source": [
    "km_east[0, 0, :-1] - km_east[0, 0, 1:]"
   ]
  },
  {
   "cell_type": "markdown",
   "metadata": {},
   "source": [
    "Doing it for all paths at once is no more difficult than doing it for the first path."
   ]
  },
  {
   "cell_type": "code",
   "execution_count": 25,
   "metadata": {},
   "outputs": [
    {
     "data": {
      "text/plain": [
       "<Array [[[0.00603, 0.0165, ... 0.0385]]] type='1061 * var * var * float64'>"
      ]
     },
     "execution_count": 25,
     "metadata": {},
     "output_type": "execute_result"
    }
   ],
   "source": [
    "km_east[:, :, :-1] - km_east[:, :, 1:]"
   ]
  },
  {
   "cell_type": "markdown",
   "metadata": {},
   "source": [
    "Since we're all familiar with using $\\sqrt{(x_i - x_{i + 1})^2 + (y_i - y_{i + 1})^2}$ as a distance formula, let's jump to the answer."
   ]
  },
  {
   "cell_type": "code",
   "execution_count": 26,
   "metadata": {},
   "outputs": [
    {
     "data": {
      "text/plain": [
       "<Array [[[0.00603, 0.0165, ... 0.0523]]] type='1061 * var * var * float64'>"
      ]
     },
     "execution_count": 26,
     "metadata": {},
     "output_type": "execute_result"
    }
   ],
   "source": [
    "segment_length = np.sqrt((km_east[:, :, 1:] - km_east[:, :, :-1])**2 +\n",
    "                         (km_north[:, :, 1:] - km_north[:, :, :-1])**2)\n",
    "segment_length"
   ]
  },
  {
   "cell_type": "markdown",
   "metadata": {},
   "source": [
    "So now we have replaced paths of length _n_ (where _n_ is variable) with segment distances of length _n ‒ 1_.\n",
    "\n",
    "We probably want the length of each path, so... reducer! This one is [ak.sum](https://awkward-array.readthedocs.io/en/latest/_auto/ak.sum.html)/[np.sum](https://numpy.org/doc/1.18/reference/generated/numpy.sum.html)."
   ]
  },
  {
   "cell_type": "code",
   "execution_count": 27,
   "metadata": {},
   "outputs": [
    {
     "data": {
      "text/plain": [
       "<Array [[0.241], [0.0971], ... 0.347], [0.281]] type='1061 * var * float64'>"
      ]
     },
     "execution_count": 27,
     "metadata": {},
     "output_type": "execute_result"
    }
   ],
   "source": [
    "path_length = np.sum(segment_length, axis=-1)\n",
    "path_length"
   ]
  },
  {
   "cell_type": "markdown",
   "metadata": {},
   "source": [
    "Okay, but some routes have multiple paths (though most have exactly one). These `path_lengths` have the same multiplicity as the paths."
   ]
  },
  {
   "cell_type": "code",
   "execution_count": 28,
   "metadata": {},
   "outputs": [
    {
     "data": {
      "text/plain": [
       "(<Array [1, 1, 1, 1, 1, 1, ... 1, 1, 1, 1, 1, 1] type='1061 * int64'>,\n",
       " <Array [1, 1, 1, 1, 1, 1, ... 1, 1, 1, 1, 1, 1] type='1061 * int64'>)"
      ]
     },
     "execution_count": 28,
     "metadata": {},
     "output_type": "execute_result"
    }
   ],
   "source": [
    "ak.num(path_length), ak.num(bikeroutes.features.geometry.coordinates)"
   ]
  },
  {
   "cell_type": "code",
   "execution_count": 29,
   "metadata": {},
   "outputs": [
    {
     "data": {
      "text/plain": [
       "<Array [True, True, True, ... True, True, True] type='1061 * bool'>"
      ]
     },
     "execution_count": 29,
     "metadata": {},
     "output_type": "execute_result"
    }
   ],
   "source": [
    "ak.num(path_length) == ak.num(bikeroutes.features.geometry.coordinates)"
   ]
  },
  {
   "cell_type": "code",
   "execution_count": 30,
   "metadata": {},
   "outputs": [
    {
     "data": {
      "text/plain": [
       "True"
      ]
     },
     "execution_count": 30,
     "metadata": {},
     "output_type": "execute_result"
    }
   ],
   "source": [
    "ak.all(ak.num(path_length) == ak.num(bikeroutes.features.geometry.coordinates))"
   ]
  },
  {
   "cell_type": "markdown",
   "metadata": {},
   "source": [
    "So let's reduce again."
   ]
  },
  {
   "cell_type": "code",
   "execution_count": 31,
   "metadata": {},
   "outputs": [
    {
     "data": {
      "text/plain": [
       "<Array [0.241, 0.0971, 0.203, ... 0.347, 0.281] type='1061 * float64'>"
      ]
     },
     "execution_count": 31,
     "metadata": {},
     "output_type": "execute_result"
    }
   ],
   "source": [
    "route_length = np.sum(path_length, axis=-1)\n",
    "route_length"
   ]
  },
  {
   "cell_type": "markdown",
   "metadata": {},
   "source": [
    "There you have it. We can also put this new derived column into the original array, if that's useful for anything.\n",
    "\n",
    "(Note: you have to assign with square brackets and strings, not attributes, because attribute-assignment would lead to confusion about assigning to temporary copies. Pandas has the same problem, and they're deprecating attribute-assignemnt because of it.)"
   ]
  },
  {
   "cell_type": "code",
   "execution_count": 32,
   "metadata": {},
   "outputs": [],
   "source": [
    "bikeroutes[\"features\", \"route_length\"] = route_length"
   ]
  },
  {
   "cell_type": "code",
   "execution_count": 33,
   "metadata": {},
   "outputs": [
    {
     "data": {
      "text/plain": [
       "{'type': 'Feature',\n",
       " 'properties': {'STREET': 'E 26TH ST',\n",
       "  'TYPE': '1',\n",
       "  'BIKEROUTE': 'EXISTING BIKE LANE',\n",
       "  'F_STREET': 'S STATE ST',\n",
       "  'T_STREET': 'S DR MARTIN LUTHER KING JR DR'},\n",
       " 'geometry': {'type': 'MultiLineString',\n",
       "  'coordinates': [[[-87.62685625163756, 41.84558714841179],\n",
       "    [-87.62675996392576, 41.84558902593194],\n",
       "    [-87.62637708895348, 41.845596494328554],\n",
       "    [-87.62626461651281, 41.845598326696425],\n",
       "    [-87.62618268489398, 41.84559966093136],\n",
       "    [-87.6261438116618, 41.84560027230502],\n",
       "    [-87.62613206507362, 41.845600474403334],\n",
       "    [-87.6261027723024, 41.8456009526551],\n",
       "    [-87.62579736038116, 41.84560626159298],\n",
       "    [-87.62553890383363, 41.845610239979905],\n",
       "    [-87.62532611036139, 41.845613593674],\n",
       "    [-87.6247932635836, 41.84562202574476]],\n",
       "   [[-87.62532611036139, 41.845613593674],\n",
       "    [-87.6247932635836, 41.84562202574476]],\n",
       "   [[-87.6247932635836, 41.84562202574476],\n",
       "    [-87.62446484629727, 41.84562675013391],\n",
       "    [-87.62444032614908, 41.845627092762086]],\n",
       "   [[-87.6247932635836, 41.84562202574476],\n",
       "    [-87.62446484629727, 41.84562675013391],\n",
       "    [-87.62444032614908, 41.845627092762086]],\n",
       "   [[-87.62444032614908, 41.845627092762086],\n",
       "    [-87.62417259047609, 41.84563048939241]],\n",
       "   [[-87.62417259047609, 41.84563048939241],\n",
       "    [-87.62407957610536, 41.845631726253856],\n",
       "    [-87.62363619038385, 41.845638290417284],\n",
       "    [-87.62339190417225, 41.845641912449615],\n",
       "    [-87.62213773032211, 41.84566047069409],\n",
       "    [-87.620481318361, 41.845684971736716],\n",
       "    [-87.62033059867875, 41.84568719208078],\n",
       "    [-87.61886420422526, 41.84571018731772],\n",
       "    [-87.61783987848477, 41.845726258794926],\n",
       "    [-87.61768559736353, 41.84572529758383],\n",
       "    [-87.61767695024436, 41.84572400878766]],\n",
       "   [[-87.62417259047609, 41.84563048939241],\n",
       "    [-87.62407957610536, 41.845631726253856],\n",
       "    [-87.62363619038385, 41.845638290417284]]]},\n",
       " 'route_length': 0.8769425650373858}"
      ]
     },
     "execution_count": 33,
     "metadata": {},
     "output_type": "execute_result"
    }
   ],
   "source": [
    "ak.to_list(bikeroutes.features[751])"
   ]
  },
  {
   "cell_type": "markdown",
   "metadata": {},
   "source": [
    "Now every record has a `route_length` field."
   ]
  },
  {
   "cell_type": "code",
   "execution_count": 34,
   "metadata": {},
   "outputs": [
    {
     "data": {
      "text/plain": [
       "<Array [0.241, 0.0971, 0.203, ... 0.347, 0.281] type='1061 * float64'>"
      ]
     },
     "execution_count": 34,
     "metadata": {},
     "output_type": "execute_result"
    }
   ],
   "source": [
    "bikeroutes.features.route_length"
   ]
  },
  {
   "cell_type": "markdown",
   "metadata": {},
   "source": [
    "That's how these calculations go. If we were to do the same thing with Python for loops, it would be a lot more verbose and slower."
   ]
  },
  {
   "cell_type": "code",
   "execution_count": 35,
   "metadata": {},
   "outputs": [
    {
     "name": "stdout",
     "output_type": "stream",
     "text": [
      "72.9 ms ± 4.05 ms per loop (mean ± std. dev. of 7 runs, 10 loops each)\n"
     ]
    }
   ],
   "source": [
    "%%timeit\n",
    "\n",
    "total_length = []\n",
    "for route in bikeroutes_pyobj[\"features\"]:\n",
    "    route_length = []\n",
    "    for polyline in route[\"geometry\"][\"coordinates\"]:\n",
    "        segment_length = []\n",
    "        last = None\n",
    "        for lng, lat in polyline:\n",
    "            km_east = lng * 82.7\n",
    "            km_north = lat * 111.1\n",
    "            if last is not None:\n",
    "                dx2 = (km_east - last[0])**2\n",
    "                dy2 = (km_north - last[1])**2\n",
    "                segment_length.append(np.sqrt(dx2 + dy2))\n",
    "            last = (km_east, km_north)\n",
    "\n",
    "        route_length.append(sum(segment_length))\n",
    "    total_length.append(sum(route_length))"
   ]
  },
  {
   "cell_type": "code",
   "execution_count": 36,
   "metadata": {},
   "outputs": [
    {
     "name": "stdout",
     "output_type": "stream",
     "text": [
      "14.7 ms ± 714 µs per loop (mean ± std. dev. of 7 runs, 100 loops each)\n"
     ]
    }
   ],
   "source": [
    "%%timeit\n",
    "\n",
    "km_east = bikeroutes.features.geometry.coordinates[..., 0] * 82.7\n",
    "km_north = bikeroutes.features.geometry.coordinates[..., 1] * 111.1\n",
    "\n",
    "segment_length = np.sqrt((km_east[:, :, 1:] - km_east[:, :, :-1])**2 +\n",
    "                         (km_north[:, :, 1:] - km_north[:, :, :-1])**2)\n",
    "\n",
    "route_length = np.sum(segment_length, axis=-1)\n",
    "total_length = np.sum(route_length, axis=-1)"
   ]
  },
  {
   "cell_type": "markdown",
   "metadata": {},
   "source": [
    "In the limit, it's a factor of 8 faster. This isn't even a _great_ speedup; other examples easily reach a factor of 100.\n",
    "\n",
    "The point is that we're in the \"fast math\" regieme, where typical examples are an order of magnitude or two faster than \"slow Python.\"\n",
    "\n",
    "![](img/bikeroutes-scaling.png)"
   ]
  },
  {
   "cell_type": "markdown",
   "metadata": {},
   "source": [
    "## Particle physics data\n",
    "\n",
    "Now, of course, we want to see what this can do for particle physics data. This public CMS file has a million events and is often used to make dimuon spectra.\n",
    "\n",
    "The recommended way to get Awkward 1 arrays is to read with Uproot 3 (the current version) and then call [ak.from_awkward0](https://awkward-array.readthedocs.io/en/latest/_auto/ak.from_awkward0.html).\n",
    "\n",
    "(Uproot 4 will produce Awkward 1 arrays natively.)"
   ]
  },
  {
   "cell_type": "code",
   "execution_count": 7,
   "metadata": {},
   "outputs": [
    {
     "data": {
      "text/plain": [
       "{b'run': array([194778, 194778, 194778, ..., 195774, 195774, 195774], dtype=int32),\n",
       " b'luminosityBlock': array([ 51,  51,  51, ..., 503, 503, 503], dtype=uint32),\n",
       " b'event': array([ 12887941,  12963969,  13227276, ..., 819301164, 819332668,\n",
       "        819398412], dtype=uint64),\n",
       " b'PV_npvs': array([ 1,  1,  1, ..., 12, 20,  9], dtype=int32),\n",
       " b'PV_x': array([0.0722459 , 0.0722459 , 0.0722459 , ..., 0.07219489, 0.07082949,\n",
       "        0.06881613], dtype=float32),\n",
       " b'PV_y': array([0.06209353, 0.06209353, 0.06209353, ..., 0.06237721, 0.06023057,\n",
       "        0.06337257], dtype=float32),\n",
       " b'PV_z': array([-0.0280992 , -0.0280992 , -0.0280992 , ...,  1.5894414 ,\n",
       "         0.87497556, -0.6417597 ], dtype=float32),\n",
       " b'nMuon': array([2, 1, 2, ..., 2, 2, 2], dtype=uint32),\n",
       " b'Muon_pt': <JaggedArray [[52.008335 42.85704] [5.0199485] [15.967432 12.48129] ... [22.729137 3.3364584] [4.9992414 14.161738] [18.304218 9.717607]] at 0x7faa5329ff98>,\n",
       " b'Muon_eta': <JaggedArray [[1.2523203 1.6531223] [2.1219535] [-1.2414505 -0.7956085] ... [-1.255679 -1.3144984] [1.022114 0.070552915] [2.0739992 1.4298122]] at 0x7faa5329feb8>,\n",
       " b'Muon_phi': <JaggedArray [[0.8424168 -2.1548247] [1.721264] [-2.8183231 -1.5160582] ... [1.7431172 1.3890343] [-0.70920414 3.1194835] [-2.099591 -3.007432]] at 0x7faa5329fdd8>,\n",
       " b'Muon_mass': <JaggedArray [[0.10565837 0.10565837] [0.10565837] [0.10565837 0.10565837] ... [0.10565837 0.10565837] [0.10565837 0.10565837] [0.10565837 0.10565837]] at 0x7faa5329ff60>,\n",
       " b'Muon_charge': <JaggedArray [[1 -1] [1] [-1 1] ... [1 -1] [-1 1] [1 -1]] at 0x7faa5329fe80>,\n",
       " b'Muon_pfRelIso04_all': <JaggedArray [[-999.0 -999.0] [-999.0] [-999.0 -999.0] ... [0.73422843 3.8833656] [-999.0 2.0739806] [0.70220435 1.4961085]] at 0x7faa5329fda0>,\n",
       " b'Muon_tightId': <JaggedArray [[False False] [False] [False False] ... [True False] [False True] [True True]] at 0x7faa5329fcf8>}"
      ]
     },
     "execution_count": 7,
     "metadata": {},
     "output_type": "execute_result"
    }
   ],
   "source": [
    "import uproot\n",
    "cms_dict = uproot.open(\"data/cms_opendata_2012_nanoaod_DoubleMuParked.root\")[\"Events\"].arrays()\n",
    "cms_dict"
   ]
  },
  {
   "cell_type": "code",
   "execution_count": 8,
   "metadata": {},
   "outputs": [
    {
     "data": {
      "text/plain": [
       "{'run': <Array [194778, 194778, ... 195774, 195774] type='1000000 * int32'>,\n",
       " 'luminosityBlock': <Array [51, 51, 51, 51, ... 503, 503, 503, 503] type='1000000 * uint32'>,\n",
       " 'event': <Array [12887941, 12963969, ... 819398412] type='1000000 * uint64'>,\n",
       " 'PV_npvs': <Array [1, 1, 1, 1, 1, ... 11, 16, 12, 20, 9] type='1000000 * int32'>,\n",
       " 'PV_x': <Array [0.0722, 0.0722, ... 0.0708, 0.0688] type='1000000 * float32'>,\n",
       " 'PV_y': <Array [0.0621, 0.0621, ... 0.0602, 0.0634] type='1000000 * float32'>,\n",
       " 'PV_z': <Array [-0.0281, -0.0281, ... 0.875, -0.642] type='1000000 * float32'>,\n",
       " 'nMuon': <Array [2, 1, 2, 2, 2, 2, ... 4, 2, 2, 2, 2, 2] type='1000000 * uint32'>,\n",
       " 'Muon_pt': <Array [[52, 42.9], [5.02, ... [18.3, 9.72]] type='1000000 * var * float32'>,\n",
       " 'Muon_eta': <Array [[1.25, 1.65], ... [2.07, 1.43]] type='1000000 * var * float32'>,\n",
       " 'Muon_phi': <Array [[0.842, -2.15], ... [-2.1, -3.01]] type='1000000 * var * float32'>,\n",
       " 'Muon_mass': <Array [[0.106, 0.106], ... [0.106, 0.106]] type='1000000 * var * float32'>,\n",
       " 'Muon_charge': <Array [[1, -1], [1], ... [-1, 1], [1, -1]] type='1000000 * var * int32'>,\n",
       " 'Muon_pfRelIso04_all': <Array [[-999, -999], ... [0.702, 1.5]] type='1000000 * var * float32'>,\n",
       " 'Muon_tightId': <Array [[False, False], ... [True, True]] type='1000000 * var * bool'>}"
      ]
     },
     "execution_count": 8,
     "metadata": {},
     "output_type": "execute_result"
    }
   ],
   "source": [
    "cms_dict_ak1 = {name.decode(): ak.from_awkward0(array) for name, array in cms_dict.items()}\n",
    "cms_dict_ak1"
   ]
  },
  {
   "cell_type": "markdown",
   "metadata": {},
   "source": [
    "You might have noticed that the conversion was faster than the reading—actually the \"conversion\" only replaces old metadata with new metadata—they're the same array buffers in memory.\n",
    "\n",
    "Switching Awkward 0 ↔ Awkward 1 is an inexpensive operation, in terms of time and memory."
   ]
  },
  {
   "cell_type": "markdown",
   "metadata": {},
   "source": [
    "Speaking of memory, I loaded these million events into memory because they're only 250 MB of RAM.\n",
    "\n",
    "As Python objects, they're 1307 MB, 5.2× larger."
   ]
  },
  {
   "cell_type": "markdown",
   "metadata": {},
   "source": [
    "## Data as columns AND objects\n",
    "\n",
    "NanoAOD was invented at around the same time as Uproot—the success of NanoAOD is part of what's convincing me that directly engaging in array-based programming is working for physicists.\n",
    "\n",
    "Instead of letting C++ objects be split as an implementation detail in ROOT (see Uproot session), the data are \"pre-split\" into branches like `Muon_pt`, `Muon_eta`, and `Muon_phi`.\n",
    "\n",
    "But now we can have it both ways. The branches of a NanoAOD file can be the columns of an Awkward Array with event/particle structure."
   ]
  },
  {
   "cell_type": "code",
   "execution_count": 9,
   "metadata": {},
   "outputs": [
    {
     "data": {
      "text/plain": [
       "<Array [{run: 194778, ... ] type='1000000 * {\"run\": int32, \"luminosityBlock\": ui...'>"
      ]
     },
     "execution_count": 9,
     "metadata": {},
     "output_type": "execute_result"
    }
   ],
   "source": [
    "cms_events = ak.zip({\n",
    "    \"run\": cms_dict_ak1[\"run\"],\n",
    "    \"luminosityBlock\": cms_dict_ak1[\"luminosityBlock\"],\n",
    "    \"event\": cms_dict_ak1[\"event\"],\n",
    "    \"PV\": ak.zip({\n",
    "        \"x\": cms_dict_ak1[\"PV_x\"],\n",
    "        \"y\": cms_dict_ak1[\"PV_y\"],\n",
    "        \"z\": cms_dict_ak1[\"PV_z\"],\n",
    "    }),\n",
    "    \"muons\": ak.zip({\n",
    "        \"pt\": cms_dict_ak1[\"Muon_pt\"],\n",
    "        \"eta\": cms_dict_ak1[\"Muon_eta\"],\n",
    "        \"phi\": cms_dict_ak1[\"Muon_phi\"],\n",
    "        \"mass\": cms_dict_ak1[\"Muon_mass\"],\n",
    "        \"charge\": cms_dict_ak1[\"Muon_charge\"],\n",
    "        \"pfRelIso04_all\": cms_dict_ak1[\"Muon_pfRelIso04_all\"],\n",
    "        \"tightId\": cms_dict_ak1[\"Muon_tightId\"]\n",
    "    })\n",
    "}, depth_limit=1)\n",
    "\n",
    "cms_events"
   ]
  },
  {
   "cell_type": "code",
   "execution_count": 10,
   "metadata": {},
   "outputs": [
    {
     "data": {
      "text/plain": [
       "{'run': 194778,\n",
       " 'luminosityBlock': 51,\n",
       " 'event': 12887941,\n",
       " 'PV': {'x': 0.07224589586257935,\n",
       "  'y': 0.06209353357553482,\n",
       "  'z': -0.02809920161962509},\n",
       " 'muons': [{'pt': 52.00833511352539,\n",
       "   'eta': 1.2523202896118164,\n",
       "   'phi': 0.8424168229103088,\n",
       "   'mass': 0.10565836727619171,\n",
       "   'charge': 1,\n",
       "   'pfRelIso04_all': -999.0,\n",
       "   'tightId': False},\n",
       "  {'pt': 42.85704040527344,\n",
       "   'eta': 1.6531223058700562,\n",
       "   'phi': -2.154824733734131,\n",
       "   'mass': 0.10565836727619171,\n",
       "   'charge': -1,\n",
       "   'pfRelIso04_all': -999.0,\n",
       "   'tightId': False}]}"
      ]
     },
     "execution_count": 10,
     "metadata": {},
     "output_type": "execute_result"
    }
   ],
   "source": [
    "# this is the first event\n",
    "ak.to_list(cms_events[0])"
   ]
  },
  {
   "cell_type": "code",
   "execution_count": 11,
   "metadata": {},
   "outputs": [
    {
     "data": {
      "text/plain": [
       "{'pt': 52.00833511352539,\n",
       " 'eta': 1.2523202896118164,\n",
       " 'phi': 0.8424168229103088,\n",
       " 'mass': 0.10565836727619171,\n",
       " 'charge': 1,\n",
       " 'pfRelIso04_all': -999.0,\n",
       " 'tightId': False}"
      ]
     },
     "execution_count": 11,
     "metadata": {},
     "output_type": "execute_result"
    }
   ],
   "source": [
    "# this is the first muon in the first event\n",
    "ak.to_list(cms_events[0, \"muons\", 0])"
   ]
  },
  {
   "cell_type": "markdown",
   "metadata": {},
   "source": [
    "The above _manually_ links NanoAOD branches to record array structures, using [ak.zip](https://awkward-array.readthedocs.io/en/latest/_auto/ak.zip.html), but Nick has written a more general (and lazy) converter called [NanoEvents](https://github.com/CoffeaTeam/coffea/blob/9a29fe47fc690051be50773d262ee74e805a2f60/binder/nanoevents.ipynb) (look it up in the Coffea tools).\n",
    "\n",
    "That is what I would recommend for analysis of NanoAOD."
   ]
  },
  {
   "cell_type": "markdown",
   "metadata": {},
   "source": [
    "## Why making and breaking record structures is okay\n",
    "\n",
    "Zipping and projecting are essentially \"free\" from a computational point of view because we're just moving around metadata (i.e. _O(1)_, the computation time does not scale with the number of events).\n",
    "\n",
    "This is easier to see with a simple example."
   ]
  },
  {
   "cell_type": "code",
   "execution_count": 12,
   "metadata": {},
   "outputs": [
    {
     "data": {
      "text/plain": [
       "<Array [[{x: 0, y: []}, ... 1, 2, 3, 4]}]] type='3 * var * {\"x\": float64, \"y\": v...'>"
      ]
     },
     "execution_count": 12,
     "metadata": {},
     "output_type": "execute_result"
    }
   ],
   "source": [
    "x = ak.Array([[0.0, 1.1, 2.2], [], [3.3, 4.4]])\n",
    "y = ak.Array([[[], [1], [1, 2]], [], [[1, 2, 3], [1, 2, 3, 4]]])\n",
    "\n",
    "columnar = ak.zip({\"x\": x, \"y\": y}, depth_limit=2)\n",
    "columnar"
   ]
  },
  {
   "cell_type": "code",
   "execution_count": 13,
   "metadata": {},
   "outputs": [
    {
     "data": {
      "text/plain": [
       "[[{'x': 0.0, 'y': []}, {'x': 1.1, 'y': [1]}, {'x': 2.2, 'y': [1, 2]}],\n",
       " [],\n",
       " [{'x': 3.3, 'y': [1, 2, 3]}, {'x': 4.4, 'y': [1, 2, 3, 4]}]]"
      ]
     },
     "execution_count": 13,
     "metadata": {},
     "output_type": "execute_result"
    }
   ],
   "source": [
    "ak.to_list(columnar)"
   ]
  },
  {
   "cell_type": "code",
   "execution_count": 14,
   "metadata": {},
   "outputs": [
    {
     "data": {
      "text/plain": [
       "3 * var * {\"x\": float64, \"y\": var * int64}"
      ]
     },
     "execution_count": 14,
     "metadata": {},
     "output_type": "execute_result"
    }
   ],
   "source": [
    "ak.type(columnar)"
   ]
  },
  {
   "cell_type": "markdown",
   "metadata": {},
   "source": [
    "We've \"zipped\" `x` and `y` together to make records with fields named `x` and `y`.\n",
    "\n",
    "The `depth_limit=2` ensured that the outermost level of jaggedness is shared in the output but not the innermost. Here's what would happen if `depth_limit` were `1` or `3`:"
   ]
  },
  {
   "cell_type": "code",
   "execution_count": 15,
   "metadata": {},
   "outputs": [
    {
     "data": {
      "text/plain": [
       "[{'x': [0.0, 1.1, 2.2], 'y': [[], [1], [1, 2]]},\n",
       " {'x': [], 'y': []},\n",
       " {'x': [3.3, 4.4], 'y': [[1, 2, 3], [1, 2, 3, 4]]}]"
      ]
     },
     "execution_count": 15,
     "metadata": {},
     "output_type": "execute_result"
    }
   ],
   "source": [
    "ak.to_list(ak.zip({\"x\": x, \"y\": y}, depth_limit=1))"
   ]
  },
  {
   "cell_type": "code",
   "execution_count": 16,
   "metadata": {},
   "outputs": [
    {
     "data": {
      "text/plain": [
       "[[{'x': 0.0, 'y': []}, {'x': 1.1, 'y': [1]}, {'x': 2.2, 'y': [1, 2]}],\n",
       " [],\n",
       " [{'x': 3.3, 'y': [1, 2, 3]}, {'x': 4.4, 'y': [1, 2, 3, 4]}]]"
      ]
     },
     "execution_count": 16,
     "metadata": {},
     "output_type": "execute_result"
    }
   ],
   "source": [
    "ak.to_list(ak.zip({\"x\": x, \"y\": y}, depth_limit=2))"
   ]
  },
  {
   "cell_type": "code",
   "execution_count": 17,
   "metadata": {},
   "outputs": [
    {
     "data": {
      "text/plain": [
       "[[[], [{'x': 1.1, 'y': 1}], [{'x': 2.2, 'y': 1}, {'x': 2.2, 'y': 2}]],\n",
       " [],\n",
       " [[{'x': 3.3, 'y': 1}, {'x': 3.3, 'y': 2}, {'x': 3.3, 'y': 3}],\n",
       "  [{'x': 4.4, 'y': 1},\n",
       "   {'x': 4.4, 'y': 2},\n",
       "   {'x': 4.4, 'y': 3},\n",
       "   {'x': 4.4, 'y': 4}]]]"
      ]
     },
     "execution_count": 17,
     "metadata": {},
     "output_type": "execute_result"
    }
   ],
   "source": [
    "ak.to_list(ak.zip({\"x\": x, \"y\": y}, depth_limit=3))"
   ]
  },
  {
   "cell_type": "markdown",
   "metadata": {},
   "source": [
    "(The duplication of `x` fields to match `y` is called \"broadcasting.\" The same idea [exists in NumPy](https://numpy.org/doc/stable/user/basics.broadcasting.html), but we've extended it for jaggedness.)"
   ]
  },
  {
   "cell_type": "markdown",
   "metadata": {},
   "source": [
    "I've been using [ak.to_list](https://awkward-array.readthedocs.io/en/latest/_auto/ak.to_list.html) to show the array in its entirety by converting it to Python objects and letting Jupyter format them nicely.\n",
    "\n",
    "We should be thinking about the arrays in these terms: as nested lists and records. Printing out a very small sample with [ak.to_list](https://awkward-array.readthedocs.io/en/latest/_auto/ak.to_list.html) is a great debugging technique.\n",
    "\n",
    "But this is not how the data are laid out in memory. If you want to get into the details of how it works, look into the `layout`."
   ]
  },
  {
   "cell_type": "code",
   "execution_count": 18,
   "metadata": {},
   "outputs": [
    {
     "data": {
      "text/plain": [
       "<ListOffsetArray64>\n",
       "    <offsets><Index64 i=\"[0 3 3 5]\" offset=\"0\" length=\"4\" at=\"0x564f8c51ae20\"/></offsets>\n",
       "    <content><RecordArray>\n",
       "        <field index=\"0\" key=\"x\">\n",
       "            <NumpyArray format=\"d\" shape=\"5\" data=\"0 1.1 2.2 3.3 4.4\" at=\"0x564f8c518b80\"/>\n",
       "        </field>\n",
       "        <field index=\"1\" key=\"y\">\n",
       "            <ListArray64>\n",
       "                <starts><Index64 i=\"[0 0 1 3 6]\" offset=\"0\" length=\"5\" at=\"0x564f8c359440\"/></starts>\n",
       "                <stops><Index64 i=\"[0 1 3 6 10]\" offset=\"0\" length=\"5\" at=\"0x564f8c323040\"/></stops>\n",
       "                <content><NumpyArray format=\"l\" shape=\"10\" data=\"1 1 2 1 2 3 1 2 3 4\" at=\"0x564f8c5238b0\"/></content>\n",
       "            </ListArray64>\n",
       "        </field>\n",
       "    </RecordArray></content>\n",
       "</ListOffsetArray64>"
      ]
     },
     "execution_count": 18,
     "metadata": {},
     "output_type": "execute_result"
    }
   ],
   "source": [
    "columnar.layout"
   ]
  },
  {
   "cell_type": "markdown",
   "metadata": {},
   "source": [
    "This hierarchical structure of the layout mirrors the structure of the [ak.to_list](https://awkward-array.readthedocs.io/en/latest/_auto/ak.to_list.html) output with one important difference: the number of nodes scales with the complexity of the data structure, not the number of elements in the arrays. This example has 5 nodes, but if it had a million elements of the same data _type_, it will still just have 5 nodes.\n",
    "\n",
    "All the slow, bookkeeping-type code that has to have dynamic types to address different types without recompilation only has to walk over these 5 nodes.\n",
    "\n",
    "All the fast, vectorized code is precompiled to run over the arrays within those 5 nodes.\n",
    "\n",
    "![](img/example-hierarchy.png)"
   ]
  },
  {
   "cell_type": "markdown",
   "metadata": {},
   "source": [
    "For our `cms_events`, this means that 17 nodes represent a million events."
   ]
  },
  {
   "cell_type": "code",
   "execution_count": 19,
   "metadata": {},
   "outputs": [
    {
     "data": {
      "text/plain": [
       "<RecordArray>\n",
       "    <field index=\"0\" key=\"run\">\n",
       "        <NumpyArray format=\"i\" shape=\"1000000\" data=\"194778 194778 194778 194778 194778 ... 195774 195774 195774 195774 195774\" at=\"0x7faa4ffda010\"/>\n",
       "    </field>\n",
       "    <field index=\"1\" key=\"luminosityBlock\">\n",
       "        <NumpyArray format=\"I\" shape=\"1000000\" data=\"0x 33000000 33000000 33000000 33000000 ... f7010000 f7010000 f7010000 f7010000\" at=\"0x7faa4fc09010\"/>\n",
       "    </field>\n",
       "    <field index=\"2\" key=\"event\">\n",
       "        <NumpyArray format=\"L\" shape=\"1000000\" data=\"0x 85a7c400 00000000 81d0c500 00000000 ... 3c06d630 00000000 0c07d730 00000000\" at=\"0x7faa4f467010\"/>\n",
       "    </field>\n",
       "    <field index=\"3\" key=\"PV\">\n",
       "        <RecordArray>\n",
       "            <field index=\"0\" key=\"x\">\n",
       "                <NumpyArray format=\"f\" shape=\"1000000\" data=\"0.0722459 0.0722459 0.0722459 0.0722459 0.0722459 ... 0.0728568 0.0733762 0.0721949 0.0708295 0.0688161\" at=\"0x7faa4ecc5010\"/>\n",
       "            </field>\n",
       "            <field index=\"1\" key=\"y\">\n",
       "                <NumpyArray format=\"f\" shape=\"1000000\" data=\"0.0620935 0.0620935 0.0620935 0.0620935 0.0620935 ... 0.0592041 0.0606427 0.0623772 0.0602306 0.0633726\" at=\"0x7faa4e8f4010\"/>\n",
       "            </field>\n",
       "            <field index=\"2\" key=\"z\">\n",
       "                <NumpyArray format=\"f\" shape=\"1000000\" data=\"-0.0280992 -0.0280992 -0.0280992 -0.0280992 -0.0280992 ... -0.903353 0.519306 1.58944 0.874976 -0.64176\" at=\"0x7faa4e523010\"/>\n",
       "            </field>\n",
       "        </RecordArray>\n",
       "    </field>\n",
       "    <field index=\"4\" key=\"muons\">\n",
       "        <ListOffsetArray64>\n",
       "            <offsets><Index64 i=\"[0 2 3 5 7 ... 2366337 2366339 2366341 2366343 2366345]\" offset=\"0\" length=\"1000001\" at=\"0x7faa46e18010\"/></offsets>\n",
       "            <content><RecordArray>\n",
       "                <field index=\"0\" key=\"pt\">\n",
       "                    <NumpyArray format=\"f\" shape=\"2366345\" data=\"52.0083 42.857 5.01995 15.9674 12.4813 ... 3.33646 4.99924 14.1617 18.3042 9.71761\" at=\"0x7faa42537010\"/>\n",
       "                </field>\n",
       "                <field index=\"1\" key=\"eta\">\n",
       "                    <NumpyArray format=\"f\" shape=\"2366345\" data=\"1.25232 1.65312 2.12195 -1.24145 -0.795609 ... -1.3145 1.02211 0.0705529 2.074 1.42981\" at=\"0x564f8debfbb0\"/>\n",
       "                </field>\n",
       "                <field index=\"2\" key=\"phi\">\n",
       "                    <NumpyArray format=\"f\" shape=\"2366345\" data=\"0.842417 -2.15482 1.72126 -2.81832 -1.51606 ... 1.38903 -0.709204 3.11948 -2.09959 -3.00743\" at=\"0x564f8e7c69e0\"/>\n",
       "                </field>\n",
       "                <field index=\"3\" key=\"mass\">\n",
       "                    <NumpyArray format=\"f\" shape=\"2366345\" data=\"0.105658 0.105658 0.105658 0.105658 0.105658 ... 0.105658 0.105658 0.105658 0.105658 0.105658\" at=\"0x564f8f0cd810\"/>\n",
       "                </field>\n",
       "                <field index=\"4\" key=\"charge\">\n",
       "                    <NumpyArray format=\"i\" shape=\"2366345\" data=\"1 -1 1 -1 1 ... -1 -1 1 1 -1\" at=\"0x564f8f9d4640\"/>\n",
       "                </field>\n",
       "                <field index=\"5\" key=\"pfRelIso04_all\">\n",
       "                    <NumpyArray format=\"f\" shape=\"2366345\" data=\"-999 -999 -999 -999 -999 ... 3.88337 -999 2.07398 0.702204 1.49611\" at=\"0x564f902db470\"/>\n",
       "                </field>\n",
       "                <field index=\"6\" key=\"tightId\">\n",
       "                    <NumpyArray format=\"?\" shape=\"2366345\" data=\"false false false false false ... false false true true true\" at=\"0x564f90be22a0\"/>\n",
       "                </field>\n",
       "            </RecordArray></content>\n",
       "        </ListOffsetArray64>\n",
       "    </field>\n",
       "</RecordArray>"
      ]
     },
     "execution_count": 19,
     "metadata": {},
     "output_type": "execute_result"
    }
   ],
   "source": [
    "cms_events.layout"
   ]
  },
  {
   "cell_type": "markdown",
   "metadata": {},
   "source": [
    "Another consequence of this is that it's easy to \"project\" fields out of nested records into non-record arrays. (Again, just rearranging metadata.)"
   ]
  },
  {
   "cell_type": "code",
   "execution_count": 20,
   "metadata": {},
   "outputs": [
    {
     "data": {
      "text/plain": [
       "[[{'x': 0.0, 'y': []}, {'x': 1.1, 'y': [1]}, {'x': 2.2, 'y': [1, 2]}],\n",
       " [],\n",
       " [{'x': 3.3, 'y': [1, 2, 3]}, {'x': 4.4, 'y': [1, 2, 3, 4]}]]"
      ]
     },
     "execution_count": 20,
     "metadata": {},
     "output_type": "execute_result"
    }
   ],
   "source": [
    "ak.to_list(columnar)"
   ]
  },
  {
   "cell_type": "code",
   "execution_count": 21,
   "metadata": {},
   "outputs": [
    {
     "data": {
      "text/plain": [
       "[[0.0, 1.1, 2.2], [], [3.3, 4.4]]"
      ]
     },
     "execution_count": 21,
     "metadata": {},
     "output_type": "execute_result"
    }
   ],
   "source": [
    "ak.to_list(columnar.x)"
   ]
  },
  {
   "cell_type": "code",
   "execution_count": 22,
   "metadata": {},
   "outputs": [
    {
     "data": {
      "text/plain": [
       "[[[], [1], [1, 2]], [], [[1, 2, 3], [1, 2, 3, 4]]]"
      ]
     },
     "execution_count": 22,
     "metadata": {},
     "output_type": "execute_result"
    }
   ],
   "source": [
    "ak.to_list(columnar.y)"
   ]
  },
  {
   "cell_type": "code",
   "execution_count": 23,
   "metadata": {},
   "outputs": [
    {
     "data": {
      "text/plain": [
       "<Array [0.0722, 0.0722, ... 0.0708, 0.0688] type='1000000 * float32'>"
      ]
     },
     "execution_count": 23,
     "metadata": {},
     "output_type": "execute_result"
    }
   ],
   "source": [
    "cms_events.PV.x"
   ]
  },
  {
   "cell_type": "code",
   "execution_count": 24,
   "metadata": {},
   "outputs": [
    {
     "data": {
      "text/plain": [
       "<Array [[52, 42.9], [5.02, ... [18.3, 9.72]] type='1000000 * var * float32'>"
      ]
     },
     "execution_count": 24,
     "metadata": {},
     "output_type": "execute_result"
    }
   ],
   "source": [
    "cms_events.muons.pt"
   ]
  },
  {
   "cell_type": "markdown",
   "metadata": {},
   "source": [
    "In your analysis, feel free to zip and project as much as you find useful. Records are _fluid_."
   ]
  },
  {
   "cell_type": "markdown",
   "metadata": {},
   "source": [
    "## Imperative programming\n",
    "\n",
    "At this point, I'd usually show how slicing and combinatorics functions like [ak.cartesian](https://awkward-array.readthedocs.io/en/latest/_auto/ak.cartesian.html) and [ak.combinations](https://awkward-array.readthedocs.io/en/latest/_auto/ak.combinations.html) can be used to develop an analysis.\n",
    "\n",
    "But that gives the impression that columnar operations are the _only_ way to work. Although some operations are more convenient in this form, others are not.\n",
    "\n",
    "Therefore, I've been putting a lot of effort into making these arrays usable from [Numba](http://numba.pydata.org/), a just-in-time compiler for Python, which lets you write standard for-loop style (imperative) code, compile it on the fly, and run it."
   ]
  },
  {
   "cell_type": "code",
   "execution_count": 27,
   "metadata": {},
   "outputs": [],
   "source": [
    "import numpy as np\n",
    "import numba as nb\n",
    "\n",
    "@nb.jit\n",
    "def Zmass(events):\n",
    "    # How big of an output array should we allocate?\n",
    "    numZ = 0\n",
    "    for event in events:\n",
    "        numZ += max(0, len(event.muons) * (len(event.muons) - 1) // 2)\n",
    "    \n",
    "    # Allocate the output array.\n",
    "    out = np.empty(numZ, np.float64)\n",
    "\n",
    "    # Fill the output array.\n",
    "    numZ = 0\n",
    "    for event in events:\n",
    "        for i in range(len(event.muons)):\n",
    "            for j in range(i + 1, len(event.muons)):\n",
    "                m1 = event.muons[i]\n",
    "                m2 = event.muons[j]\n",
    "                out[numZ] = np.sqrt(2*m1.pt*m2.pt*(np.cosh(m1.eta - m2.eta) - np.cos(m1.phi - m2.phi)))\n",
    "                numZ += 1\n",
    "\n",
    "    return out"
   ]
  },
  {
   "cell_type": "code",
   "execution_count": 28,
   "metadata": {},
   "outputs": [
    {
     "data": {
      "text/plain": [
       "array([ 96.08437546,  18.25135189, 101.1641765 , ...,   3.10986907,\n",
       "        17.8928293 ,  14.60150863])"
      ]
     },
     "execution_count": 28,
     "metadata": {},
     "output_type": "execute_result"
    }
   ],
   "source": [
    "Zmass(cms_events)"
   ]
  },
  {
   "cell_type": "code",
   "execution_count": 29,
   "metadata": {},
   "outputs": [
    {
     "data": {
      "image/png": "[encoded data removed]",
      "text/plain": [
       "<Figure size 432x288 with 1 Axes>"
      ]
     },
     "metadata": {
      "needs_background": "light"
     },
     "output_type": "display_data"
    }
   ],
   "source": [
    "import matplotlib.pyplot as plt\n",
    "\n",
    "plt.hist(Zmass(cms_events), bins=100, range=(60, 120));"
   ]
  },
  {
   "cell_type": "code",
   "execution_count": 30,
   "metadata": {},
   "outputs": [
    {
     "data": {
      "image/png": "[encoded data removed]",
      "text/plain": [
       "<Figure size 432x288 with 1 Axes>"
      ]
     },
     "metadata": {
      "needs_background": "light"
     },
     "output_type": "display_data"
    }
   ],
   "source": [
    "plt.hist(Zmass(cms_events), bins=300, range=(0, 12))\n",
    "plt.yscale(\"log\")"
   ]
  },
  {
   "cell_type": "markdown",
   "metadata": {},
   "source": [
    "Now the precise way the events were zipped _is_ important. With a flatter structure, the code would have to be entirely different:"
   ]
  },
  {
   "cell_type": "code",
   "execution_count": 31,
   "metadata": {},
   "outputs": [
    {
     "data": {
      "text/plain": [
       "1000000 * {\"run\": int32, \"luminosityBlock\": uint32, \"event\": uint64, \"PV_npvs\": int32, \"PV_x\": float32, \"PV_y\": float32, \"PV_z\": float32, \"nMuon\": uint32, \"Muon_pt\": var * float32, \"Muon_eta\": var * float32, \"Muon_phi\": var * float32, \"Muon_mass\": var * float32, \"Muon_charge\": var * int32, \"Muon_pfRelIso04_all\": var * float32, \"Muon_tightId\": var * bool}"
      ]
     },
     "execution_count": 31,
     "metadata": {},
     "output_type": "execute_result"
    }
   ],
   "source": [
    "cms_events_flat = ak.zip(cms_dict_ak1, depth_limit=1)\n",
    "ak.type(cms_events_flat)"
   ]
  },
  {
   "cell_type": "code",
   "execution_count": 32,
   "metadata": {},
   "outputs": [],
   "source": [
    "@nb.jit\n",
    "def Zmass_flat(events):\n",
    "    numZ = 0\n",
    "    for event in events:\n",
    "        numZ += max(0, event.nMuon * (event.nMuon - 1) // 2)\n",
    "    out = np.empty(numZ, np.float64)\n",
    "\n",
    "    numZ = 0\n",
    "    for event in events:\n",
    "        for i in range(event.nMuon):\n",
    "            for j in range(i + 1, event.nMuon):\n",
    "                pt1 = event.Muon_pt[i]    # muons are not objects containing pt, eta, phi\n",
    "                pt2 = event.Muon_pt[j]    # the Muon_pt, Muon_eta, Muon_phi arrays are separate\n",
    "                eta1 = event.Muon_eta[i]\n",
    "                eta2 = event.Muon_eta[j]\n",
    "                phi1 = event.Muon_phi[i]\n",
    "                phi2 = event.Muon_phi[j]\n",
    "                out[numZ] = np.sqrt(2*pt1*pt2*(np.cosh(eta1 - eta2) - np.cos(phi1 - phi2)))\n",
    "                numZ += 1\n",
    "    return out"
   ]
  },
  {
   "cell_type": "code",
   "execution_count": 33,
   "metadata": {},
   "outputs": [
    {
     "data": {
      "text/plain": [
       "Text(0.5, 0, 'log(mass)')"
      ]
     },
     "execution_count": 33,
     "metadata": {},
     "output_type": "execute_result"
    },
    {
     "data": {
      "image/png": "[encoded data removed]",
      "text/plain": [
       "<Figure size 432x288 with 1 Axes>"
      ]
     },
     "metadata": {
      "needs_background": "light"
     },
     "output_type": "display_data"
    }
   ],
   "source": [
    "with np.errstate(divide=\"ignore\"):\n",
    "    plt.hist(np.log(Zmass(cms_events)), bins=1000, range=(0, 5))\n",
    "plt.yscale(\"log\")\n",
    "plt.xlabel(\"log(mass)\")"
   ]
  },
  {
   "cell_type": "markdown",
   "metadata": {},
   "source": [
    "If you'd rather write conventional loop-style analysis code, then Numba may be the best way to do it.\n",
    "\n",
    "The advantage **Numba** brings is that the compilation is fast, doesn't take you out of the interactive environment, and is identical to Python code that you can test on small samples.\n",
    "\n",
    "The advantage **Awkward Array** brings is efficiently getting data from ROOT files into Numba compiled functions. Numba's builtin interface acceps NumPy arrays, which are unstructured, and Python objects, which are slow to \"unbox\" into statically typed values. Awkward keeps the columnar ROOT data columnar with static types for compilation.\n",
    "\n",
    "There are some **limitations**, however:\n",
    "\n",
    "   * Numba publishes a list of [Python language features](https://numba.pydata.org/numba-doc/dev/reference/pysupported.html) and [NumPy functions](https://numba.pydata.org/numba-doc/dev/reference/numpysupported.html) that it supports. You have to learn the \"sublanguage\" of Python that can be statically typed and compiled.\n",
    "   * Array-at-a-time functions in the Awkward Array library are not supported: in a compiled function, you _must_ use imperative code.\n",
    "   * Awkward Arrays are read-only. Therefore, you can't create new arrays inside a compiled function."
   ]
  },
  {
   "cell_type": "markdown",
   "metadata": {},
   "source": [
    "## Creating arrays in a Numba-compiled function\n",
    "\n",
    "In the above example, the output was a NumPy array because Numba supports the creation and filling of NumPy arrays.\n",
    "\n",
    "If the derived quantities you want to create are \"flat\" in that sense, outputting NumPy is a good option. Note that this includes boolean arrays that you might use to cut an Awkward Array outside of the compiled function:"
   ]
  },
  {
   "cell_type": "code",
   "execution_count": 34,
   "metadata": {},
   "outputs": [
    {
     "data": {
      "text/plain": [
       "array([ True, False, False, ..., False, False, False])"
      ]
     },
     "execution_count": 34,
     "metadata": {},
     "output_type": "execute_result"
    }
   ],
   "source": [
    "@nb.jit\n",
    "def event_has_z(event):\n",
    "    for i in range(len(event.muons)):\n",
    "        for j in range(i + 1, len(event.muons)):\n",
    "            m1 = event.muons[i]\n",
    "            m2 = event.muons[j]\n",
    "            mass = np.sqrt(2*m1.pt*m2.pt*(np.cosh(m1.eta - m2.eta) - np.cos(m1.phi - m2.phi)))\n",
    "            if 60 < mass and mass < 120:\n",
    "                return True\n",
    "    return False\n",
    "\n",
    "@nb.jit\n",
    "def has_z(events):\n",
    "    i = 0\n",
    "    out = np.empty(len(events), np.bool_)\n",
    "    for event in events:\n",
    "        out[i] = event_has_z(event)\n",
    "        i += 1\n",
    "    return out\n",
    "\n",
    "mask = has_z(cms_events)\n",
    "mask"
   ]
  },
  {
   "cell_type": "code",
   "execution_count": 35,
   "metadata": {},
   "outputs": [
    {
     "data": {
      "text/plain": [
       "<Array [{run: 194778, ... ] type='141230 * {\"run\": int32, \"luminosityBlock\": uin...'>"
      ]
     },
     "execution_count": 35,
     "metadata": {},
     "output_type": "execute_result"
    }
   ],
   "source": [
    "cms_events[mask]"
   ]
  },
  {
   "cell_type": "markdown",
   "metadata": {},
   "source": [
    "In this case, what we wanted and got in the end is a data structure, but Numba only had to return a flat array of booleans.\n",
    "\n",
    "However, there will be cases when you want to get a data structure out. [ak.ArrayBuilder](https://awkward-array.readthedocs.io/en/latest/_auto/ak.ArrayBuilder.html) is intended for that."
   ]
  },
  {
   "cell_type": "code",
   "execution_count": 36,
   "metadata": {},
   "outputs": [],
   "source": [
    "@nb.jit\n",
    "def Zcandidates(events, builder):\n",
    "    for event in events:\n",
    "\n",
    "        # Begin a list in the output, like printing \"[\"\n",
    "        builder.begin_list()\n",
    "\n",
    "        for i in range(len(event.muons)):\n",
    "            for j in range(i + 1, len(event.muons)):\n",
    "                m1 = event.muons[i]\n",
    "                m2 = event.muons[j]\n",
    "                mass = np.sqrt(2*m1.pt*m2.pt*(np.cosh(m1.eta - m2.eta) - np.cos(m1.phi - m2.phi)))\n",
    "                if 60 < mass and mass < 120:\n",
    "\n",
    "                    # Begin a record in the output, like printing \"{\"\n",
    "                    builder.begin_record()\n",
    "\n",
    "                    builder.field(\"mass\")\n",
    "                    builder.append(mass)\n",
    "\n",
    "                    builder.field(\"muon1\")\n",
    "                    builder.append(m1)\n",
    "\n",
    "                    builder.field(\"muon2\")\n",
    "                    builder.append(m2)\n",
    "\n",
    "                    # End a record in the output, like printing \"}\"\n",
    "                    builder.end_record()\n",
    "\n",
    "        # End a list in the output, like printing \"]\"\n",
    "        builder.end_list()\n",
    "\n",
    "    return builder"
   ]
  },
  {
   "cell_type": "code",
   "execution_count": 37,
   "metadata": {},
   "outputs": [
    {
     "data": {
      "text/plain": [
       "<ArrayBuilder [[{mass: 96.1, muon1: {, ... [], []] type='var * {\"mass\": float64,...'>"
      ]
     },
     "execution_count": 37,
     "metadata": {},
     "output_type": "execute_result"
    }
   ],
   "source": [
    "builder = Zcandidates(cms_events, ak.ArrayBuilder())\n",
    "builder"
   ]
  },
  {
   "cell_type": "markdown",
   "metadata": {},
   "source": [
    "This ak.ArrayBuilder is not an array, but it can quickly (i.e. zero-copy) become one by calling `snapshot`."
   ]
  },
  {
   "cell_type": "code",
   "execution_count": 38,
   "metadata": {},
   "outputs": [
    {
     "data": {
      "text/plain": [
       "<Array [[{mass: 96.1, muon1: {, ... [], []] type='1000000 * var * {\"mass\": float...'>"
      ]
     },
     "execution_count": 38,
     "metadata": {},
     "output_type": "execute_result"
    }
   ],
   "source": [
    "builder.snapshot()"
   ]
  },
  {
   "cell_type": "markdown",
   "metadata": {},
   "source": [
    "This array has a lot of structure: each element is a list of records with a `mass` (float), `muon1` (another record), and `muon2` (another record)."
   ]
  },
  {
   "cell_type": "code",
   "execution_count": 39,
   "metadata": {},
   "outputs": [
    {
     "data": {
      "text/plain": [
       "1000000 * var * {\"mass\": float64, \"muon1\": {\"pt\": float32, \"eta\": float32, \"phi\": float32, \"mass\": float32, \"charge\": int32, \"pfRelIso04_all\": float32, \"tightId\": bool}, \"muon2\": {\"pt\": float32, \"eta\": float32, \"phi\": float32, \"mass\": float32, \"charge\": int32, \"pfRelIso04_all\": float32, \"tightId\": bool}}"
      ]
     },
     "execution_count": 39,
     "metadata": {},
     "output_type": "execute_result"
    }
   ],
   "source": [
    "ak.type(builder.snapshot())"
   ]
  },
  {
   "cell_type": "code",
   "execution_count": 40,
   "metadata": {},
   "outputs": [
    {
     "data": {
      "text/plain": [
       "[{'mass': 96.08437546227617,\n",
       "  'muon1': {'pt': 52.00833511352539,\n",
       "   'eta': 1.2523202896118164,\n",
       "   'phi': 0.8424168229103088,\n",
       "   'mass': 0.10565836727619171,\n",
       "   'charge': 1,\n",
       "   'pfRelIso04_all': -999.0,\n",
       "   'tightId': False},\n",
       "  'muon2': {'pt': 42.85704040527344,\n",
       "   'eta': 1.6531223058700562,\n",
       "   'phi': -2.154824733734131,\n",
       "   'mass': 0.10565836727619171,\n",
       "   'charge': -1,\n",
       "   'pfRelIso04_all': -999.0,\n",
       "   'tightId': False}}]"
      ]
     },
     "execution_count": 40,
     "metadata": {},
     "output_type": "execute_result"
    }
   ],
   "source": [
    "ak.to_list(builder.snapshot()[0])"
   ]
  },
  {
   "cell_type": "markdown",
   "metadata": {},
   "source": [
    "An ArrayBuilder makes arrays whose type is determined by the _order in which its methods are called_:\n",
    "\n",
    "```\n",
    "b = ak.ArrayBuilder()\n",
    "\n",
    "# fill commands   # as JSON   # current array type\n",
    "##########################################################################################\n",
    "b.begin_list()    # [         # 0 * var * unknown     (initially, the type is unknown)\n",
    "b.integer(1)      #   1,      # 0 * var * int64\n",
    "b.integer(2)      #   2,      # 0 * var * int64\n",
    "b.real(3)         #   3.0     # 0 * var * float64     (all the integers have become floats)\n",
    "b.end_list()      # ],        # 1 * var * float64\n",
    "b.begin_list()    # [         # 1 * var * float64\n",
    "b.end_list()      # ],        # 2 * var * float64\n",
    "b.begin_list()    # [         # 2 * var * float64\n",
    "b.integer(4)      #   4,      # 2 * var * float64\n",
    "b.null()          #   null,   # 2 * var * ?float64    (now the floats are nullable)\n",
    "b.integer(5)      #   5       # 2 * var * ?float64\n",
    "b.end_list()      # ],        # 3 * var * ?float64\n",
    "b.begin_list()    # [         # 3 * var * ?float64\n",
    "b.begin_record()  #   {       # 3 * var * ?union[float64, {}]\n",
    "b.field(\"x\")      #     \"x\":  # 3 * var * ?union[float64, {\"x\": unknown}]\n",
    "b.integer(1)      #      1,   # 3 * var * ?union[float64, {\"x\": int64}]\n",
    "b.field(\"y\")      #      \"y\": # 3 * var * ?union[float64, {\"x\": int64, \"y\": unknown}]\n",
    "b.begin_list()    #      [    # 3 * var * ?union[float64, {\"x\": int64, \"y\": var * unknown}]\n",
    "b.integer(2)      #        2, # 3 * var * ?union[float64, {\"x\": int64, \"y\": var * int64}]\n",
    "b.integer(3)      #        3  # 3 * var * ?union[float64, {\"x\": int64, \"y\": var * int64}]\n",
    "b.end_list()      #      ]    # 3 * var * ?union[float64, {\"x\": int64, \"y\": var * int64}]\n",
    "b.end_record()    #   }       # 3 * var * ?union[float64, {\"x\": int64, \"y\": var * int64}]\n",
    "b.end_list()      # ]         # 4 * var * ?union[float64, {\"x\": int64, \"y\": var * int64}]\n",
    "```\n",
    "\n",
    "It is a bit like writing JSON from a script, except that it fills columnar data structures, rather than writing text.\n",
    "\n",
    "Thus, it is very important to close each `begin_X` with an `end_X` (at the right place) to avoid making enormous, unclosed data structures! Try your scripts on small samples (outside of Numba) before scaling up.\n",
    "\n",
    "The `append` method is a synonym for `null`, `boolean`, `integer`, `real`, etc., determining its type from its argument. In Numba, that type-determination happens at compile-time (fast). But it can also insert whole data structures, like `muon1` and `muon2` in the Z candidates above. The muons are inserted _by reference_ (not copied)."
   ]
  },
  {
   "cell_type": "markdown",
   "metadata": {},
   "source": [
    "One more caveat: since ArrayBuilder is dynamically typed and its length scales dynamically (like `std::vector`), it's slower than filling a NumPy array:"
   ]
  },
  {
   "cell_type": "code",
   "execution_count": 41,
   "metadata": {},
   "outputs": [],
   "source": [
    "@nb.jit\n",
    "def fill_with_numpy():\n",
    "    out = np.empty(10000000, np.int64)\n",
    "    for i in range(10000000):\n",
    "        out[i] = i\n",
    "    return out\n",
    "\n",
    "@nb.jit\n",
    "def fill_with_builder(builder):\n",
    "    for i in range(10000000):\n",
    "        builder.integer(i)\n",
    "    return builder\n",
    "\n",
    "# run them each once to not count the compilation step in the timing below\n",
    "fill_with_numpy()\n",
    "fill_with_builder(ak.ArrayBuilder());"
   ]
  },
  {
   "cell_type": "code",
   "execution_count": 42,
   "metadata": {},
   "outputs": [
    {
     "name": "stdout",
     "output_type": "stream",
     "text": [
      "34.5 ms ± 1.74 ms per loop (mean ± std. dev. of 7 runs, 10 loops each)\n"
     ]
    }
   ],
   "source": [
    "%%timeit\n",
    "\n",
    "fill_with_numpy()"
   ]
  },
  {
   "cell_type": "code",
   "execution_count": 43,
   "metadata": {},
   "outputs": [
    {
     "name": "stdout",
     "output_type": "stream",
     "text": [
      "2.85 s ± 706 ms per loop (mean ± std. dev. of 7 runs, 1 loop each)\n"
     ]
    }
   ],
   "source": [
    "%%timeit\n",
    "\n",
    "fill_with_builder(ak.ArrayBuilder())"
   ]
  },
  {
   "cell_type": "markdown",
   "metadata": {},
   "source": [
    "I had to make the workload trivial (just filling with increasing numbers) to see such a dramatic difference, but there's a factor of 10 right there.\n",
    "\n",
    "If what you're doing is moderately complex, then the distinction is hidden by the rest of the workload (e.g. only a factor of 2 for filling with `np.random.normal(0, 1)` and no visible difference when filling Z candidates).\n",
    "\n",
    "So if it's just as easy to fill NumPy arrays and [ak.zip](https://awkward-array.readthedocs.io/en/latest/_auto/ak.zip.html) them or use them as slices later, then do so."
   ]
  },
  {
   "cell_type": "markdown",
   "metadata": {},
   "source": [
    "## And now, columnar analysis\n",
    "\n",
    "We can analyze physics data like the way we analyzed the Chicago bike routes: by slicing, projecting, and zipping nested data structures.\n",
    "\n",
    "We could start with a Z peak, the \"hello world\" of particle physics because it has minimal, non-trivial combinatorics.\n",
    "\n",
    "It's actually easier than the imperative code in the Numba examples if you have functions like [ak.cartesian](https://awkward-array.readthedocs.io/en/latest/_auto/ak.cartesian.html) and [ak.combinations](https://awkward-array.readthedocs.io/en/latest/_auto/ak.combinations.html)."
   ]
  },
  {
   "cell_type": "markdown",
   "metadata": {},
   "source": [
    "### Cartesian (cross) products\n",
    "\n",
    "[ak.cartesian](https://awkward-array.readthedocs.io/en/latest/_auto/ak.cartesian.html) makes all possible pairs (or triples, etc.) from two (or three, etc.) collections.\n",
    "\n",
    "If `axis=1` (the default), it does so for each list in arrays of lists.\n",
    "\n",
    "![](img/cartoon-cartesian.png)"
   ]
  },
  {
   "cell_type": "code",
   "execution_count": 44,
   "metadata": {},
   "outputs": [
    {
     "data": {
      "text/plain": [
       "[[(1, 'a'), (1, 'b'), (2, 'a'), (2, 'b'), (3, 'a'), (3, 'b')],\n",
       " [],\n",
       " [(4, 'd'), (4, 'e')]]"
      ]
     },
     "execution_count": 44,
     "metadata": {},
     "output_type": "execute_result"
    }
   ],
   "source": [
    "ak.cartesian(([[  1,   2, 3], [   ], [4       ]],\n",
    "              [[\"a\", \"b\"   ], [\"c\"], [\"d\", \"e\"]])).tolist()"
   ]
  },
  {
   "cell_type": "markdown",
   "metadata": {},
   "source": [
    "### Combinations\n",
    "\n",
    "[ak.combinations](https://awkward-array.readthedocs.io/en/latest/_auto/ak.combinations.html) makes all possible pairs (or triples, etc.) of a collection with itself, without duplicates.\n",
    "\n",
    "If `axis=1` (the default), it does so for each list in an array of lists.\n",
    "\n",
    "![](img/cartoon-combinations.png)"
   ]
  },
  {
   "cell_type": "code",
   "execution_count": 45,
   "metadata": {},
   "outputs": [
    {
     "data": {
      "text/plain": [
       "[[(1, 2), (1, 3), (1, 4), (2, 3), (2, 4), (3, 4)], [], [(5, 6)]]"
      ]
     },
     "execution_count": 45,
     "metadata": {},
     "output_type": "execute_result"
    }
   ],
   "source": [
    "ak.combinations([[1, 2, 3, 4], [], [5, 6]], 2).tolist()"
   ]
  },
  {
   "cell_type": "markdown",
   "metadata": {},
   "source": [
    "### Applying this to the Z peak\n",
    "\n",
    "To make a Z peak, we must consider all possible pairs of muons, without duplicates.\n",
    "\n",
    "In the columnar analysis way of thinking, we make those pairs before we've fully decided what we're going to do with them."
   ]
  },
  {
   "cell_type": "code",
   "execution_count": 46,
   "metadata": {},
   "outputs": [
    {
     "data": {
      "text/plain": [
       "<Array [[({pt: 52, ... tightId: True})]] type='1000000 * var * ({\"pt\": float32, ...'>"
      ]
     },
     "execution_count": 46,
     "metadata": {},
     "output_type": "execute_result"
    }
   ],
   "source": [
    "pairs = ak.combinations(cms_events.muons, 2)\n",
    "pairs"
   ]
  },
  {
   "cell_type": "code",
   "execution_count": 47,
   "metadata": {},
   "outputs": [
    {
     "data": {
      "text/plain": [
       "1000000 * var * ({\"pt\": float32, \"eta\": float32, \"phi\": float32, \"mass\": float32, \"charge\": int32, \"pfRelIso04_all\": float32, \"tightId\": bool}, {\"pt\": float32, \"eta\": float32, \"phi\": float32, \"mass\": float32, \"charge\": int32, \"pfRelIso04_all\": float32, \"tightId\": bool})"
      ]
     },
     "execution_count": 47,
     "metadata": {},
     "output_type": "execute_result"
    }
   ],
   "source": [
    "ak.type(pairs)"
   ]
  },
  {
   "cell_type": "markdown",
   "metadata": {},
   "source": [
    "It would be more convenient if the \"left muon\" and \"right muon\" in each pair were in separate arrays.\n",
    "\n",
    "That's an easy operation with projection/zipping/etc."
   ]
  },
  {
   "cell_type": "code",
   "execution_count": 48,
   "metadata": {},
   "outputs": [
    {
     "data": {
      "text/plain": [
       "(<Array [[{pt: 52, ... tightId: True}]] type='1000000 * var * {\"pt\": float32, \"et...'>,\n",
       " <Array [[{pt: 42.9, ... tightId: True}]] type='1000000 * var * {\"pt\": float32, \"...'>)"
      ]
     },
     "execution_count": 48,
     "metadata": {},
     "output_type": "execute_result"
    }
   ],
   "source": [
    "m1, m2 = ak.unzip(pairs)\n",
    "m1, m2"
   ]
  },
  {
   "cell_type": "markdown",
   "metadata": {},
   "source": [
    "Now we can just apply the formula, vectorially."
   ]
  },
  {
   "cell_type": "code",
   "execution_count": 49,
   "metadata": {},
   "outputs": [
    {
     "data": {
      "text/plain": [
       "<Array [[96.1], [], [18.3, ... [17.9], [14.6]] type='1000000 * var * float32'>"
      ]
     },
     "execution_count": 49,
     "metadata": {},
     "output_type": "execute_result"
    }
   ],
   "source": [
    "mass = np.sqrt(2*m1.pt*m2.pt*(np.cosh(m1.eta - m2.eta) - np.cos(m1.phi - m2.phi)))\n",
    "mass"
   ]
  },
  {
   "cell_type": "markdown",
   "metadata": {},
   "source": [
    "This array still has event structure (some events have zero pairs, others have several).\n",
    "\n",
    "We can plot it now to see what the data look like, but we have to flatten it. (Note: the default [ak.flatten](https://awkward-array.readthedocs.io/en/latest/_auto/ak.flatten.html) axis is 1.)"
   ]
  },
  {
   "cell_type": "code",
   "execution_count": 50,
   "metadata": {},
   "outputs": [
    {
     "data": {
      "image/png": "[encoded data removed]",
      "text/plain": [
       "<Figure size 432x288 with 1 Axes>"
      ]
     },
     "metadata": {
      "needs_background": "light"
     },
     "output_type": "display_data"
    }
   ],
   "source": [
    "plt.hist(ak.flatten(mass), bins=100, range=(60, 120));"
   ]
  },
  {
   "cell_type": "markdown",
   "metadata": {},
   "source": [
    "The next step would probably be to filter non-Z dimuons. We do that by making an array of booleans and slicing the array with it, as in NumPy.\n",
    "\n",
    "Note that `and` and `or` don't work for (vectorized) logic on arrays. Just as in NumPy, we're forced to use `&` and `|`, which has a different operator precedence, so I put expressions in parentheses for safety."
   ]
  },
  {
   "cell_type": "code",
   "execution_count": 51,
   "metadata": {},
   "outputs": [
    {
     "data": {
      "text/plain": [
       "<Array [[True], [], ... [False], [False]] type='1000000 * var * bool'>"
      ]
     },
     "execution_count": 51,
     "metadata": {},
     "output_type": "execute_result"
    }
   ],
   "source": [
    "mask = (60 < mass) & (mass < 120)\n",
    "mask"
   ]
  },
  {
   "cell_type": "markdown",
   "metadata": {},
   "source": [
    "Unlike NumPy slicing, this is a _jagged_ array of booleans, but that's fine for masking a jagged array, as long as the lengths of all sublists match."
   ]
  },
  {
   "cell_type": "code",
   "execution_count": 52,
   "metadata": {},
   "outputs": [
    {
     "data": {
      "text/plain": [
       "<Array [[96.1], [], [], ... [], [], [], []] type='1000000 * var * float32'>"
      ]
     },
     "execution_count": 52,
     "metadata": {},
     "output_type": "execute_result"
    }
   ],
   "source": [
    "mass[mask]"
   ]
  },
  {
   "cell_type": "markdown",
   "metadata": {},
   "source": [
    "Now we can make a Z record structure, just like the one we built with an ak.ArrayBuilder in Numba."
   ]
  },
  {
   "cell_type": "code",
   "execution_count": 53,
   "metadata": {},
   "outputs": [
    {
     "data": {
      "text/plain": [
       "<Array [[{mass: 96.1, muon1: {, ... [], []] type='1000000 * var * {\"mass\": float...'>"
      ]
     },
     "execution_count": 53,
     "metadata": {},
     "output_type": "execute_result"
    }
   ],
   "source": [
    "z_records = ak.zip({\"mass\": mass[mask], \"muon1\": m1[mask], \"muon2\": m2[mask]})\n",
    "z_records"
   ]
  },
  {
   "cell_type": "code",
   "execution_count": 56,
   "metadata": {},
   "outputs": [
    {
     "data": {
      "text/plain": [
       "1000000 * var * {\"mass\": float32, \"muon1\": {\"pt\": float32, \"eta\": float32, \"phi\": float32, \"mass\": float32, \"charge\": int32, \"pfRelIso04_all\": float32, \"tightId\": bool}, \"muon2\": {\"pt\": float32, \"eta\": float32, \"phi\": float32, \"mass\": float32, \"charge\": int32, \"pfRelIso04_all\": float32, \"tightId\": bool}}"
      ]
     },
     "execution_count": 56,
     "metadata": {},
     "output_type": "execute_result"
    }
   ],
   "source": [
    "ak.type(z_records)"
   ]
  },
  {
   "cell_type": "code",
   "execution_count": 57,
   "metadata": {},
   "outputs": [
    {
     "data": {
      "text/plain": [
       "[{'mass': 96.0843734741211,\n",
       "  'muon1': {'pt': 52.00833511352539,\n",
       "   'eta': 1.2523202896118164,\n",
       "   'phi': 0.8424168229103088,\n",
       "   'mass': 0.10565836727619171,\n",
       "   'charge': 1,\n",
       "   'pfRelIso04_all': -999.0,\n",
       "   'tightId': False},\n",
       "  'muon2': {'pt': 42.85704040527344,\n",
       "   'eta': 1.6531223058700562,\n",
       "   'phi': -2.154824733734131,\n",
       "   'mass': 0.10565836727619171,\n",
       "   'charge': -1,\n",
       "   'pfRelIso04_all': -999.0,\n",
       "   'tightId': False}}]"
      ]
     },
     "execution_count": 57,
     "metadata": {},
     "output_type": "execute_result"
    }
   ],
   "source": [
    "ak.to_list(z_records[0])"
   ]
  },
  {
   "cell_type": "markdown",
   "metadata": {},
   "source": [
    "## Cuts on particles, cuts on events\n",
    "\n",
    "The jagged array of booleans is an Awkward extension of NumPy's slicing syntax.\n",
    "\n",
    "We use it to make a distinction between filtering particles:"
   ]
  },
  {
   "cell_type": "code",
   "execution_count": 58,
   "metadata": {},
   "outputs": [
    {
     "data": {
      "text/plain": [
       "<Array [[{pt: 52, eta: 1.25, ... [], []] type='1000000 * var * {\"pt\": float32, \"...'>"
      ]
     },
     "execution_count": 58,
     "metadata": {},
     "output_type": "execute_result"
    }
   ],
   "source": [
    "cms_events.muons[cms_events.muons.pt > 50]"
   ]
  },
  {
   "cell_type": "markdown",
   "metadata": {},
   "source": [
    "and filtering events:"
   ]
  },
  {
   "cell_type": "code",
   "execution_count": 59,
   "metadata": {},
   "outputs": [
    {
     "data": {
      "text/plain": [
       "<Array [{run: 194778, ... ] type='53369 * {\"run\": int32, \"luminosityBlock\": uint...'>"
      ]
     },
     "execution_count": 59,
     "metadata": {},
     "output_type": "execute_result"
    }
   ],
   "source": [
    "cms_events[ak.any(cms_events.muons.pt > 50, axis=1)]"
   ]
  },
  {
   "cell_type": "markdown",
   "metadata": {},
   "source": [
    "To filter particles, the array must be a jagged array of booleans:"
   ]
  },
  {
   "cell_type": "code",
   "execution_count": 60,
   "metadata": {},
   "outputs": [
    {
     "data": {
      "text/plain": [
       "<Array [[True, False], ... [False, False]] type='1000000 * var * bool'>"
      ]
     },
     "execution_count": 60,
     "metadata": {},
     "output_type": "execute_result"
    }
   ],
   "source": [
    "cms_events.muons.pt > 50"
   ]
  },
  {
   "cell_type": "markdown",
   "metadata": {},
   "source": [
    "and to filter particles, it must be a flat array of booleans:"
   ]
  },
  {
   "cell_type": "code",
   "execution_count": 61,
   "metadata": {},
   "outputs": [
    {
     "data": {
      "text/plain": [
       "<Array [True, False, False, ... False, False] type='1000000 * bool'>"
      ]
     },
     "execution_count": 61,
     "metadata": {},
     "output_type": "execute_result"
    }
   ],
   "source": [
    "ak.any(cms_events.muons.pt > 50, axis=1)"
   ]
  },
  {
   "cell_type": "markdown",
   "metadata": {},
   "source": [
    "Here, we used a reducer, [ak.any](https://awkward-array.readthedocs.io/en/latest/_auto/ak.any.html), to turn a list of `True`/`False` for each muon into a single `True`/`False` for the event.\n",
    "\n",
    "You can read it as, \"Select CMS events in which any CMS events' muons' $p_T$ is greater than 50.\"\n",
    "\n",
    "The `axis=1` is to apply to the first level of lists-within-the-array."
   ]
  },
  {
   "cell_type": "markdown",
   "metadata": {},
   "source": [
    "## Cutting vs masking\n",
    "\n",
    "Cuts eliminate events (or particles), which may have two different intentions:\n",
    "\n",
    "   1. to reduce the size of the dataset so that it's more manageable on disk or in memory;\n",
    "   2. to improve statistical significance by eliminating backgrounds.\n",
    "\n",
    "For rare signals, (1) implies (2), though they're usually broken into stages: coarse cuts and fine cuts.\n",
    "\n",
    "Assuming that we're concerned with (2) only, it can be a _problem_ that cutting eliminates data because most array-at-a-time functions assume that their arguments align: element `i` of the first array corresponds to element `i` of the second array.\n",
    "\n",
    "Cuts break that relationship."
   ]
  },
  {
   "cell_type": "code",
   "execution_count": 62,
   "metadata": {},
   "outputs": [
    {
     "data": {
      "text/plain": [
       "<Array [[{mass: 96.1, muon1: {, ... [], []] type='1000000 * var * {\"mass\": float...'>"
      ]
     },
     "execution_count": 62,
     "metadata": {},
     "output_type": "execute_result"
    }
   ],
   "source": [
    "# applying the same cut to all arguments is okay\n",
    "ak.zip({\"mass\": mass[mask], \"muon1\": m1[mask], \"muon2\": m2[mask]})"
   ]
  },
  {
   "cell_type": "code",
   "execution_count": 63,
   "metadata": {},
   "outputs": [
    {
     "data": {
      "text/plain": [
       "<Array [[{mass: 96.1, muon1: {, ... [], []] type='1000000 * var * {\"mass\": float...'>"
      ]
     },
     "execution_count": 63,
     "metadata": {},
     "output_type": "execute_result"
    }
   ],
   "source": [
    "# applying the cut after the operation is okay\n",
    "ak.zip({\"mass\": mass, \"muon1\": m1, \"muon2\": m2})[mask]"
   ]
  },
  {
   "cell_type": "code",
   "execution_count": 64,
   "metadata": {
    "tags": [
     "raises-exception"
    ]
   },
   "outputs": [
    {
     "ename": "ValueError",
     "evalue": "in ListOffsetArray64, cannot broadcast nested list",
     "output_type": "error",
     "traceback": [
      "\u001b[0;31m---------------------------------------------------------------------------\u001b[0m",
      "\u001b[0;31mValueError\u001b[0m                                Traceback (most recent call last)",
      "\u001b[0;32m<ipython-input-64-13d8d7a319e8>\u001b[0m in \u001b[0;36m<module>\u001b[0;34m\u001b[0m\n\u001b[1;32m      1\u001b[0m \u001b[0;31m# but applying the cut to two out of three arguments is bad\u001b[0m\u001b[0;34m\u001b[0m\u001b[0;34m\u001b[0m\u001b[0;34m\u001b[0m\u001b[0m\n\u001b[0;32m----> 2\u001b[0;31m \u001b[0mak\u001b[0m\u001b[0;34m.\u001b[0m\u001b[0mzip\u001b[0m\u001b[0;34m(\u001b[0m\u001b[0;34m{\u001b[0m\u001b[0;34m\"mass\"\u001b[0m\u001b[0;34m:\u001b[0m \u001b[0mmass\u001b[0m\u001b[0;34m[\u001b[0m\u001b[0mmask\u001b[0m\u001b[0;34m]\u001b[0m\u001b[0;34m,\u001b[0m \u001b[0;34m\"muon1\"\u001b[0m\u001b[0;34m:\u001b[0m \u001b[0mm1\u001b[0m\u001b[0;34m[\u001b[0m\u001b[0mmask\u001b[0m\u001b[0;34m]\u001b[0m\u001b[0;34m,\u001b[0m \u001b[0;34m\"muon2\"\u001b[0m\u001b[0;34m:\u001b[0m \u001b[0mm2\u001b[0m\u001b[0;34m}\u001b[0m\u001b[0;34m)\u001b[0m\u001b[0;34m\u001b[0m\u001b[0;34m\u001b[0m\u001b[0m\n\u001b[0m",
      "\u001b[0;32m~/anaconda3/lib/python3.7/site-packages/awkward1/operations/structure.py\u001b[0m in \u001b[0;36mzip\u001b[0;34m(arrays, depth_limit, parameters, with_name, highlevel)\u001b[0m\n\u001b[1;32m    335\u001b[0m \u001b[0;34m\u001b[0m\u001b[0m\n\u001b[1;32m    336\u001b[0m     \u001b[0mbehavior\u001b[0m \u001b[0;34m=\u001b[0m \u001b[0mawkward1\u001b[0m\u001b[0;34m.\u001b[0m\u001b[0m_util\u001b[0m\u001b[0;34m.\u001b[0m\u001b[0mbehaviorof\u001b[0m\u001b[0;34m(\u001b[0m\u001b[0;34m*\u001b[0m\u001b[0marrays\u001b[0m\u001b[0;34m)\u001b[0m\u001b[0;34m\u001b[0m\u001b[0;34m\u001b[0m\u001b[0m\n\u001b[0;32m--> 337\u001b[0;31m     \u001b[0mout\u001b[0m \u001b[0;34m=\u001b[0m \u001b[0mawkward1\u001b[0m\u001b[0;34m.\u001b[0m\u001b[0m_util\u001b[0m\u001b[0;34m.\u001b[0m\u001b[0mbroadcast_and_apply\u001b[0m\u001b[0;34m(\u001b[0m\u001b[0mlayouts\u001b[0m\u001b[0;34m,\u001b[0m \u001b[0mgetfunction\u001b[0m\u001b[0;34m,\u001b[0m \u001b[0mbehavior\u001b[0m\u001b[0;34m)\u001b[0m\u001b[0;34m\u001b[0m\u001b[0;34m\u001b[0m\u001b[0m\n\u001b[0m\u001b[1;32m    338\u001b[0m     \u001b[0;32massert\u001b[0m \u001b[0misinstance\u001b[0m\u001b[0;34m(\u001b[0m\u001b[0mout\u001b[0m\u001b[0;34m,\u001b[0m \u001b[0mtuple\u001b[0m\u001b[0;34m)\u001b[0m \u001b[0;32mand\u001b[0m \u001b[0mlen\u001b[0m\u001b[0;34m(\u001b[0m\u001b[0mout\u001b[0m\u001b[0;34m)\u001b[0m \u001b[0;34m==\u001b[0m \u001b[0;36m1\u001b[0m\u001b[0;34m\u001b[0m\u001b[0;34m\u001b[0m\u001b[0m\n\u001b[1;32m    339\u001b[0m     \u001b[0;32mif\u001b[0m \u001b[0mhighlevel\u001b[0m\u001b[0;34m:\u001b[0m\u001b[0;34m\u001b[0m\u001b[0;34m\u001b[0m\u001b[0m\n",
      "\u001b[0;32m~/anaconda3/lib/python3.7/site-packages/awkward1/_util.py\u001b[0m in \u001b[0;36mbroadcast_and_apply\u001b[0;34m(inputs, getfunction, behavior)\u001b[0m\n\u001b[1;32m    818\u001b[0m     \u001b[0;32melse\u001b[0m\u001b[0;34m:\u001b[0m\u001b[0;34m\u001b[0m\u001b[0;34m\u001b[0m\u001b[0m\n\u001b[1;32m    819\u001b[0m         \u001b[0misscalar\u001b[0m \u001b[0;34m=\u001b[0m \u001b[0;34m[\u001b[0m\u001b[0;34m]\u001b[0m\u001b[0;34m\u001b[0m\u001b[0;34m\u001b[0m\u001b[0m\n\u001b[0;32m--> 820\u001b[0;31m         \u001b[0mout\u001b[0m \u001b[0;34m=\u001b[0m \u001b[0mapply\u001b[0m\u001b[0;34m(\u001b[0m\u001b[0mbroadcast_pack\u001b[0m\u001b[0;34m(\u001b[0m\u001b[0minputs\u001b[0m\u001b[0;34m,\u001b[0m \u001b[0misscalar\u001b[0m\u001b[0;34m)\u001b[0m\u001b[0;34m,\u001b[0m \u001b[0;36m0\u001b[0m\u001b[0;34m)\u001b[0m\u001b[0;34m\u001b[0m\u001b[0;34m\u001b[0m\u001b[0m\n\u001b[0m\u001b[1;32m    821\u001b[0m         \u001b[0;32massert\u001b[0m \u001b[0misinstance\u001b[0m\u001b[0;34m(\u001b[0m\u001b[0mout\u001b[0m\u001b[0;34m,\u001b[0m \u001b[0mtuple\u001b[0m\u001b[0;34m)\u001b[0m\u001b[0;34m\u001b[0m\u001b[0;34m\u001b[0m\u001b[0m\n\u001b[1;32m    822\u001b[0m         \u001b[0;32mreturn\u001b[0m \u001b[0mtuple\u001b[0m\u001b[0;34m(\u001b[0m\u001b[0mbroadcast_unpack\u001b[0m\u001b[0;34m(\u001b[0m\u001b[0mx\u001b[0m\u001b[0;34m,\u001b[0m \u001b[0misscalar\u001b[0m\u001b[0;34m)\u001b[0m \u001b[0;32mfor\u001b[0m \u001b[0mx\u001b[0m \u001b[0;32min\u001b[0m \u001b[0mout\u001b[0m\u001b[0;34m)\u001b[0m\u001b[0;34m\u001b[0m\u001b[0;34m\u001b[0m\u001b[0m\n",
      "\u001b[0;32m~/anaconda3/lib/python3.7/site-packages/awkward1/_util.py\u001b[0m in \u001b[0;36mapply\u001b[0;34m(inputs, depth)\u001b[0m\n\u001b[1;32m    657\u001b[0m                     \u001b[0;32melse\u001b[0m\u001b[0;34m:\u001b[0m\u001b[0;34m\u001b[0m\u001b[0;34m\u001b[0m\u001b[0m\n\u001b[1;32m    658\u001b[0m                         \u001b[0mnextinputs\u001b[0m\u001b[0;34m.\u001b[0m\u001b[0mappend\u001b[0m\u001b[0;34m(\u001b[0m\u001b[0mx\u001b[0m\u001b[0;34m)\u001b[0m\u001b[0;34m\u001b[0m\u001b[0;34m\u001b[0m\u001b[0m\n\u001b[0;32m--> 659\u001b[0;31m                 \u001b[0moutcontent\u001b[0m \u001b[0;34m=\u001b[0m \u001b[0mapply\u001b[0m\u001b[0;34m(\u001b[0m\u001b[0mnextinputs\u001b[0m\u001b[0;34m,\u001b[0m \u001b[0mdepth\u001b[0m \u001b[0;34m+\u001b[0m \u001b[0;36m1\u001b[0m\u001b[0;34m)\u001b[0m\u001b[0;34m\u001b[0m\u001b[0;34m\u001b[0m\u001b[0m\n\u001b[0m\u001b[1;32m    660\u001b[0m                 \u001b[0;32massert\u001b[0m \u001b[0misinstance\u001b[0m\u001b[0;34m(\u001b[0m\u001b[0moutcontent\u001b[0m\u001b[0;34m,\u001b[0m \u001b[0mtuple\u001b[0m\u001b[0;34m)\u001b[0m\u001b[0;34m\u001b[0m\u001b[0;34m\u001b[0m\u001b[0m\n\u001b[1;32m    661\u001b[0m                 return tuple(\n",
      "\u001b[0;32m~/anaconda3/lib/python3.7/site-packages/awkward1/_util.py\u001b[0m in \u001b[0;36mapply\u001b[0;34m(inputs, depth)\u001b[0m\n\u001b[1;32m    695\u001b[0m                         \u001b[0mnextinputs\u001b[0m\u001b[0;34m.\u001b[0m\u001b[0mappend\u001b[0m\u001b[0;34m(\u001b[0m\u001b[0mfcn\u001b[0m\u001b[0;34m(\u001b[0m\u001b[0mx\u001b[0m\u001b[0;34m,\u001b[0m \u001b[0moffsets\u001b[0m\u001b[0;34m)\u001b[0m\u001b[0;34m)\u001b[0m\u001b[0;34m\u001b[0m\u001b[0;34m\u001b[0m\u001b[0m\n\u001b[1;32m    696\u001b[0m                     \u001b[0;32melif\u001b[0m \u001b[0misinstance\u001b[0m\u001b[0;34m(\u001b[0m\u001b[0mx\u001b[0m\u001b[0;34m,\u001b[0m \u001b[0mlisttypes\u001b[0m\u001b[0;34m)\u001b[0m\u001b[0;34m:\u001b[0m\u001b[0;34m\u001b[0m\u001b[0;34m\u001b[0m\u001b[0m\n\u001b[0;32m--> 697\u001b[0;31m                         \u001b[0mnextinputs\u001b[0m\u001b[0;34m.\u001b[0m\u001b[0mappend\u001b[0m\u001b[0;34m(\u001b[0m\u001b[0mx\u001b[0m\u001b[0;34m.\u001b[0m\u001b[0mbroadcast_tooffsets64\u001b[0m\u001b[0;34m(\u001b[0m\u001b[0moffsets\u001b[0m\u001b[0;34m)\u001b[0m\u001b[0;34m.\u001b[0m\u001b[0mcontent\u001b[0m\u001b[0;34m)\u001b[0m\u001b[0;34m\u001b[0m\u001b[0;34m\u001b[0m\u001b[0m\n\u001b[0m\u001b[1;32m    698\u001b[0m                     \u001b[0;31m# handle implicit left-broadcasting (unlike NumPy)\u001b[0m\u001b[0;34m\u001b[0m\u001b[0;34m\u001b[0m\u001b[0;34m\u001b[0m\u001b[0m\n\u001b[1;32m    699\u001b[0m                     \u001b[0;32melif\u001b[0m \u001b[0misinstance\u001b[0m\u001b[0;34m(\u001b[0m\u001b[0mx\u001b[0m\u001b[0;34m,\u001b[0m \u001b[0mawkward1\u001b[0m\u001b[0;34m.\u001b[0m\u001b[0mlayout\u001b[0m\u001b[0;34m.\u001b[0m\u001b[0mContent\u001b[0m\u001b[0;34m)\u001b[0m\u001b[0;34m:\u001b[0m\u001b[0;34m\u001b[0m\u001b[0;34m\u001b[0m\u001b[0m\n",
      "\u001b[0;31mValueError\u001b[0m: in ListOffsetArray64, cannot broadcast nested list"
     ]
    }
   ],
   "source": [
    "# but applying the cut to two out of three arguments is bad\n",
    "ak.zip({\"mass\": mass[mask], \"muon1\": m1[mask], \"muon2\": m2})"
   ]
  },
  {
   "cell_type": "markdown",
   "metadata": {},
   "source": [
    "Worse still, applying _nearly the same, but not quite_ cuts is terrible.\n",
    "\n",
    "(It would be terrible in imperative code, too, but without an error message.)"
   ]
  },
  {
   "cell_type": "markdown",
   "metadata": {},
   "source": [
    "### Masking\n",
    "\n",
    "One of the data types that Awkward Array provides allows values to be `None` (the \"option\" type, represented by `?` or `option[XYZ]`).\n",
    "\n",
    "If we `mask`, rather than cut, arrays and lists within arrays maintain their lengths, but `None` values are inserted where bad/background values were."
   ]
  },
  {
   "cell_type": "code",
   "execution_count": 65,
   "metadata": {},
   "outputs": [
    {
     "data": {
      "text/plain": [
       "<Array [[{pt: 52, eta: 1.25, ... [], []] type='1000000 * var * {\"pt\": float32, \"...'>"
      ]
     },
     "execution_count": 65,
     "metadata": {},
     "output_type": "execute_result"
    }
   ],
   "source": [
    "# cutting particles\n",
    "cms_events.muons[cms_events.muons.pt > 50]"
   ]
  },
  {
   "cell_type": "code",
   "execution_count": 66,
   "metadata": {},
   "outputs": [
    {
     "data": {
      "text/plain": [
       "<Array [[{pt: 52, eta: 1.25, ... [None, None]] type='1000000 * var * ?{\"pt\": flo...'>"
      ]
     },
     "execution_count": 66,
     "metadata": {},
     "output_type": "execute_result"
    }
   ],
   "source": [
    "# masking particles\n",
    "cms_events.muons.mask[cms_events.muons.pt > 50]"
   ]
  },
  {
   "cell_type": "code",
   "execution_count": 67,
   "metadata": {},
   "outputs": [
    {
     "data": {
      "text/plain": [
       "<Array [{run: 194778, ... ] type='53369 * {\"run\": int32, \"luminosityBlock\": uint...'>"
      ]
     },
     "execution_count": 67,
     "metadata": {},
     "output_type": "execute_result"
    }
   ],
   "source": [
    "# cutting events\n",
    "cms_events[ak.any(cms_events.muons.pt > 50, axis=1)]"
   ]
  },
  {
   "cell_type": "code",
   "execution_count": 68,
   "metadata": {},
   "outputs": [
    {
     "data": {
      "text/plain": [
       "<Array [{run: 194778, ... None, None] type='1000000 * ?{\"run\": int32, \"luminosit...'>"
      ]
     },
     "execution_count": 68,
     "metadata": {},
     "output_type": "execute_result"
    }
   ],
   "source": [
    "# masking events\n",
    "cms_events.mask[ak.any(cms_events.muons.pt > 50, axis=1)]"
   ]
  },
  {
   "cell_type": "markdown",
   "metadata": {},
   "source": [
    "All of the Awkward operations are aware of option types and have rules for how to handle them."
   ]
  },
  {
   "cell_type": "code",
   "execution_count": 69,
   "metadata": {},
   "outputs": [
    {
     "data": {
      "text/plain": [
       "<Array [[83.5, None], ... [None, None]] type='1000000 * var * ?float32'>"
      ]
     },
     "execution_count": 69,
     "metadata": {},
     "output_type": "execute_result"
    }
   ],
   "source": [
    "masked_muons = cms_events.muons.mask[cms_events.muons.pt > 50]\n",
    "\n",
    "masked_muons[\"pz\"] = masked_muons.pt * np.sinh(masked_muons.eta)\n",
    "masked_muons.pz"
   ]
  },
  {
   "cell_type": "markdown",
   "metadata": {},
   "source": [
    "Including Numba."
   ]
  },
  {
   "cell_type": "code",
   "execution_count": 70,
   "metadata": {},
   "outputs": [],
   "source": [
    "@nb.njit\n",
    "def find_first_high_pt(events, threshold):\n",
    "    for event in events:\n",
    "        for muon in event:\n",
    "            if muon is None:\n",
    "                pass\n",
    "            elif muon.pt > threshold:\n",
    "                return muon\n",
    "    return None"
   ]
  },
  {
   "cell_type": "code",
   "execution_count": 71,
   "metadata": {},
   "outputs": [
    {
     "data": {
      "text/plain": [
       "{'pt': 1106.1651611328125,\n",
       " 'eta': 0.05474609509110451,\n",
       " 'phi': 1.084844708442688,\n",
       " 'mass': 0.10565836727619171,\n",
       " 'charge': 1,\n",
       " 'pfRelIso04_all': -999.0,\n",
       " 'tightId': False,\n",
       " 'pz': 60.588478088378906}"
      ]
     },
     "execution_count": 71,
     "metadata": {},
     "output_type": "execute_result"
    }
   ],
   "source": [
    "ak.to_list(find_first_high_pt(masked_muons, 1000))"
   ]
  },
  {
   "cell_type": "markdown",
   "metadata": {},
   "source": [
    "## Pandas!\n",
    "\n",
    "Awkward Arrays can be columns in a Pandas DataFrame. (It was possible in Awkward 0, but made more general now.)"
   ]
  },
  {
   "cell_type": "code",
   "execution_count": 73,
   "metadata": {},
   "outputs": [
    {
     "data": {
      "text/html": [
       "<div>\n",
       "<style scoped>\n",
       "    .dataframe tbody tr th:only-of-type {\n",
       "        vertical-align: middle;\n",
       "    }\n",
       "\n",
       "    .dataframe tbody tr th {\n",
       "        vertical-align: top;\n",
       "    }\n",
       "\n",
       "    .dataframe thead th {\n",
       "        text-align: right;\n",
       "    }\n",
       "</style>\n",
       "<table border=\"1\" class=\"dataframe\">\n",
       "  <thead>\n",
       "    <tr style=\"text-align: right;\">\n",
       "      <th></th>\n",
       "      <th>data</th>\n",
       "    </tr>\n",
       "  </thead>\n",
       "  <tbody>\n",
       "    <tr>\n",
       "      <th>0</th>\n",
       "      <td>[{x: 0, y: []}, {x: 1.1, y: [1]}, {x: 2.2, y: ...</td>\n",
       "    </tr>\n",
       "    <tr>\n",
       "      <th>1</th>\n",
       "      <td>[]</td>\n",
       "    </tr>\n",
       "    <tr>\n",
       "      <th>2</th>\n",
       "      <td>[{x: 3.3, y: [1, 2, 3]}, {x: 4.4, y: [1, 2, 3,...</td>\n",
       "    </tr>\n",
       "  </tbody>\n",
       "</table>\n",
       "</div>"
      ],
      "text/plain": [
       "                                                data\n",
       "0  [{x: 0, y: []}, {x: 1.1, y: [1]}, {x: 2.2, y: ...\n",
       "1                                                 []\n",
       "2  [{x: 3.3, y: [1, 2, 3]}, {x: 4.4, y: [1, 2, 3,..."
      ]
     },
     "execution_count": 73,
     "metadata": {},
     "output_type": "execute_result"
    }
   ],
   "source": [
    "import pandas as pd\n",
    "\n",
    "df = pd.DataFrame({\"data\": columnar})\n",
    "df"
   ]
  },
  {
   "cell_type": "markdown",
   "metadata": {},
   "source": [
    "But it's not clear that this is the most useful form, since Pandas doesn't have any operations that know what to do with Awkward Arrays.\n",
    "\n",
    "NumPy functions, at least, pass through."
   ]
  },
  {
   "cell_type": "code",
   "execution_count": 74,
   "metadata": {},
   "outputs": [
    {
     "data": {
      "text/html": [
       "<div>\n",
       "<style scoped>\n",
       "    .dataframe tbody tr th:only-of-type {\n",
       "        vertical-align: middle;\n",
       "    }\n",
       "\n",
       "    .dataframe tbody tr th {\n",
       "        vertical-align: top;\n",
       "    }\n",
       "\n",
       "    .dataframe thead th {\n",
       "        text-align: right;\n",
       "    }\n",
       "</style>\n",
       "<table border=\"1\" class=\"dataframe\">\n",
       "  <thead>\n",
       "    <tr style=\"text-align: right;\">\n",
       "      <th></th>\n",
       "      <th>data</th>\n",
       "    </tr>\n",
       "  </thead>\n",
       "  <tbody>\n",
       "    <tr>\n",
       "      <th>0</th>\n",
       "      <td>[{x: 100, y: []}, {x: 101, y: [101]}, {x: 102,...</td>\n",
       "    </tr>\n",
       "    <tr>\n",
       "      <th>1</th>\n",
       "      <td>[]</td>\n",
       "    </tr>\n",
       "    <tr>\n",
       "      <th>2</th>\n",
       "      <td>[{x: 103, y: [101, 102, 103]}, {x: 104, y: [10...</td>\n",
       "    </tr>\n",
       "  </tbody>\n",
       "</table>\n",
       "</div>"
      ],
      "text/plain": [
       "                                                data\n",
       "0  [{x: 100, y: []}, {x: 101, y: [101]}, {x: 102,...\n",
       "1                                                 []\n",
       "2  [{x: 103, y: [101, 102, 103]}, {x: 104, y: [10..."
      ]
     },
     "execution_count": 74,
     "metadata": {},
     "output_type": "execute_result"
    }
   ],
   "source": [
    "df + 100"
   ]
  },
  {
   "cell_type": "markdown",
   "metadata": {},
   "source": [
    "It is perhaps more useful to \"explode\" an Awkward Array into a DataFrame, such that the DataFrame cells are simple numbers. Then, at least, Pandas operations will know what to do with the data.\n",
    "\n",
    "This is the [ak.pandas.df](https://awkward-array.readthedocs.io/en/latest/ak.pandas.df.html) function."
   ]
  },
  {
   "cell_type": "code",
   "execution_count": 75,
   "metadata": {},
   "outputs": [
    {
     "data": {
      "text/html": [
       "<div>\n",
       "<style scoped>\n",
       "    .dataframe tbody tr th:only-of-type {\n",
       "        vertical-align: middle;\n",
       "    }\n",
       "\n",
       "    .dataframe tbody tr th {\n",
       "        vertical-align: top;\n",
       "    }\n",
       "\n",
       "    .dataframe thead tr th {\n",
       "        text-align: left;\n",
       "    }\n",
       "\n",
       "    .dataframe thead tr:last-of-type th {\n",
       "        text-align: right;\n",
       "    }\n",
       "</style>\n",
       "<table border=\"1\" class=\"dataframe\">\n",
       "  <thead>\n",
       "    <tr>\n",
       "      <th></th>\n",
       "      <th></th>\n",
       "      <th>run</th>\n",
       "      <th>luminosityBlock</th>\n",
       "      <th>event</th>\n",
       "      <th colspan=\"3\" halign=\"left\">PV</th>\n",
       "      <th colspan=\"7\" halign=\"left\">muons</th>\n",
       "    </tr>\n",
       "    <tr>\n",
       "      <th></th>\n",
       "      <th></th>\n",
       "      <th></th>\n",
       "      <th></th>\n",
       "      <th></th>\n",
       "      <th>x</th>\n",
       "      <th>y</th>\n",
       "      <th>z</th>\n",
       "      <th>pt</th>\n",
       "      <th>eta</th>\n",
       "      <th>phi</th>\n",
       "      <th>mass</th>\n",
       "      <th>charge</th>\n",
       "      <th>pfRelIso04_all</th>\n",
       "      <th>tightId</th>\n",
       "    </tr>\n",
       "    <tr>\n",
       "      <th>entry</th>\n",
       "      <th>subentry</th>\n",
       "      <th></th>\n",
       "      <th></th>\n",
       "      <th></th>\n",
       "      <th></th>\n",
       "      <th></th>\n",
       "      <th></th>\n",
       "      <th></th>\n",
       "      <th></th>\n",
       "      <th></th>\n",
       "      <th></th>\n",
       "      <th></th>\n",
       "      <th></th>\n",
       "      <th></th>\n",
       "    </tr>\n",
       "  </thead>\n",
       "  <tbody>\n",
       "    <tr>\n",
       "      <th rowspan=\"2\" valign=\"top\">0</th>\n",
       "      <th>0</th>\n",
       "      <td>194778</td>\n",
       "      <td>51</td>\n",
       "      <td>12887941</td>\n",
       "      <td>0.072246</td>\n",
       "      <td>0.062094</td>\n",
       "      <td>-0.028099</td>\n",
       "      <td>52.008335</td>\n",
       "      <td>1.252320</td>\n",
       "      <td>0.842417</td>\n",
       "      <td>0.105658</td>\n",
       "      <td>1</td>\n",
       "      <td>-999.000000</td>\n",
       "      <td>False</td>\n",
       "    </tr>\n",
       "    <tr>\n",
       "      <th>1</th>\n",
       "      <td>194778</td>\n",
       "      <td>51</td>\n",
       "      <td>12887941</td>\n",
       "      <td>0.072246</td>\n",
       "      <td>0.062094</td>\n",
       "      <td>-0.028099</td>\n",
       "      <td>42.857040</td>\n",
       "      <td>1.653122</td>\n",
       "      <td>-2.154825</td>\n",
       "      <td>0.105658</td>\n",
       "      <td>-1</td>\n",
       "      <td>-999.000000</td>\n",
       "      <td>False</td>\n",
       "    </tr>\n",
       "    <tr>\n",
       "      <th>1</th>\n",
       "      <th>0</th>\n",
       "      <td>194778</td>\n",
       "      <td>51</td>\n",
       "      <td>12963969</td>\n",
       "      <td>0.072246</td>\n",
       "      <td>0.062094</td>\n",
       "      <td>-0.028099</td>\n",
       "      <td>5.019948</td>\n",
       "      <td>2.121953</td>\n",
       "      <td>1.721264</td>\n",
       "      <td>0.105658</td>\n",
       "      <td>1</td>\n",
       "      <td>-999.000000</td>\n",
       "      <td>False</td>\n",
       "    </tr>\n",
       "    <tr>\n",
       "      <th rowspan=\"2\" valign=\"top\">2</th>\n",
       "      <th>0</th>\n",
       "      <td>194778</td>\n",
       "      <td>51</td>\n",
       "      <td>13227276</td>\n",
       "      <td>0.072246</td>\n",
       "      <td>0.062094</td>\n",
       "      <td>-0.028099</td>\n",
       "      <td>15.967432</td>\n",
       "      <td>-1.241451</td>\n",
       "      <td>-2.818323</td>\n",
       "      <td>0.105658</td>\n",
       "      <td>-1</td>\n",
       "      <td>-999.000000</td>\n",
       "      <td>False</td>\n",
       "    </tr>\n",
       "    <tr>\n",
       "      <th>1</th>\n",
       "      <td>194778</td>\n",
       "      <td>51</td>\n",
       "      <td>13227276</td>\n",
       "      <td>0.072246</td>\n",
       "      <td>0.062094</td>\n",
       "      <td>-0.028099</td>\n",
       "      <td>12.481290</td>\n",
       "      <td>-0.795609</td>\n",
       "      <td>-1.516058</td>\n",
       "      <td>0.105658</td>\n",
       "      <td>1</td>\n",
       "      <td>-999.000000</td>\n",
       "      <td>False</td>\n",
       "    </tr>\n",
       "    <tr>\n",
       "      <th>...</th>\n",
       "      <th>...</th>\n",
       "      <td>...</td>\n",
       "      <td>...</td>\n",
       "      <td>...</td>\n",
       "      <td>...</td>\n",
       "      <td>...</td>\n",
       "      <td>...</td>\n",
       "      <td>...</td>\n",
       "      <td>...</td>\n",
       "      <td>...</td>\n",
       "      <td>...</td>\n",
       "      <td>...</td>\n",
       "      <td>...</td>\n",
       "      <td>...</td>\n",
       "    </tr>\n",
       "    <tr>\n",
       "      <th>999997</th>\n",
       "      <th>1</th>\n",
       "      <td>195774</td>\n",
       "      <td>503</td>\n",
       "      <td>819301164</td>\n",
       "      <td>0.072195</td>\n",
       "      <td>0.062377</td>\n",
       "      <td>1.589441</td>\n",
       "      <td>3.336458</td>\n",
       "      <td>-1.314498</td>\n",
       "      <td>1.389034</td>\n",
       "      <td>0.105658</td>\n",
       "      <td>-1</td>\n",
       "      <td>3.883366</td>\n",
       "      <td>False</td>\n",
       "    </tr>\n",
       "    <tr>\n",
       "      <th rowspan=\"2\" valign=\"top\">999998</th>\n",
       "      <th>0</th>\n",
       "      <td>195774</td>\n",
       "      <td>503</td>\n",
       "      <td>819332668</td>\n",
       "      <td>0.070829</td>\n",
       "      <td>0.060231</td>\n",
       "      <td>0.874976</td>\n",
       "      <td>4.999241</td>\n",
       "      <td>1.022114</td>\n",
       "      <td>-0.709204</td>\n",
       "      <td>0.105658</td>\n",
       "      <td>-1</td>\n",
       "      <td>-999.000000</td>\n",
       "      <td>False</td>\n",
       "    </tr>\n",
       "    <tr>\n",
       "      <th>1</th>\n",
       "      <td>195774</td>\n",
       "      <td>503</td>\n",
       "      <td>819332668</td>\n",
       "      <td>0.070829</td>\n",
       "      <td>0.060231</td>\n",
       "      <td>0.874976</td>\n",
       "      <td>14.161738</td>\n",
       "      <td>0.070553</td>\n",
       "      <td>3.119483</td>\n",
       "      <td>0.105658</td>\n",
       "      <td>1</td>\n",
       "      <td>2.073981</td>\n",
       "      <td>True</td>\n",
       "    </tr>\n",
       "    <tr>\n",
       "      <th rowspan=\"2\" valign=\"top\">999999</th>\n",
       "      <th>0</th>\n",
       "      <td>195774</td>\n",
       "      <td>503</td>\n",
       "      <td>819398412</td>\n",
       "      <td>0.068816</td>\n",
       "      <td>0.063373</td>\n",
       "      <td>-0.641760</td>\n",
       "      <td>18.304218</td>\n",
       "      <td>2.073999</td>\n",
       "      <td>-2.099591</td>\n",
       "      <td>0.105658</td>\n",
       "      <td>1</td>\n",
       "      <td>0.702204</td>\n",
       "      <td>True</td>\n",
       "    </tr>\n",
       "    <tr>\n",
       "      <th>1</th>\n",
       "      <td>195774</td>\n",
       "      <td>503</td>\n",
       "      <td>819398412</td>\n",
       "      <td>0.068816</td>\n",
       "      <td>0.063373</td>\n",
       "      <td>-0.641760</td>\n",
       "      <td>9.717607</td>\n",
       "      <td>1.429812</td>\n",
       "      <td>-3.007432</td>\n",
       "      <td>0.105658</td>\n",
       "      <td>-1</td>\n",
       "      <td>1.496109</td>\n",
       "      <td>True</td>\n",
       "    </tr>\n",
       "  </tbody>\n",
       "</table>\n",
       "<p>2366345 rows × 13 columns</p>\n",
       "</div>"
      ],
      "text/plain": [
       "                    run luminosityBlock      event        PV            \\\n",
       "                                                           x         y   \n",
       "entry  subentry                                                          \n",
       "0      0         194778              51   12887941  0.072246  0.062094   \n",
       "       1         194778              51   12887941  0.072246  0.062094   \n",
       "1      0         194778              51   12963969  0.072246  0.062094   \n",
       "2      0         194778              51   13227276  0.072246  0.062094   \n",
       "       1         194778              51   13227276  0.072246  0.062094   \n",
       "...                 ...             ...        ...       ...       ...   \n",
       "999997 1         195774             503  819301164  0.072195  0.062377   \n",
       "999998 0         195774             503  819332668  0.070829  0.060231   \n",
       "       1         195774             503  819332668  0.070829  0.060231   \n",
       "999999 0         195774             503  819398412  0.068816  0.063373   \n",
       "       1         195774             503  819398412  0.068816  0.063373   \n",
       "\n",
       "                               muons                                       \\\n",
       "                        z         pt       eta       phi      mass charge   \n",
       "entry  subentry                                                             \n",
       "0      0        -0.028099  52.008335  1.252320  0.842417  0.105658      1   \n",
       "       1        -0.028099  42.857040  1.653122 -2.154825  0.105658     -1   \n",
       "1      0        -0.028099   5.019948  2.121953  1.721264  0.105658      1   \n",
       "2      0        -0.028099  15.967432 -1.241451 -2.818323  0.105658     -1   \n",
       "       1        -0.028099  12.481290 -0.795609 -1.516058  0.105658      1   \n",
       "...                   ...        ...       ...       ...       ...    ...   \n",
       "999997 1         1.589441   3.336458 -1.314498  1.389034  0.105658     -1   \n",
       "999998 0         0.874976   4.999241  1.022114 -0.709204  0.105658     -1   \n",
       "       1         0.874976  14.161738  0.070553  3.119483  0.105658      1   \n",
       "999999 0        -0.641760  18.304218  2.073999 -2.099591  0.105658      1   \n",
       "       1        -0.641760   9.717607  1.429812 -3.007432  0.105658     -1   \n",
       "\n",
       "                                        \n",
       "                pfRelIso04_all tightId  \n",
       "entry  subentry                         \n",
       "0      0           -999.000000   False  \n",
       "       1           -999.000000   False  \n",
       "1      0           -999.000000   False  \n",
       "2      0           -999.000000   False  \n",
       "       1           -999.000000   False  \n",
       "...                        ...     ...  \n",
       "999997 1              3.883366   False  \n",
       "999998 0           -999.000000   False  \n",
       "       1              2.073981    True  \n",
       "999999 0              0.702204    True  \n",
       "       1              1.496109    True  \n",
       "\n",
       "[2366345 rows x 13 columns]"
      ]
     },
     "execution_count": 75,
     "metadata": {},
     "output_type": "execute_result"
    }
   ],
   "source": [
    "ak.pandas.df(cms_events)"
   ]
  },
  {
   "cell_type": "markdown",
   "metadata": {},
   "source": [
    "Now the event numbers (\"entry\") are distinguished from the particle numbers (\"subentry\"), and the nesting of records becomes hierarchical columns.\n",
    "\n",
    "However, this isn't an exact representation:\n",
    "\n",
    "   * event-level quantities (like PV) are duplicated for each particle;\n",
    "   * events with zero particles drop event-level quantities entirely;\n",
    "   * two particle types with different jaggedness (i.e. different numbers of jets and muons in each event) don't have a natural mapping onto the same \"subentry\" numbers, though you can force it with the `how` parameter (tells Pandas how to JOIN different multiplicities, as in the previous Uproot tutorial)."
   ]
  }
 ],
 "metadata": {
  "kernelspec": {
   "display_name": "Python 3",
   "language": "python",
   "name": "python3"
  },
  "language_info": {
   "codemirror_mode": {
    "name": "ipython",
    "version": 3
   },
   "file_extension": ".py",
   "mimetype": "text/x-python",
   "name": "python",
   "nbconvert_exporter": "python",
   "pygments_lexer": "ipython3",
   "version": "3.7.3"
  }
 },
 "nbformat": 4,
 "nbformat_minor": 4
}
