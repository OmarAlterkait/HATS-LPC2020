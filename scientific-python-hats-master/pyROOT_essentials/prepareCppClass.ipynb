{
 "cells": [
  {
   "cell_type": "markdown",
   "metadata": {},
   "source": [
    "Since we're doing a dijet analysis, we'll want to use TLorentzVectors to do things like computing the invariant mass of a two-jet system. But TLorentzVectors are notoriously slow in pyROOT. Even if this weren't the case, looping over big trees is really something you should never do in pyROOT. But pretty much everything besides those CPU-intensive tasks is better in pyROOT :-P\n",
    "\n",
    "Please take a look at the minimal changes made to `hatsTrees.C` and `hatsTrees.h` that you can find in the `sample_code` directory. A good philosophy with using `TTree.MakeClass()` is to change as little as possible. Please read the below diff -- it contains useful tips on e.g. setting up the class to take arguments. Without the comments, there are about 30 lines of code added, but they're sufficient for all the heavy lifting in the calculation of complicated physical variables."
   ]
  },
  {
   "cell_type": "code",
   "execution_count": 3,
   "metadata": {
    "scrolled": true
   },
   "outputs": [],
   "source": [
    "!diff hatsTrees.C sample_code/hatsTrees.C  # could try adding --side-by-side to this command"
   ]
  },
  {
   "cell_type": "markdown",
   "metadata": {},
   "source": [
    "Now that we've prepared our C++ class to do the heavy lifting, we will create a python-environment script where we can load it and use it to process our big datasets, while leveraging python to do the things that are annoying in C++. We'll design it to be suitable for use in batch submissions. Please follow along by looking at sample_code/runHatsTrees.py \n",
    "> Now let's go through `runHatsTrees.py`"
   ]
  },
  {
   "cell_type": "markdown",
   "metadata": {},
   "source": [
    "Note that runHatsTrees.py has an OptionParser defined. OptionParser is a commonly used bit of python that will automatically generate a help message for someone trying to use the script. Let's see what it says:"
   ]
  },
  {
   "cell_type": "code",
   "execution_count": 4,
   "metadata": {},
   "outputs": [
    {
     "name": "stdout",
     "output_type": "stream",
     "text": [
      "Usage: runHatsTrees.py [options]\r\n",
      "\r\n",
      "This script takes as input a directory of input .root files, and runs the hatsTrees.C macro on them.\r\n",
      "\r\n",
      "Options:\r\n",
      "  -h, --help            show this help message and exit\r\n",
      "  -l, --load            do not recompile the class, instead load it from a\r\n",
      "                        compiled library\r\n",
      "  -i INDIR, --inDir=INDIR\r\n",
      "                        the input directory of root files\r\n",
      "  -t INTREENAME, --inTreeName=INTREENAME\r\n",
      "                        the name of the input tree inside the input file\r\n",
      "  -o OUTFILENAME, --outFileName=OUTFILENAME\r\n",
      "                        the output root file name. It will be located within\r\n",
      "                        the 'output' directory\r\n"
     ]
    }
   ],
   "source": [
    "!python sample_code/runHatsTrees.py --help"
   ]
  },
  {
   "cell_type": "markdown",
   "metadata": {},
   "source": [
    "Let's try running it according to the help message (this will take some time)"
   ]
  },
  {
   "cell_type": "code",
   "execution_count": 5,
   "metadata": {},
   "outputs": [
    {
     "name": "stdout",
     "output_type": "stream",
     "text": [
      "Loading\n",
      "xrdfs root://xrootd.accre.vanderbilt.edu:1094/ ls /store/user/hats/PyRoot/2017/qcd_samples/QCD_HT1000to1500_0_0\n",
      "[!] Some of the requests failed. The result may be incomplete.\n",
      "adding root://xrootd.accre.vanderbilt.edu//store/user/hats/PyRoot/2017/qcd_samples/QCD_HT1000to1500_0_0/flatTuple_1.root\n",
      "adding root://xrootd.accre.vanderbilt.edu//store/user/hats/PyRoot/2017/qcd_samples/QCD_HT1000to1500_0_0/flatTuple_10.root\n",
      "adding root://xrootd.accre.vanderbilt.edu//store/user/hats/PyRoot/2017/qcd_samples/QCD_HT1000to1500_0_0/flatTuple_100.root\n",
      "adding root://xrootd.accre.vanderbilt.edu//store/user/hats/PyRoot/2017/qcd_samples/QCD_HT1000to1500_0_0/flatTuple_101.root\n",
      "adding root://xrootd.accre.vanderbilt.edu//store/user/hats/PyRoot/2017/qcd_samples/QCD_HT1000to1500_0_0/flatTuple_102.root\n",
      "adding root://xrootd.accre.vanderbilt.edu//store/user/hats/PyRoot/2017/qcd_samples/QCD_HT1000to1500_0_0/flatTuple_103.root\n",
      "adding root://xrootd.accre.vanderbilt.edu//store/user/hats/PyRoot/2017/qcd_samples/QCD_HT1000to1500_0_0/flatTuple_104.root\n",
      "adding root://xrootd.accre.vanderbilt.edu//store/user/hats/PyRoot/2017/qcd_samples/QCD_HT1000to1500_0_0/flatTuple_105.root\n",
      "adding root://xrootd.accre.vanderbilt.edu//store/user/hats/PyRoot/2017/qcd_samples/QCD_HT1000to1500_0_0/flatTuple_106.root\n",
      "adding root://xrootd.accre.vanderbilt.edu//store/user/hats/PyRoot/2017/qcd_samples/QCD_HT1000to1500_0_0/flatTuple_107.root\n",
      "adding root://xrootd.accre.vanderbilt.edu//store/user/hats/PyRoot/2017/qcd_samples/QCD_HT1000to1500_0_0/flatTuple_108.root\n",
      "adding root://xrootd.accre.vanderbilt.edu//store/user/hats/PyRoot/2017/qcd_samples/QCD_HT1000to1500_0_0/flatTuple_109.root\n",
      "adding root://xrootd.accre.vanderbilt.edu//store/user/hats/PyRoot/2017/qcd_samples/QCD_HT1000to1500_0_0/flatTuple_11.root\n",
      "adding root://xrootd.accre.vanderbilt.edu//store/user/hats/PyRoot/2017/qcd_samples/QCD_HT1000to1500_0_0/flatTuple_110.root\n",
      "adding root://xrootd.accre.vanderbilt.edu//store/user/hats/PyRoot/2017/qcd_samples/QCD_HT1000to1500_0_0/flatTuple_111.root\n",
      "adding root://xrootd.accre.vanderbilt.edu//store/user/hats/PyRoot/2017/qcd_samples/QCD_HT1000to1500_0_0/flatTuple_112.root\n",
      "adding root://xrootd.accre.vanderbilt.edu//store/user/hats/PyRoot/2017/qcd_samples/QCD_HT1000to1500_0_0/flatTuple_113.root\n",
      "adding root://xrootd.accre.vanderbilt.edu//store/user/hats/PyRoot/2017/qcd_samples/QCD_HT1000to1500_0_0/flatTuple_114.root\n",
      "adding root://xrootd.accre.vanderbilt.edu//store/user/hats/PyRoot/2017/qcd_samples/QCD_HT1000to1500_0_0/flatTuple_115.root\n",
      "adding root://xrootd.accre.vanderbilt.edu//store/user/hats/PyRoot/2017/qcd_samples/QCD_HT1000to1500_0_0/flatTuple_116.root\n",
      "adding root://xrootd.accre.vanderbilt.edu//store/user/hats/PyRoot/2017/qcd_samples/QCD_HT1000to1500_0_0/flatTuple_117.root\n",
      "adding root://xrootd.accre.vanderbilt.edu//store/user/hats/PyRoot/2017/qcd_samples/QCD_HT1000to1500_0_0/flatTuple_118.root\n",
      "adding root://xrootd.accre.vanderbilt.edu//store/user/hats/PyRoot/2017/qcd_samples/QCD_HT1000to1500_0_0/flatTuple_119.root\n",
      "adding root://xrootd.accre.vanderbilt.edu//store/user/hats/PyRoot/2017/qcd_samples/QCD_HT1000to1500_0_0/flatTuple_12.root\n",
      "adding root://xrootd.accre.vanderbilt.edu//store/user/hats/PyRoot/2017/qcd_samples/QCD_HT1000to1500_0_0/flatTuple_120.root\n",
      "adding root://xrootd.accre.vanderbilt.edu//store/user/hats/PyRoot/2017/qcd_samples/QCD_HT1000to1500_0_0/flatTuple_121.root\n",
      "adding root://xrootd.accre.vanderbilt.edu//store/user/hats/PyRoot/2017/qcd_samples/QCD_HT1000to1500_0_0/flatTuple_122.root\n",
      "adding root://xrootd.accre.vanderbilt.edu//store/user/hats/PyRoot/2017/qcd_samples/QCD_HT1000to1500_0_0/flatTuple_123.root\n",
      "adding root://xrootd.accre.vanderbilt.edu//store/user/hats/PyRoot/2017/qcd_samples/QCD_HT1000to1500_0_0/flatTuple_124.root\n",
      "adding root://xrootd.accre.vanderbilt.edu//store/user/hats/PyRoot/2017/qcd_samples/QCD_HT1000to1500_0_0/flatTuple_125.root\n",
      "adding root://xrootd.accre.vanderbilt.edu//store/user/hats/PyRoot/2017/qcd_samples/QCD_HT1000to1500_0_0/flatTuple_126.root\n",
      "adding root://xrootd.accre.vanderbilt.edu//store/user/hats/PyRoot/2017/qcd_samples/QCD_HT1000to1500_0_0/flatTuple_127.root\n",
      "adding root://xrootd.accre.vanderbilt.edu//store/user/hats/PyRoot/2017/qcd_samples/QCD_HT1000to1500_0_0/flatTuple_128.root\n",
      "adding root://xrootd.accre.vanderbilt.edu//store/user/hats/PyRoot/2017/qcd_samples/QCD_HT1000to1500_0_0/flatTuple_129.root\n",
      "adding root://xrootd.accre.vanderbilt.edu//store/user/hats/PyRoot/2017/qcd_samples/QCD_HT1000to1500_0_0/flatTuple_13.root\n",
      "adding root://xrootd.accre.vanderbilt.edu//store/user/hats/PyRoot/2017/qcd_samples/QCD_HT1000to1500_0_0/flatTuple_130.root\n",
      "adding root://xrootd.accre.vanderbilt.edu//store/user/hats/PyRoot/2017/qcd_samples/QCD_HT1000to1500_0_0/flatTuple_131.root\n",
      "adding root://xrootd.accre.vanderbilt.edu//store/user/hats/PyRoot/2017/qcd_samples/QCD_HT1000to1500_0_0/flatTuple_132.root\n",
      "adding root://xrootd.accre.vanderbilt.edu//store/user/hats/PyRoot/2017/qcd_samples/QCD_HT1000to1500_0_0/flatTuple_133.root\n",
      "adding root://xrootd.accre.vanderbilt.edu//store/user/hats/PyRoot/2017/qcd_samples/QCD_HT1000to1500_0_0/flatTuple_134.root\n",
      "adding root://xrootd.accre.vanderbilt.edu//store/user/hats/PyRoot/2017/qcd_samples/QCD_HT1000to1500_0_0/flatTuple_135.root\n",
      "adding root://xrootd.accre.vanderbilt.edu//store/user/hats/PyRoot/2017/qcd_samples/QCD_HT1000to1500_0_0/flatTuple_136.root\n",
      "adding root://xrootd.accre.vanderbilt.edu//store/user/hats/PyRoot/2017/qcd_samples/QCD_HT1000to1500_0_0/flatTuple_137.root\n",
      "adding root://xrootd.accre.vanderbilt.edu//store/user/hats/PyRoot/2017/qcd_samples/QCD_HT1000to1500_0_0/flatTuple_138.root\n",
      "adding root://xrootd.accre.vanderbilt.edu//store/user/hats/PyRoot/2017/qcd_samples/QCD_HT1000to1500_0_0/flatTuple_139.root\n",
      "adding root://xrootd.accre.vanderbilt.edu//store/user/hats/PyRoot/2017/qcd_samples/QCD_HT1000to1500_0_0/flatTuple_14.root\n",
      "adding root://xrootd.accre.vanderbilt.edu//store/user/hats/PyRoot/2017/qcd_samples/QCD_HT1000to1500_0_0/flatTuple_140.root\n",
      "adding root://xrootd.accre.vanderbilt.edu//store/user/hats/PyRoot/2017/qcd_samples/QCD_HT1000to1500_0_0/flatTuple_141.root\n",
      "adding root://xrootd.accre.vanderbilt.edu//store/user/hats/PyRoot/2017/qcd_samples/QCD_HT1000to1500_0_0/flatTuple_142.root\n",
      "adding root://xrootd.accre.vanderbilt.edu//store/user/hats/PyRoot/2017/qcd_samples/QCD_HT1000to1500_0_0/flatTuple_143.root\n",
      "adding root://xrootd.accre.vanderbilt.edu//store/user/hats/PyRoot/2017/qcd_samples/QCD_HT1000to1500_0_0/flatTuple_144.root\n",
      "adding root://xrootd.accre.vanderbilt.edu//store/user/hats/PyRoot/2017/qcd_samples/QCD_HT1000to1500_0_0/flatTuple_145.root\n",
      "adding root://xrootd.accre.vanderbilt.edu//store/user/hats/PyRoot/2017/qcd_samples/QCD_HT1000to1500_0_0/flatTuple_146.root\n",
      "adding root://xrootd.accre.vanderbilt.edu//store/user/hats/PyRoot/2017/qcd_samples/QCD_HT1000to1500_0_0/flatTuple_147.root\n",
      "adding root://xrootd.accre.vanderbilt.edu//store/user/hats/PyRoot/2017/qcd_samples/QCD_HT1000to1500_0_0/flatTuple_148.root\n",
      "adding root://xrootd.accre.vanderbilt.edu//store/user/hats/PyRoot/2017/qcd_samples/QCD_HT1000to1500_0_0/flatTuple_149.root\n",
      "adding root://xrootd.accre.vanderbilt.edu//store/user/hats/PyRoot/2017/qcd_samples/QCD_HT1000to1500_0_0/flatTuple_15.root\n",
      "adding root://xrootd.accre.vanderbilt.edu//store/user/hats/PyRoot/2017/qcd_samples/QCD_HT1000to1500_0_0/flatTuple_150.root\n",
      "adding root://xrootd.accre.vanderbilt.edu//store/user/hats/PyRoot/2017/qcd_samples/QCD_HT1000to1500_0_0/flatTuple_151.root\n",
      "adding root://xrootd.accre.vanderbilt.edu//store/user/hats/PyRoot/2017/qcd_samples/QCD_HT1000to1500_0_0/flatTuple_152.root\n",
      "adding root://xrootd.accre.vanderbilt.edu//store/user/hats/PyRoot/2017/qcd_samples/QCD_HT1000to1500_0_0/flatTuple_153.root\n",
      "adding root://xrootd.accre.vanderbilt.edu//store/user/hats/PyRoot/2017/qcd_samples/QCD_HT1000to1500_0_0/flatTuple_154.root\n",
      "adding root://xrootd.accre.vanderbilt.edu//store/user/hats/PyRoot/2017/qcd_samples/QCD_HT1000to1500_0_0/flatTuple_155.root\n",
      "adding root://xrootd.accre.vanderbilt.edu//store/user/hats/PyRoot/2017/qcd_samples/QCD_HT1000to1500_0_0/flatTuple_156.root\n",
      "adding root://xrootd.accre.vanderbilt.edu//store/user/hats/PyRoot/2017/qcd_samples/QCD_HT1000to1500_0_0/flatTuple_157.root\n",
      "adding root://xrootd.accre.vanderbilt.edu//store/user/hats/PyRoot/2017/qcd_samples/QCD_HT1000to1500_0_0/flatTuple_158.root\n",
      "adding root://xrootd.accre.vanderbilt.edu//store/user/hats/PyRoot/2017/qcd_samples/QCD_HT1000to1500_0_0/flatTuple_159.root\n",
      "adding root://xrootd.accre.vanderbilt.edu//store/user/hats/PyRoot/2017/qcd_samples/QCD_HT1000to1500_0_0/flatTuple_16.root\n",
      "adding root://xrootd.accre.vanderbilt.edu//store/user/hats/PyRoot/2017/qcd_samples/QCD_HT1000to1500_0_0/flatTuple_160.root\n",
      "adding root://xrootd.accre.vanderbilt.edu//store/user/hats/PyRoot/2017/qcd_samples/QCD_HT1000to1500_0_0/flatTuple_161.root\n",
      "adding root://xrootd.accre.vanderbilt.edu//store/user/hats/PyRoot/2017/qcd_samples/QCD_HT1000to1500_0_0/flatTuple_162.root\n",
      "adding root://xrootd.accre.vanderbilt.edu//store/user/hats/PyRoot/2017/qcd_samples/QCD_HT1000to1500_0_0/flatTuple_163.root\n",
      "adding root://xrootd.accre.vanderbilt.edu//store/user/hats/PyRoot/2017/qcd_samples/QCD_HT1000to1500_0_0/flatTuple_164.root\n",
      "adding root://xrootd.accre.vanderbilt.edu//store/user/hats/PyRoot/2017/qcd_samples/QCD_HT1000to1500_0_0/flatTuple_165.root\n",
      "adding root://xrootd.accre.vanderbilt.edu//store/user/hats/PyRoot/2017/qcd_samples/QCD_HT1000to1500_0_0/flatTuple_166.root\n",
      "adding root://xrootd.accre.vanderbilt.edu//store/user/hats/PyRoot/2017/qcd_samples/QCD_HT1000to1500_0_0/flatTuple_167.root\n",
      "adding root://xrootd.accre.vanderbilt.edu//store/user/hats/PyRoot/2017/qcd_samples/QCD_HT1000to1500_0_0/flatTuple_168.root\n",
      "adding root://xrootd.accre.vanderbilt.edu//store/user/hats/PyRoot/2017/qcd_samples/QCD_HT1000to1500_0_0/flatTuple_169.root\n",
      "adding root://xrootd.accre.vanderbilt.edu//store/user/hats/PyRoot/2017/qcd_samples/QCD_HT1000to1500_0_0/flatTuple_17.root\n",
      "adding root://xrootd.accre.vanderbilt.edu//store/user/hats/PyRoot/2017/qcd_samples/QCD_HT1000to1500_0_0/flatTuple_170.root\n",
      "adding root://xrootd.accre.vanderbilt.edu//store/user/hats/PyRoot/2017/qcd_samples/QCD_HT1000to1500_0_0/flatTuple_171.root\n",
      "adding root://xrootd.accre.vanderbilt.edu//store/user/hats/PyRoot/2017/qcd_samples/QCD_HT1000to1500_0_0/flatTuple_172.root\n",
      "adding root://xrootd.accre.vanderbilt.edu//store/user/hats/PyRoot/2017/qcd_samples/QCD_HT1000to1500_0_0/flatTuple_173.root\n",
      "adding root://xrootd.accre.vanderbilt.edu//store/user/hats/PyRoot/2017/qcd_samples/QCD_HT1000to1500_0_0/flatTuple_174.root\n",
      "adding root://xrootd.accre.vanderbilt.edu//store/user/hats/PyRoot/2017/qcd_samples/QCD_HT1000to1500_0_0/flatTuple_175.root\n",
      "adding root://xrootd.accre.vanderbilt.edu//store/user/hats/PyRoot/2017/qcd_samples/QCD_HT1000to1500_0_0/flatTuple_176.root\n",
      "adding root://xrootd.accre.vanderbilt.edu//store/user/hats/PyRoot/2017/qcd_samples/QCD_HT1000to1500_0_0/flatTuple_177.root\n",
      "adding root://xrootd.accre.vanderbilt.edu//store/user/hats/PyRoot/2017/qcd_samples/QCD_HT1000to1500_0_0/flatTuple_178.root\n",
      "adding root://xrootd.accre.vanderbilt.edu//store/user/hats/PyRoot/2017/qcd_samples/QCD_HT1000to1500_0_0/flatTuple_179.root\n",
      "adding root://xrootd.accre.vanderbilt.edu//store/user/hats/PyRoot/2017/qcd_samples/QCD_HT1000to1500_0_0/flatTuple_18.root\n",
      "adding root://xrootd.accre.vanderbilt.edu//store/user/hats/PyRoot/2017/qcd_samples/QCD_HT1000to1500_0_0/flatTuple_180.root\n",
      "adding root://xrootd.accre.vanderbilt.edu//store/user/hats/PyRoot/2017/qcd_samples/QCD_HT1000to1500_0_0/flatTuple_181.root\n",
      "adding root://xrootd.accre.vanderbilt.edu//store/user/hats/PyRoot/2017/qcd_samples/QCD_HT1000to1500_0_0/flatTuple_182.root\n",
      "adding root://xrootd.accre.vanderbilt.edu//store/user/hats/PyRoot/2017/qcd_samples/QCD_HT1000to1500_0_0/flatTuple_183.root\n",
      "adding root://xrootd.accre.vanderbilt.edu//store/user/hats/PyRoot/2017/qcd_samples/QCD_HT1000to1500_0_0/flatTuple_184.root\n",
      "adding root://xrootd.accre.vanderbilt.edu//store/user/hats/PyRoot/2017/qcd_samples/QCD_HT1000to1500_0_0/flatTuple_185.root\n",
      "adding root://xrootd.accre.vanderbilt.edu//store/user/hats/PyRoot/2017/qcd_samples/QCD_HT1000to1500_0_0/flatTuple_186.root\n",
      "adding root://xrootd.accre.vanderbilt.edu//store/user/hats/PyRoot/2017/qcd_samples/QCD_HT1000to1500_0_0/flatTuple_187.root\n",
      "adding root://xrootd.accre.vanderbilt.edu//store/user/hats/PyRoot/2017/qcd_samples/QCD_HT1000to1500_0_0/flatTuple_188.root\n",
      "adding root://xrootd.accre.vanderbilt.edu//store/user/hats/PyRoot/2017/qcd_samples/QCD_HT1000to1500_0_0/flatTuple_189.root\n",
      "adding root://xrootd.accre.vanderbilt.edu//store/user/hats/PyRoot/2017/qcd_samples/QCD_HT1000to1500_0_0/flatTuple_19.root\n",
      "adding root://xrootd.accre.vanderbilt.edu//store/user/hats/PyRoot/2017/qcd_samples/QCD_HT1000to1500_0_0/flatTuple_190.root\n",
      "adding root://xrootd.accre.vanderbilt.edu//store/user/hats/PyRoot/2017/qcd_samples/QCD_HT1000to1500_0_0/flatTuple_191.root\n",
      "adding root://xrootd.accre.vanderbilt.edu//store/user/hats/PyRoot/2017/qcd_samples/QCD_HT1000to1500_0_0/flatTuple_192.root\n",
      "adding root://xrootd.accre.vanderbilt.edu//store/user/hats/PyRoot/2017/qcd_samples/QCD_HT1000to1500_0_0/flatTuple_193.root\n",
      "adding root://xrootd.accre.vanderbilt.edu//store/user/hats/PyRoot/2017/qcd_samples/QCD_HT1000to1500_0_0/flatTuple_194.root\n",
      "adding root://xrootd.accre.vanderbilt.edu//store/user/hats/PyRoot/2017/qcd_samples/QCD_HT1000to1500_0_0/flatTuple_195.root\n",
      "adding root://xrootd.accre.vanderbilt.edu//store/user/hats/PyRoot/2017/qcd_samples/QCD_HT1000to1500_0_0/flatTuple_196.root\n",
      "adding root://xrootd.accre.vanderbilt.edu//store/user/hats/PyRoot/2017/qcd_samples/QCD_HT1000to1500_0_0/flatTuple_197.root\n",
      "adding root://xrootd.accre.vanderbilt.edu//store/user/hats/PyRoot/2017/qcd_samples/QCD_HT1000to1500_0_0/flatTuple_198.root\n",
      "adding root://xrootd.accre.vanderbilt.edu//store/user/hats/PyRoot/2017/qcd_samples/QCD_HT1000to1500_0_0/flatTuple_199.root\n",
      "adding root://xrootd.accre.vanderbilt.edu//store/user/hats/PyRoot/2017/qcd_samples/QCD_HT1000to1500_0_0/flatTuple_2.root\n",
      "adding root://xrootd.accre.vanderbilt.edu//store/user/hats/PyRoot/2017/qcd_samples/QCD_HT1000to1500_0_0/flatTuple_20.root\n",
      "adding root://xrootd.accre.vanderbilt.edu//store/user/hats/PyRoot/2017/qcd_samples/QCD_HT1000to1500_0_0/flatTuple_200.root\n",
      "adding root://xrootd.accre.vanderbilt.edu//store/user/hats/PyRoot/2017/qcd_samples/QCD_HT1000to1500_0_0/flatTuple_201.root\n",
      "adding root://xrootd.accre.vanderbilt.edu//store/user/hats/PyRoot/2017/qcd_samples/QCD_HT1000to1500_0_0/flatTuple_202.root\n",
      "adding root://xrootd.accre.vanderbilt.edu//store/user/hats/PyRoot/2017/qcd_samples/QCD_HT1000to1500_0_0/flatTuple_203.root\n",
      "adding root://xrootd.accre.vanderbilt.edu//store/user/hats/PyRoot/2017/qcd_samples/QCD_HT1000to1500_0_0/flatTuple_204.root\n",
      "adding root://xrootd.accre.vanderbilt.edu//store/user/hats/PyRoot/2017/qcd_samples/QCD_HT1000to1500_0_0/flatTuple_205.root\n",
      "adding root://xrootd.accre.vanderbilt.edu//store/user/hats/PyRoot/2017/qcd_samples/QCD_HT1000to1500_0_0/flatTuple_206.root\n",
      "adding root://xrootd.accre.vanderbilt.edu//store/user/hats/PyRoot/2017/qcd_samples/QCD_HT1000to1500_0_0/flatTuple_207.root\n",
      "adding root://xrootd.accre.vanderbilt.edu//store/user/hats/PyRoot/2017/qcd_samples/QCD_HT1000to1500_0_0/flatTuple_208.root\n",
      "adding root://xrootd.accre.vanderbilt.edu//store/user/hats/PyRoot/2017/qcd_samples/QCD_HT1000to1500_0_0/flatTuple_209.root\n",
      "adding root://xrootd.accre.vanderbilt.edu//store/user/hats/PyRoot/2017/qcd_samples/QCD_HT1000to1500_0_0/flatTuple_21.root\n",
      "adding root://xrootd.accre.vanderbilt.edu//store/user/hats/PyRoot/2017/qcd_samples/QCD_HT1000to1500_0_0/flatTuple_210.root\n",
      "adding root://xrootd.accre.vanderbilt.edu//store/user/hats/PyRoot/2017/qcd_samples/QCD_HT1000to1500_0_0/flatTuple_211.root\n",
      "adding root://xrootd.accre.vanderbilt.edu//store/user/hats/PyRoot/2017/qcd_samples/QCD_HT1000to1500_0_0/flatTuple_212.root\n",
      "adding root://xrootd.accre.vanderbilt.edu//store/user/hats/PyRoot/2017/qcd_samples/QCD_HT1000to1500_0_0/flatTuple_213.root\n",
      "adding root://xrootd.accre.vanderbilt.edu//store/user/hats/PyRoot/2017/qcd_samples/QCD_HT1000to1500_0_0/flatTuple_214.root\n",
      "adding root://xrootd.accre.vanderbilt.edu//store/user/hats/PyRoot/2017/qcd_samples/QCD_HT1000to1500_0_0/flatTuple_215.root\n",
      "adding root://xrootd.accre.vanderbilt.edu//store/user/hats/PyRoot/2017/qcd_samples/QCD_HT1000to1500_0_0/flatTuple_216.root\n",
      "adding root://xrootd.accre.vanderbilt.edu//store/user/hats/PyRoot/2017/qcd_samples/QCD_HT1000to1500_0_0/flatTuple_217.root\n",
      "adding root://xrootd.accre.vanderbilt.edu//store/user/hats/PyRoot/2017/qcd_samples/QCD_HT1000to1500_0_0/flatTuple_218.root\n",
      "adding root://xrootd.accre.vanderbilt.edu//store/user/hats/PyRoot/2017/qcd_samples/QCD_HT1000to1500_0_0/flatTuple_219.root\n",
      "adding root://xrootd.accre.vanderbilt.edu//store/user/hats/PyRoot/2017/qcd_samples/QCD_HT1000to1500_0_0/flatTuple_22.root\n",
      "adding root://xrootd.accre.vanderbilt.edu//store/user/hats/PyRoot/2017/qcd_samples/QCD_HT1000to1500_0_0/flatTuple_220.root\n",
      "adding root://xrootd.accre.vanderbilt.edu//store/user/hats/PyRoot/2017/qcd_samples/QCD_HT1000to1500_0_0/flatTuple_221.root\n",
      "adding root://xrootd.accre.vanderbilt.edu//store/user/hats/PyRoot/2017/qcd_samples/QCD_HT1000to1500_0_0/flatTuple_222.root\n",
      "adding root://xrootd.accre.vanderbilt.edu//store/user/hats/PyRoot/2017/qcd_samples/QCD_HT1000to1500_0_0/flatTuple_223.root\n",
      "adding root://xrootd.accre.vanderbilt.edu//store/user/hats/PyRoot/2017/qcd_samples/QCD_HT1000to1500_0_0/flatTuple_224.root\n",
      "adding root://xrootd.accre.vanderbilt.edu//store/user/hats/PyRoot/2017/qcd_samples/QCD_HT1000to1500_0_0/flatTuple_225.root\n",
      "adding root://xrootd.accre.vanderbilt.edu//store/user/hats/PyRoot/2017/qcd_samples/QCD_HT1000to1500_0_0/flatTuple_226.root\n",
      "adding root://xrootd.accre.vanderbilt.edu//store/user/hats/PyRoot/2017/qcd_samples/QCD_HT1000to1500_0_0/flatTuple_227.root\n",
      "adding root://xrootd.accre.vanderbilt.edu//store/user/hats/PyRoot/2017/qcd_samples/QCD_HT1000to1500_0_0/flatTuple_228.root\n",
      "adding root://xrootd.accre.vanderbilt.edu//store/user/hats/PyRoot/2017/qcd_samples/QCD_HT1000to1500_0_0/flatTuple_229.root\n",
      "adding root://xrootd.accre.vanderbilt.edu//store/user/hats/PyRoot/2017/qcd_samples/QCD_HT1000to1500_0_0/flatTuple_23.root\n",
      "adding root://xrootd.accre.vanderbilt.edu//store/user/hats/PyRoot/2017/qcd_samples/QCD_HT1000to1500_0_0/flatTuple_230.root\n",
      "adding root://xrootd.accre.vanderbilt.edu//store/user/hats/PyRoot/2017/qcd_samples/QCD_HT1000to1500_0_0/flatTuple_231.root\n",
      "adding root://xrootd.accre.vanderbilt.edu//store/user/hats/PyRoot/2017/qcd_samples/QCD_HT1000to1500_0_0/flatTuple_232.root\n",
      "adding root://xrootd.accre.vanderbilt.edu//store/user/hats/PyRoot/2017/qcd_samples/QCD_HT1000to1500_0_0/flatTuple_233.root\n",
      "adding root://xrootd.accre.vanderbilt.edu//store/user/hats/PyRoot/2017/qcd_samples/QCD_HT1000to1500_0_0/flatTuple_234.root\n",
      "adding root://xrootd.accre.vanderbilt.edu//store/user/hats/PyRoot/2017/qcd_samples/QCD_HT1000to1500_0_0/flatTuple_235.root\n",
      "adding root://xrootd.accre.vanderbilt.edu//store/user/hats/PyRoot/2017/qcd_samples/QCD_HT1000to1500_0_0/flatTuple_236.root\n",
      "adding root://xrootd.accre.vanderbilt.edu//store/user/hats/PyRoot/2017/qcd_samples/QCD_HT1000to1500_0_0/flatTuple_237.root\n",
      "adding root://xrootd.accre.vanderbilt.edu//store/user/hats/PyRoot/2017/qcd_samples/QCD_HT1000to1500_0_0/flatTuple_238.root\n",
      "adding root://xrootd.accre.vanderbilt.edu//store/user/hats/PyRoot/2017/qcd_samples/QCD_HT1000to1500_0_0/flatTuple_239.root\n",
      "adding root://xrootd.accre.vanderbilt.edu//store/user/hats/PyRoot/2017/qcd_samples/QCD_HT1000to1500_0_0/flatTuple_24.root\n",
      "adding root://xrootd.accre.vanderbilt.edu//store/user/hats/PyRoot/2017/qcd_samples/QCD_HT1000to1500_0_0/flatTuple_240.root\n",
      "adding root://xrootd.accre.vanderbilt.edu//store/user/hats/PyRoot/2017/qcd_samples/QCD_HT1000to1500_0_0/flatTuple_241.root\n",
      "adding root://xrootd.accre.vanderbilt.edu//store/user/hats/PyRoot/2017/qcd_samples/QCD_HT1000to1500_0_0/flatTuple_242.root\n",
      "adding root://xrootd.accre.vanderbilt.edu//store/user/hats/PyRoot/2017/qcd_samples/QCD_HT1000to1500_0_0/flatTuple_243.root\n",
      "adding root://xrootd.accre.vanderbilt.edu//store/user/hats/PyRoot/2017/qcd_samples/QCD_HT1000to1500_0_0/flatTuple_244.root\n",
      "adding root://xrootd.accre.vanderbilt.edu//store/user/hats/PyRoot/2017/qcd_samples/QCD_HT1000to1500_0_0/flatTuple_245.root\n",
      "adding root://xrootd.accre.vanderbilt.edu//store/user/hats/PyRoot/2017/qcd_samples/QCD_HT1000to1500_0_0/flatTuple_246.root\n",
      "adding root://xrootd.accre.vanderbilt.edu//store/user/hats/PyRoot/2017/qcd_samples/QCD_HT1000to1500_0_0/flatTuple_247.root\n",
      "adding root://xrootd.accre.vanderbilt.edu//store/user/hats/PyRoot/2017/qcd_samples/QCD_HT1000to1500_0_0/flatTuple_248.root\n",
      "adding root://xrootd.accre.vanderbilt.edu//store/user/hats/PyRoot/2017/qcd_samples/QCD_HT1000to1500_0_0/flatTuple_249.root\n",
      "adding root://xrootd.accre.vanderbilt.edu//store/user/hats/PyRoot/2017/qcd_samples/QCD_HT1000to1500_0_0/flatTuple_25.root\n",
      "adding root://xrootd.accre.vanderbilt.edu//store/user/hats/PyRoot/2017/qcd_samples/QCD_HT1000to1500_0_0/flatTuple_250.root\n",
      "adding root://xrootd.accre.vanderbilt.edu//store/user/hats/PyRoot/2017/qcd_samples/QCD_HT1000to1500_0_0/flatTuple_251.root\n",
      "adding root://xrootd.accre.vanderbilt.edu//store/user/hats/PyRoot/2017/qcd_samples/QCD_HT1000to1500_0_0/flatTuple_252.root\n",
      "adding root://xrootd.accre.vanderbilt.edu//store/user/hats/PyRoot/2017/qcd_samples/QCD_HT1000to1500_0_0/flatTuple_253.root\n",
      "adding root://xrootd.accre.vanderbilt.edu//store/user/hats/PyRoot/2017/qcd_samples/QCD_HT1000to1500_0_0/flatTuple_254.root\n",
      "adding root://xrootd.accre.vanderbilt.edu//store/user/hats/PyRoot/2017/qcd_samples/QCD_HT1000to1500_0_0/flatTuple_255.root\n",
      "adding root://xrootd.accre.vanderbilt.edu//store/user/hats/PyRoot/2017/qcd_samples/QCD_HT1000to1500_0_0/flatTuple_256.root\n",
      "adding root://xrootd.accre.vanderbilt.edu//store/user/hats/PyRoot/2017/qcd_samples/QCD_HT1000to1500_0_0/flatTuple_257.root\n",
      "adding root://xrootd.accre.vanderbilt.edu//store/user/hats/PyRoot/2017/qcd_samples/QCD_HT1000to1500_0_0/flatTuple_258.root\n",
      "adding root://xrootd.accre.vanderbilt.edu//store/user/hats/PyRoot/2017/qcd_samples/QCD_HT1000to1500_0_0/flatTuple_259.root\n",
      "adding root://xrootd.accre.vanderbilt.edu//store/user/hats/PyRoot/2017/qcd_samples/QCD_HT1000to1500_0_0/flatTuple_26.root\n",
      "adding root://xrootd.accre.vanderbilt.edu//store/user/hats/PyRoot/2017/qcd_samples/QCD_HT1000to1500_0_0/flatTuple_260.root\n",
      "adding root://xrootd.accre.vanderbilt.edu//store/user/hats/PyRoot/2017/qcd_samples/QCD_HT1000to1500_0_0/flatTuple_261.root\n",
      "adding root://xrootd.accre.vanderbilt.edu//store/user/hats/PyRoot/2017/qcd_samples/QCD_HT1000to1500_0_0/flatTuple_262.root\n",
      "adding root://xrootd.accre.vanderbilt.edu//store/user/hats/PyRoot/2017/qcd_samples/QCD_HT1000to1500_0_0/flatTuple_263.root\n",
      "adding root://xrootd.accre.vanderbilt.edu//store/user/hats/PyRoot/2017/qcd_samples/QCD_HT1000to1500_0_0/flatTuple_264.root\n",
      "adding root://xrootd.accre.vanderbilt.edu//store/user/hats/PyRoot/2017/qcd_samples/QCD_HT1000to1500_0_0/flatTuple_265.root\n",
      "adding root://xrootd.accre.vanderbilt.edu//store/user/hats/PyRoot/2017/qcd_samples/QCD_HT1000to1500_0_0/flatTuple_266.root\n"
     ]
    },
    {
     "name": "stdout",
     "output_type": "stream",
     "text": [
      "<ROOT.TChain object (\"ntuplizer/tree\") at 0x56f8bd0>\n",
      "Info in <TUnixSystem::ACLiC>: creating shared library /home/cms.oalterka/HATS-LPC2020/scientific-python-hats-master/pyROOT_essentials/hatsTrees_C.so\n"
     ]
    }
   ],
   "source": [
    "!python sample_code/runHatsTrees.py -i /store/user/hats/PyRoot/2017/qcd_samples/QCD_HT1000to1500_0_0 -o hatsTrees_QCD_HT700to1000_0_0.root -t \"ntuplizer/tree\""
   ]
  },
  {
   "cell_type": "code",
   "execution_count": 6,
   "metadata": {},
   "outputs": [
    {
     "name": "stdout",
     "output_type": "stream",
     "text": [
      "/cvmfs/cms.cern.ch/slc7_amd64_gcc820/cms/cmssw/CMSSW_10_6_0/external/slc7_amd64_gcc820/bin/xrdfs\r\n"
     ]
    }
   ],
   "source": [
    "!which xrdfs"
   ]
  },
  {
   "cell_type": "code",
   "execution_count": 7,
   "metadata": {},
   "outputs": [
    {
     "name": "stdout",
     "output_type": "stream",
     "text": [
      "hatsTrees_QCD_HT700to1000_0_0.root\r\n"
     ]
    }
   ],
   "source": [
    "!ls output"
   ]
  },
  {
   "cell_type": "markdown",
   "metadata": {},
   "source": [
    "How much data did we just process? We can check using the XRootD bindings for Python."
   ]
  },
  {
   "cell_type": "code",
   "execution_count": 8,
   "metadata": {},
   "outputs": [
    {
     "name": "stdout",
     "output_type": "stream",
     "text": [
      "bytes: 2199130401\n",
      "gigabytes: 2.04809978697\n"
     ]
    }
   ],
   "source": [
    "from XRootD import client\n",
    "xrdClient = client.FileSystem(\"root://cmseos.fnal.gov/\")\n",
    "\n",
    "processedDir = \"/store/user/hats/PyRoot/2017/qcd_samples/QCD_HT700to1000_0_0/\"\n",
    "(status, files) = xrdClient.dirlist(processedDir)\n",
    "bytes = 0\n",
    "for file in files:\n",
    "    (status, info) = xrdClient.stat(processedDir + file.name)\n",
    "    bytes += info.size\n",
    "print \"bytes:\", bytes\n",
    "print \"gigabytes:\", bytes/float(1024**3)\n"
   ]
  },
  {
   "cell_type": "markdown",
   "metadata": {},
   "source": [
    "Let's make sure that our output looks reasonable."
   ]
  },
  {
   "cell_type": "code",
   "execution_count": 10,
   "metadata": {},
   "outputs": [
    {
     "name": "stdout",
     "output_type": "stream",
     "text": [
      "TFile**\t\toutput/hatsTrees_QCD_HT700to1000_0_0.root\t\n",
      " TFile*\t\toutput/hatsTrees_QCD_HT700to1000_0_0.root\t\n",
      "  KEY: TTree\thatsDijets;1\thatsDijets\n"
     ]
    }
   ],
   "source": [
    "import ROOT as r\n",
    "firstHatsFile = r.TFile(\"output/hatsTrees_QCD_HT700to1000_0_0.root\")\n",
    "firstHatsFile.ls()"
   ]
  },
  {
   "cell_type": "code",
   "execution_count": 11,
   "metadata": {},
   "outputs": [
    {
     "name": "stdout",
     "output_type": "stream",
     "text": [
      "******************************************************************************\n",
      "*Tree    :hatsDijets: hatsDijets                                             *\n",
      "*Entries :  1225662 : Total =        24595820 bytes  File  Size =   22070253 *\n",
      "*        :          : Tree compression factor =   1.11                       *\n",
      "******************************************************************************\n",
      "*Br    0 :leadingEta : leadingEta/F                                          *\n",
      "*Entries :  1225662 : Total  Size=    4918835 bytes  File Size  =    4542041 *\n",
      "*Baskets :      154 : Basket Size=      32000 bytes  Compression=   1.08     *\n",
      "*............................................................................*\n",
      "*Br    1 :subleadingEta : subleadingEta/F                                    *\n",
      "*Entries :  1225662 : Total  Size=    4919309 bytes  File Size  =    4547757 *\n",
      "*Baskets :      154 : Basket Size=      32000 bytes  Compression=   1.08     *\n",
      "*............................................................................*\n",
      "*Br    2 :cosThetaStar : cosThetaStar/F                                      *\n",
      "*Entries :  1225662 : Total  Size=    4919151 bytes  File Size  =    4530796 *\n",
      "*Baskets :      154 : Basket Size=      32000 bytes  Compression=   1.08     *\n",
      "*............................................................................*\n",
      "*Br    3 :dijetEtBalance : dijetEtBalance/F                                  *\n",
      "*Entries :  1225662 : Total  Size=    4919467 bytes  File Size  =    4201767 *\n",
      "*Baskets :      154 : Basket Size=      32000 bytes  Compression=   1.17     *\n",
      "*............................................................................*\n",
      "*Br    4 :dijetMass : dijetMass/F                                            *\n",
      "*Entries :  1225662 : Total  Size=    4918677 bytes  File Size  =    4241041 *\n",
      "*Baskets :      154 : Basket Size=      32000 bytes  Compression=   1.16     *\n",
      "*............................................................................*\n"
     ]
    }
   ],
   "source": [
    "firstHatsTree = firstHatsFile.Get(\"hatsDijets\")\n",
    "firstHatsTree.Print()"
   ]
  },
  {
   "cell_type": "code",
   "execution_count": 12,
   "metadata": {},
   "outputs": [
    {
     "data": {
      "image/png": "[encoded data removed]",
      "text/plain": [
       "<IPython.core.display.Image object>"
      ]
     },
     "metadata": {},
     "output_type": "display_data"
    }
   ],
   "source": [
    "can = r.TCanvas()\n",
    "can.SetLogy()\n",
    "firstHatsTree.Draw(\"dijetMass\")\n",
    "can.Draw()"
   ]
  },
  {
   "cell_type": "markdown",
   "metadata": {},
   "source": [
    "Now that we've seen that our python script works running over one of our input files, we're ready to do a batch submission to process all of our ntuples. However, during this HATS session, we won't actually submit the jobs. They have been made already and you can find them here:"
   ]
  },
  {
   "cell_type": "code",
   "execution_count": 13,
   "metadata": {},
   "outputs": [
    {
     "name": "stdout",
     "output_type": "stream",
     "text": [
      "[!] Some of the requests failed. The result may be incomplete.\r\n",
      "/store/user/hats/PyRoot/2017/hatsDijetTrees/hatsTrees_QCD_HT1000to1500\r\n",
      "/store/user/hats/PyRoot/2017/hatsDijetTrees/hatsTrees_QCD_HT1500to2000\r\n",
      "/store/user/hats/PyRoot/2017/hatsDijetTrees/hatsTrees_QCD_HT2000toInf\r\n",
      "/store/user/hats/PyRoot/2017/hatsDijetTrees/hatsTrees_QCD_HT200to300\r\n",
      "/store/user/hats/PyRoot/2017/hatsDijetTrees/hatsTrees_QCD_HT300to500\r\n",
      "/store/user/hats/PyRoot/2017/hatsDijetTrees/hatsTrees_QCD_HT500to700\r\n",
      "/store/user/hats/PyRoot/2017/hatsDijetTrees/hatsTrees_QCD_HT700to1000\r\n",
      "/store/user/hats/PyRoot/2017/hatsDijetTrees/hatsTrees_data\r\n",
      "/store/user/hats/PyRoot/2017/hatsDijetTrees/hatsTrees_sig\r\n"
     ]
    }
   ],
   "source": [
    "!xrdfs root://xrootd.accre.vanderbilt.edu ls /store/user/hats/PyRoot/2017/hatsDijetTrees/ | sort -u"
   ]
  },
  {
   "cell_type": "markdown",
   "metadata": {},
   "source": [
    "If you are interested in using a python script of this sort in batch submission, please see `sample_code/condorSubmission` for an example."
   ]
  },
  {
   "cell_type": "markdown",
   "metadata": {
    "collapsed": true
   },
   "source": [
    ">Please continue on in `backgroundHists.ipynb`."
   ]
  }
 ],
 "metadata": {
  "kernelspec": {
   "display_name": "hats-sci-py",
   "language": "python",
   "name": "hats-sci-py"
  },
  "language_info": {
   "codemirror_mode": {
    "name": "ipython",
    "version": 2
   },
   "file_extension": ".py",
   "mimetype": "text/x-python",
   "name": "python",
   "nbconvert_exporter": "python",
   "pygments_lexer": "ipython2",
   "version": "2.7.15+"
  }
 },
 "nbformat": 4,
 "nbformat_minor": 2
}
